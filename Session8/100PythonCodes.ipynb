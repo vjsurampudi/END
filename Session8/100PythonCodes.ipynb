{
 "cells": [
  {
   "cell_type": "code",
   "execution_count": 4,
   "metadata": {},
   "outputs": [
    {
     "name": "stdout",
     "output_type": "stream",
     "text": [
      "Sum: 18.2\n"
     ]
    }
   ],
   "source": [
    "# 1. write python program to add three numbers \n",
    "a = 1.7\n",
    "b = 6.4\n",
    "c = 10.1\n",
    "sum = a + b + c\n",
    "print(f'Sum: {sum}')"
   ]
  },
  {
   "cell_type": "code",
   "execution_count": 5,
   "metadata": {},
   "outputs": [],
   "source": [
    "# 2. write a python function to add 5 user numbers input by the user and return the sum\n",
    "def add_five_numbers(n1, n2, n3, n4, n5):\n",
    "    sum5 = n1 + n2 + n3 + n4 + n5\n",
    "    return sum5"
   ]
  },
  {
   "cell_type": "code",
   "execution_count": 12,
   "metadata": {},
   "outputs": [
    {
     "name": "stdout",
     "output_type": "stream",
     "text": [
      "largest:260\n"
     ]
    }
   ],
   "source": [
    "# 3. write a program to find and print the largest among 4 numbers\n",
    "n1 = 100\n",
    "n2 = 120\n",
    "n3 = 140\n",
    "n4 = 260\n",
    "\n",
    "if (n1 >= n2) and (n1 >= n3) and (n1 >= n4):\n",
    "    bignum = n1\n",
    "elif (n2 >= n1) and (n2 >= n3) and (n2 >= n4):\n",
    "    bignum = n2\n",
    "elif (n3 >= n1) and (n3 >= n2) and (n3 >= n4):\n",
    "    bignum = n3\n",
    "else:\n",
    "    bignum = n4\n",
    "print(f'largest:{bignum}')"
   ]
  },
  {
   "cell_type": "code",
   "execution_count": 14,
   "metadata": {},
   "outputs": [
    {
     "name": "stdout",
     "output_type": "stream",
     "text": [
      "<class 'int'>\n",
      "<class 'float'>\n"
     ]
    }
   ],
   "source": [
    "# 4. Print the type of a given user input\n",
    "a = 5\n",
    "b = 5.0\n",
    "\n",
    "print(type(a))\n",
    "\n",
    "print(type(b))"
   ]
  },
  {
   "cell_type": "code",
   "execution_count": 15,
   "metadata": {},
   "outputs": [
    {
     "name": "stdout",
     "output_type": "stream",
     "text": [
      "True\n"
     ]
    }
   ],
   "source": [
    "# 5. Print True if the given user input is a complex number\n",
    "c = 5 + 3j\n",
    "print(isinstance(c, complex))"
   ]
  },
  {
   "cell_type": "code",
   "execution_count": 24,
   "metadata": {},
   "outputs": [
    {
     "name": "stdout",
     "output_type": "stream",
     "text": [
      "173\n"
     ]
    }
   ],
   "source": [
    "# 6. Print random integer between specified range\n",
    "import random\n",
    "print(random.randrange(10, 200))"
   ]
  },
  {
   "cell_type": "code",
   "execution_count": 25,
   "metadata": {},
   "outputs": [
    {
     "name": "stdout",
     "output_type": "stream",
     "text": [
      "0.6425832724743871\n"
     ]
    }
   ],
   "source": [
    "# 7. Print random element\n",
    "print(random.random())"
   ]
  },
  {
   "cell_type": "code",
   "execution_count": 26,
   "metadata": {},
   "outputs": [
    {
     "name": "stdout",
     "output_type": "stream",
     "text": [
      "['o', 'g', 'r']\n"
     ]
    }
   ],
   "source": [
    "# 8. Print 3rd to 5th elements from a list of strings\n",
    "\n",
    "my_list = ['p','r','o','g','r','a','m','i','z']\n",
    "\n",
    "# elements 3rd to 5th\n",
    "print(my_list[2:5])"
   ]
  },
  {
   "cell_type": "code",
   "execution_count": null,
   "metadata": {},
   "outputs": [],
   "source": [
    "# 9. Print a list after appending an element\n",
    "odd = [1, 3, 5]\n",
    "\n",
    "odd.append(7)\n",
    "\n",
    "print(odd)"
   ]
  },
  {
   "cell_type": "code",
   "execution_count": 29,
   "metadata": {},
   "outputs": [
    {
     "name": "stdout",
     "output_type": "stream",
     "text": [
      "[1, 3, 5, 2, 4, 6]\n"
     ]
    }
   ],
   "source": [
    "# 10. Print the combined list when two lists are provided\n",
    "odd = [1, 3, 5]\n",
    "\n",
    "even = [2,4,6]\n",
    "\n",
    "odd.extend(even)\n",
    "\n",
    "print(odd)"
   ]
  },
  {
   "cell_type": "code",
   "execution_count": 32,
   "metadata": {},
   "outputs": [
    {
     "name": "stdout",
     "output_type": "stream",
     "text": [
      "['AI', 'of', 'School', 'The']\n"
     ]
    }
   ],
   "source": [
    "#11. Print the elements of the list in reverse order\n",
    "my_list = ['The','School','of','AI']\n",
    "\n",
    "my_list.reverse()\n",
    "\n",
    "print(my_list)"
   ]
  },
  {
   "cell_type": "code",
   "execution_count": 33,
   "metadata": {},
   "outputs": [
    {
     "name": "stdout",
     "output_type": "stream",
     "text": [
      "[1, 4, 8, 10, 100, 1000]\n"
     ]
    }
   ],
   "source": [
    "#12. Print the values of an interger list sorted in ascending order\n",
    "\n",
    "my_list = [100, 10,1, 1000, 4, 8 ]\n",
    "\n",
    "my_list.sort()\n",
    "\n",
    "print(my_list)"
   ]
  },
  {
   "cell_type": "code",
   "execution_count": 35,
   "metadata": {},
   "outputs": [
    {
     "name": "stdout",
     "output_type": "stream",
     "text": [
      "Negative number\n"
     ]
    }
   ],
   "source": [
    "#13. Print if the given number is positive or negative\n",
    "\n",
    "num = -5\n",
    "#num = 0\n",
    "if num >= 0:\n",
    "    print(\"Positive or Zero\")\n",
    "else:\n",
    "    print(\"Negative number\")"
   ]
  },
  {
   "cell_type": "code",
   "execution_count": 36,
   "metadata": {},
   "outputs": [
    {
     "name": "stdout",
     "output_type": "stream",
     "text": [
      "The sum is 48\n"
     ]
    }
   ],
   "source": [
    "#14. Print the sum of all numbers stored in a list\n",
    "\n",
    "# List of numbers\n",
    "numbers = [6, 5, 3, 8, 4, 2, 5, 4, 11]\n",
    "\n",
    "# variable to store the sum\n",
    "sum = 0\n",
    "\n",
    "# iterate over the list\n",
    "for val in numbers:\n",
    "    sum = sum+val\n",
    "\n",
    "print(\"The sum is\", sum)"
   ]
  },
  {
   "cell_type": "code",
   "execution_count": 37,
   "metadata": {},
   "outputs": [
    {
     "name": "stdout",
     "output_type": "stream",
     "text": [
      "I like pop\n",
      "I like rock\n",
      "I like jazz\n"
     ]
    }
   ],
   "source": [
    "#15.Print items of list using indexing\n",
    "\n",
    "genre = ['pop', 'rock', 'jazz']\n",
    "\n",
    "# iterate over the list using index\n",
    "for i in range(len(genre)):\n",
    "    print(\"I like\", genre[i])"
   ]
  },
  {
   "cell_type": "code",
   "execution_count": 38,
   "metadata": {},
   "outputs": [
    {
     "name": "stdout",
     "output_type": "stream",
     "text": [
      "The sum is 5050\n"
     ]
    }
   ],
   "source": [
    "#16. Program to add natural numbers up to n; sum = 1+2+3+...+n\n",
    "\n",
    "n = 100\n",
    "\n",
    "# initialize sum and counter\n",
    "sum = 0\n",
    "i = 1\n",
    "\n",
    "while i <= n:\n",
    "    sum = sum + i\n",
    "    i = i+1    # update counter\n",
    "\n",
    "# print the sum\n",
    "print(\"The sum is\", sum)"
   ]
  },
  {
   "cell_type": "code",
   "execution_count": 39,
   "metadata": {},
   "outputs": [
    {
     "name": "stdout",
     "output_type": "stream",
     "text": [
      "2\n",
      "4\n"
     ]
    }
   ],
   "source": [
    "#17. Write python function to return absolute value of the number\n",
    "\n",
    "def absolute_val(num):\n",
    "    \"\"\"This function returns the absolute\n",
    "    value of the entered number\"\"\"\n",
    "\n",
    "    if num >= 0:\n",
    "        return num\n",
    "    else:\n",
    "        return -num\n",
    "\n",
    "\n",
    "print(absolute_val(2))\n",
    "\n",
    "print(absolute_val(-4))"
   ]
  },
  {
   "cell_type": "code",
   "execution_count": 41,
   "metadata": {},
   "outputs": [
    {
     "name": "stdout",
     "output_type": "stream",
     "text": [
      "The factorial of 10 is 3628800\n"
     ]
    }
   ],
   "source": [
    "#18. Write python function to find factorial of a given number\n",
    "\n",
    "def factorial(x):\n",
    "    \"\"\"This is a recursive function\n",
    "    to find the factorial of an integer\"\"\"\n",
    "\n",
    "    if x == 1:\n",
    "        return 1\n",
    "    else:\n",
    "        return (x * factorial(x-1))\n",
    "\n",
    "\n",
    "num = 10\n",
    "print(\"The factorial of\", num, \"is\", factorial(num))"
   ]
  },
  {
   "cell_type": "code",
   "execution_count": 42,
   "metadata": {},
   "outputs": [
    {
     "name": "stdout",
     "output_type": "stream",
     "text": [
      "[4, 6, 8, 12]\n"
     ]
    }
   ],
   "source": [
    "#19. Print  after filter out only the even items from a list\n",
    "my_list = [1, 5, 4, 6, 8, 11, 3, 12]\n",
    "\n",
    "new_list = list(filter(lambda x: (x%2 == 0) , my_list))\n",
    "\n",
    "print(new_list)"
   ]
  },
  {
   "cell_type": "code",
   "execution_count": 43,
   "metadata": {},
   "outputs": [
    {
     "name": "stdout",
     "output_type": "stream",
     "text": [
      "[2, 10, 8, 12, 16, 22, 6, 24]\n"
     ]
    }
   ],
   "source": [
    "#20. Print each element of the list after doubling each item in a list using map()\n",
    "\n",
    "my_list = [1, 5, 4, 6, 8, 11, 3, 12]\n",
    "\n",
    "new_list = list(map(lambda x: x * 2 , my_list))\n",
    "\n",
    "print(new_list)"
   ]
  },
  {
   "cell_type": "code",
   "execution_count": 44,
   "metadata": {},
   "outputs": [
    {
     "name": "stdout",
     "output_type": "stream",
     "text": [
      "[1, 2, 4, 8, 16, 32, 64, 128, 256, 512]\n"
     ]
    }
   ],
   "source": [
    "#21. Print each item of list after doubling it\n",
    "pow2 = [2 ** x for x in range(10)]\n",
    "print(pow2)"
   ]
  },
  {
   "cell_type": "code",
   "execution_count": 50,
   "metadata": {},
   "outputs": [
    {
     "name": "stdout",
     "output_type": "stream",
     "text": [
      "('r', 'o', 'g')\n"
     ]
    }
   ],
   "source": [
    "#22. Print 3 tuple elements starting from 2nd element using slicing\n",
    "my_tuple = ('p','r','o','g','r','a','m','i','s')\n",
    "\n",
    "print(my_tuple[1:4])"
   ]
  },
  {
   "cell_type": "code",
   "execution_count": 49,
   "metadata": {},
   "outputs": [
    {
     "name": "stdout",
     "output_type": "stream",
     "text": [
      "3\n"
     ]
    }
   ],
   "source": [
    "#23. print count of alphabets in a tuple\n",
    "\n",
    "my_tuple = ('a', 'p', 'p', 'l','e','i','p','h','o','n','e')\n",
    "\n",
    "print(my_tuple.count('p')) "
   ]
  },
  {
   "cell_type": "code",
   "execution_count": 51,
   "metadata": {},
   "outputs": [
    {
     "name": "stdout",
     "output_type": "stream",
     "text": [
      "HelloWorld\n"
     ]
    }
   ],
   "source": [
    "#24. print two strings after concatenation\n",
    "\n",
    "string1 = \"Hello\"\n",
    "string2 = 'World'\n",
    "print(string1 + string2)"
   ]
  },
  {
   "cell_type": "code",
   "execution_count": 52,
   "metadata": {},
   "outputs": [
    {
     "name": "stdout",
     "output_type": "stream",
     "text": [
      "HelloHelloHelloHelloHello\n"
     ]
    }
   ],
   "source": [
    "#25. print same string 5 times\n",
    "\n",
    "string1 = \"Hello\"\n",
    "print(5*string1)"
   ]
  },
  {
   "cell_type": "code",
   "execution_count": 53,
   "metadata": {},
   "outputs": [
    {
     "name": "stdout",
     "output_type": "stream",
     "text": [
      "3 letters found\n"
     ]
    }
   ],
   "source": [
    "#26. print number of times a letter is present in a string\n",
    "\n",
    "count = 0\n",
    "for letter in 'Hello World':\n",
    "    if(letter == 'l'):\n",
    "        count += 1\n",
    "print(count,'letters found')"
   ]
  },
  {
   "cell_type": "code",
   "execution_count": 54,
   "metadata": {},
   "outputs": [
    {
     "name": "stdout",
     "output_type": "stream",
     "text": [
      "['Andrew', 'Danny', 'Harsh']\n"
     ]
    }
   ],
   "source": [
    "#27. Print Sorted list of strings alphabetically\n",
    "Students = ['Harsh', 'Andrew', 'Danny']\n",
    "Students.sort()\n",
    "print(Students)"
   ]
  },
  {
   "cell_type": "code",
   "execution_count": 55,
   "metadata": {},
   "outputs": [
    {
     "name": "stdout",
     "output_type": "stream",
     "text": [
      "['Danny', 'Andrew', 'Harsh']\n"
     ]
    }
   ],
   "source": [
    "#28. Print after Reversing the elements in the list\n",
    "Students = ['Harsh', 'Andrew', 'Danny']\n",
    "Students.reverse()\n",
    "print(Students)"
   ]
  },
  {
   "cell_type": "code",
   "execution_count": 56,
   "metadata": {},
   "outputs": [
    {
     "name": "stdout",
     "output_type": "stream",
     "text": [
      "2\n"
     ]
    }
   ],
   "source": [
    "#29. Print index of one element in the list\n",
    "Students = ['Harsh','Andrew','Danny','Ritesh','Meena']\n",
    "print(Students.index('Danny'))"
   ]
  },
  {
   "cell_type": "code",
   "execution_count": 60,
   "metadata": {},
   "outputs": [
    {
     "name": "stdout",
     "output_type": "stream",
     "text": [
      "[4, 5, 6]\n"
     ]
    }
   ],
   "source": [
    "#30. print list of numbers after removing the duplicates\n",
    "\n",
    "mylist = [4, 5, 6, 5, 4]\n",
    "uniqueList = []\n",
    "for elem in mylist:\n",
    "    if elem not in uniqueList:\n",
    "        uniqueList.append(elem)\n",
    "print(uniqueList)"
   ]
  },
  {
   "cell_type": "code",
   "execution_count": 61,
   "metadata": {},
   "outputs": [
    {
     "name": "stdout",
     "output_type": "stream",
     "text": [
      "[1, 4, 9, 16, 25, 36, 49, 64, 81, 100]\n"
     ]
    }
   ],
   "source": [
    "#31 print squares of numbers from 1 to 11\n",
    "squares = [value**2 for value in range(1,11)]\n",
    "print(squares)"
   ]
  },
  {
   "cell_type": "code",
   "execution_count": 63,
   "metadata": {},
   "outputs": [
    {
     "name": "stdout",
     "output_type": "stream",
     "text": [
      "Unique List:\n",
      "['Reyan', 'Vicky', 'Mark', 'Steve', 'Vijay']\n"
     ]
    }
   ],
   "source": [
    "#32 Write a program to remove duplicates from the list of students participating in the sports day.\n",
    "\n",
    "Student_Players = ['Reyan','Vicky','Mark','Steve','Mark','Reyan','Vijay']\n",
    " \n",
    "unique_List=[]\n",
    " \n",
    "for student in Student_Players:\n",
    "    if student not in unique_List:\n",
    "        unique_List.append(student)\n",
    "\n",
    "print(\"Unique List:\")\n",
    "print(unique_List)"
   ]
  },
  {
   "cell_type": "code",
   "execution_count": 64,
   "metadata": {},
   "outputs": [
    {
     "name": "stdout",
     "output_type": "stream",
     "text": [
      "* \r\n",
      "* * \r\n",
      "* * * \r\n",
      "* * * * \r\n",
      "* * * * * \r\n"
     ]
    }
   ],
   "source": [
    "#33 Write program to print * in a simple pyramid pattern\n",
    "\n",
    "def pypart(n): \n",
    "      \n",
    "    # outer loop to handle number of rows \n",
    "    # n in this case \n",
    "    for i in range(0, n): \n",
    "      \n",
    "        # inner loop to handle number of columns \n",
    "        # values changing acc. to outer loop \n",
    "        for j in range(0, i+1): \n",
    "          \n",
    "            # printing stars \n",
    "            print(\"* \",end=\"\") \n",
    "       \n",
    "        # ending line after each row \n",
    "        print(\"\\r\") \n",
    "  \n",
    "\n",
    "n = 5\n",
    "pypart(n) "
   ]
  },
  {
   "cell_type": "code",
   "execution_count": 65,
   "metadata": {},
   "outputs": [
    {
     "name": "stdout",
     "output_type": "stream",
     "text": [
      "        * \r\n",
      "      * * \r\n",
      "    * * * \r\n",
      "  * * * * \r\n",
      "* * * * * \r\n"
     ]
    }
   ],
   "source": [
    "#34 Write program to print * in a reversed pyramid pattern\n",
    "def pypart2(n): \n",
    "      \n",
    "    # number of spaces \n",
    "    k = 2*n - 2\n",
    "  \n",
    "    # outer loop to handle number of rows \n",
    "    for i in range(0, n): \n",
    "      \n",
    "        # inner loop to handle number spaces \n",
    "        # values changing acc. to requirement \n",
    "        for j in range(0, k): \n",
    "            print(end=\" \") \n",
    "      \n",
    "        # decrementing k after each loop \n",
    "        k = k - 2\n",
    "      \n",
    "        # inner loop to handle number of columns \n",
    "        # values changing acc. to outer loop \n",
    "        for j in range(0, i+1): \n",
    "          \n",
    "            # printing stars \n",
    "            print(\"* \", end=\"\") \n",
    "      \n",
    "        # ending line after each row \n",
    "        print(\"\\r\") \n",
    "n = 5\n",
    "pypart2(n) "
   ]
  },
  {
   "cell_type": "code",
   "execution_count": 66,
   "metadata": {},
   "outputs": [
    {
     "name": "stdout",
     "output_type": "stream",
     "text": [
      "        * \r\n",
      "       * * \r\n",
      "      * * * \r\n",
      "     * * * * \r\n",
      "    * * * * * \r\n"
     ]
    }
   ],
   "source": [
    "#35 Write program to print * in triangle pattern\n",
    "\n",
    "def triangle(n): \n",
    "      \n",
    "    # number of spaces \n",
    "    k = 2*n - 2\n",
    "  \n",
    "    # outer loop to handle number of rows \n",
    "    for i in range(0, n): \n",
    "      \n",
    "        # inner loop to handle number spaces \n",
    "        # values changing acc. to requirement \n",
    "        for j in range(0, k): \n",
    "            print(end=\" \") \n",
    "      \n",
    "        # decrementing k after each loop \n",
    "        k = k - 1\n",
    "      \n",
    "        # inner loop to handle number of columns \n",
    "        # values changing acc. to outer loop \n",
    "        for j in range(0, i+1): \n",
    "          \n",
    "            # printing stars \n",
    "            print(\"* \", end=\"\") \n",
    "      \n",
    "        # ending line after each row \n",
    "        print(\"\\r\") \n",
    "n = 5\n",
    "triangle(n) "
   ]
  },
  {
   "cell_type": "code",
   "execution_count": 67,
   "metadata": {},
   "outputs": [
    {
     "name": "stdout",
     "output_type": "stream",
     "text": [
      "1 \r\n",
      "1 2 \r\n",
      "1 2 3 \r\n",
      "1 2 3 4 \r\n",
      "1 2 3 4 5 \r\n"
     ]
    }
   ],
   "source": [
    "#36 Write program to print number is pyramid pattern\n",
    "def numpat(n): \n",
    "      \n",
    "    # initialising starting number  \n",
    "    num = 1\n",
    "  \n",
    "    # outer loop to handle number of rows \n",
    "    for i in range(0, n): \n",
    "      \n",
    "        # re assigning num \n",
    "        num = 1\n",
    "      \n",
    "        # inner loop to handle number of columns \n",
    "            # values changing acc. to outer loop \n",
    "        for j in range(0, i+1): \n",
    "          \n",
    "                # printing number \n",
    "            print(num, end=\" \") \n",
    "          \n",
    "            # incrementing number at each column \n",
    "            num = num + 1\n",
    "      \n",
    "        # ending line after each row \n",
    "        print(\"\\r\") \n",
    "\n",
    "n = 5\n",
    "numpat(n) "
   ]
  },
  {
   "cell_type": "code",
   "execution_count": 68,
   "metadata": {},
   "outputs": [
    {
     "name": "stdout",
     "output_type": "stream",
     "text": [
      "1 \r\n",
      "2 3 \r\n",
      "4 5 6 \r\n",
      "7 8 9 10 \r\n",
      "11 12 13 14 15 \r\n",
      "16 17 18 19 20 21 \r\n",
      "22 23 24 25 26 27 28 \r\n",
      "29 30 31 32 33 34 35 36 \r\n",
      "37 38 39 40 41 42 43 44 45 \r\n",
      "46 47 48 49 50 51 52 53 54 55 \r\n"
     ]
    }
   ],
   "source": [
    "#37 Write program to print numbers continuously is pyramid pattern\n",
    "def contnum(n): \n",
    "      \n",
    "    # initializing starting number  \n",
    "    num = 1\n",
    "  \n",
    "    # outer loop to handle number of rows \n",
    "    for i in range(0, n): \n",
    "      \n",
    "        # not re assigning num \n",
    "        # num = 1 \n",
    "      \n",
    "        # inner loop to handle number of columns \n",
    "        # values changing acc. to outer loop \n",
    "        for j in range(0, i+1): \n",
    "          \n",
    "            # printing number \n",
    "            print(num, end=\" \") \n",
    "          \n",
    "            # incrementing number at each column \n",
    "            num = num + 1\n",
    "      \n",
    "        # ending line after each row \n",
    "        print(\"\\r\") \n",
    "\n",
    "n = 10\n",
    "contnum(n)"
   ]
  },
  {
   "cell_type": "code",
   "execution_count": 70,
   "metadata": {},
   "outputs": [
    {
     "name": "stdout",
     "output_type": "stream",
     "text": [
      "F \r\n",
      "G G \r\n",
      "H H H \r\n",
      "I I I I \r\n",
      "J J J J J \r\n",
      "K K K K K K \r\n",
      "L L L L L L L \r\n",
      "M M M M M M M M \r\n",
      "N N N N N N N N N \r\n",
      "O O O O O O O O O O \r\n"
     ]
    }
   ],
   "source": [
    "#38 Write a program to print Alphabets in pyramid pattern\n",
    "\n",
    "def alphapat(n): \n",
    "      \n",
    "    # initializing value corresponding to 'A'  \n",
    "    # ASCII value \n",
    "    num = 70\n",
    "  \n",
    "    # outer loop to handle number of rows \n",
    "    # 5 in this case \n",
    "    for i in range(0, n): \n",
    "      \n",
    "        # inner loop to handle number of columns \n",
    "        # values changing acc. to outer loop \n",
    "        for j in range(0, i+1): \n",
    "          \n",
    "            # explicitely converting to char \n",
    "            ch = chr(num) \n",
    "          \n",
    "            # printing char value  \n",
    "            print(ch, end=\" \") \n",
    "      \n",
    "        # incrementing number \n",
    "        num = num + 1\n",
    "      \n",
    "        # ending line after each row \n",
    "        print(\"\\r\") \n",
    "\n",
    "n = 10\n",
    "alphapat(n) "
   ]
  },
  {
   "cell_type": "code",
   "execution_count": 73,
   "metadata": {},
   "outputs": [
    {
     "name": "stdout",
     "output_type": "stream",
     "text": [
      "A \r\n",
      "B C \r\n",
      "D E F \r\n",
      "G H I J \r\n",
      "K L M N O \r\n",
      "P Q R S T U \r\n"
     ]
    }
   ],
   "source": [
    "#39 Write program to print alphabets continuously in pyramid pattern\n",
    "\n",
    "def  contalpha(n): \n",
    "      \n",
    "    # initializing value corresponding to 'A'  \n",
    "    # ASCII value \n",
    "    num = 65\n",
    "  \n",
    "    # outer loop to handle number of rows \n",
    "    for i in range(0, n): \n",
    "      \n",
    "        # inner loop to handle number of columns \n",
    "        # values changing acc. to outer loop \n",
    "        for j in range(0, i+1): \n",
    "          \n",
    "            # explicitely converting to char \n",
    "            ch = chr(num) \n",
    "          \n",
    "            # printing char value  \n",
    "            print(ch, end=\" \") \n",
    "          \n",
    "            # incrementing at each column \n",
    "            num = num +1\n",
    "      \n",
    "      \n",
    "        # ending line after each row \n",
    "        print(\"\\r\") \n",
    "\n",
    "n = 6\n",
    "contalpha(n) "
   ]
  },
  {
   "cell_type": "code",
   "execution_count": 74,
   "metadata": {},
   "outputs": [
    {
     "name": "stdout",
     "output_type": "stream",
     "text": [
      "* * * * * *  \n",
      "* * * * *  \n",
      "* * * *  \n",
      "* * *  \n",
      "* *  \n",
      "*  \n",
      " \n"
     ]
    }
   ],
   "source": [
    "#40 Write a program to print * in downward half of pyramid\n",
    "rows = 6\n",
    "for i in range(rows + 1, 0, -1):    \n",
    "    for j in range(0, i - 1):  \n",
    "        print(\"*\", end=' ')  \n",
    "    print(\" \") "
   ]
  },
  {
   "cell_type": "code",
   "execution_count": 75,
   "metadata": {},
   "outputs": [
    {
     "name": "stdout",
     "output_type": "stream",
     "text": [
      "                  *   \n",
      "                 *  *   \n",
      "                *  *  *   \n",
      "               *  *  *  *   \n",
      "              *  *  *  *  *   \n",
      "             *  *  *  *  *  *   \n",
      "            *  *  *  *  *  *  *   \n",
      "           *  *  *  *  *  *  *  *   \n",
      "          *  *  *  *  *  *  *  *  *   \n",
      "         *  *  *  *  *  *  *  *  *  *   \n"
     ]
    }
   ],
   "source": [
    "#41 Write a program to print * in triangle pattern\n",
    "n = 10\n",
    "m = (2 * n) - 2  \n",
    "for i in range(0, n):  \n",
    "    for j in range(0, m):  \n",
    "        print(end=\" \")  \n",
    "    m = m - 1  # decrementing m after each loop  \n",
    "    for j in range(0, i + 1):  \n",
    "        # printing full Triangle pyramid using stars  \n",
    "        print(\"* \", end=' ')  \n",
    "    print(\" \")  "
   ]
  },
  {
   "cell_type": "code",
   "execution_count": 76,
   "metadata": {},
   "outputs": [
    {
     "name": "stdout",
     "output_type": "stream",
     "text": [
      "                  * * * * * * * * * * * \n",
      "                   * * * * * * * * * * \n",
      "                    * * * * * * * * * \n",
      "                     * * * * * * * * \n",
      "                      * * * * * * * \n",
      "                       * * * * * * \n",
      "                        * * * * * \n",
      "                         * * * * \n",
      "                          * * * \n",
      "                           * * \n",
      "                            * \n"
     ]
    }
   ],
   "source": [
    "#42 Write program to print * in downward triangle pattern\n",
    "\n",
    "rows = 10\n",
    "# It is used to print space  \n",
    "k = 2 * rows - 2  \n",
    "# Outer loop in reverse order  \n",
    "for i in range(rows, -1, -1):  \n",
    "    # Inner loop will print the number of space.  \n",
    "    for j in range(k, 0, -1):  \n",
    "        print(end=\" \")  \n",
    "    k = k + 1  \n",
    "    # This inner loop will print the number o stars  \n",
    "    for j in range(0, i + 1):  \n",
    "        print(\"*\", end=\" \")  \n",
    "    print(\"\") "
   ]
  },
  {
   "cell_type": "code",
   "execution_count": 79,
   "metadata": {},
   "outputs": [
    {
     "name": "stdout",
     "output_type": "stream",
     "text": [
      "                  * \n",
      "                 * * \n",
      "                * * * \n",
      "               * * * * \n",
      "              * * * * * \n",
      "             * * * * * * \n",
      "            * * * * * * * \n",
      "           * * * * * * * * \n",
      "          * * * * * * * * * \n",
      "         * * * * * * * * * * \n",
      "        * * * * * * * * * * * \n",
      "         * * * * * * * * * * \n",
      "          * * * * * * * * * \n",
      "           * * * * * * * * \n",
      "            * * * * * * * \n",
      "             * * * * * * \n",
      "              * * * * * \n",
      "               * * * * \n",
      "                * * * \n",
      "                 * * \n",
      "                  * \n"
     ]
    }
   ],
   "source": [
    "#43 Write program to print * in diamond pattern\n",
    "\n",
    "rows = 10\n",
    "k = 2 * rows - 2  \n",
    "# Outer loop to print number of rows  \n",
    "for i in range(0, rows):  \n",
    "    # Inner loop is used to print number of space  \n",
    "    for j in range(0, k):  \n",
    "        print(end=\" \")  \n",
    "    # Decrement in k after each iteration  \n",
    "    k = k - 1  \n",
    "    # This inner loop is used to print stars  \n",
    "    for j in range(0, i + 1):  \n",
    "        print(\"* \", end=\"\")  \n",
    "    print(\"\")  \n",
    "\n",
    "k = rows - 2  \n",
    "# Output for downward triangle pyramid  \n",
    "for i in range(rows, -1, -1):  \n",
    "    # inner loop will print the spaces  \n",
    "    for j in range(k, 0, -1):  \n",
    "        print(end=\" \")  \n",
    "    # Increment in k after each iteration  \n",
    "    k = k + 1  \n",
    "    # This inner loop will print number of stars  \n",
    "    for j in range(0, i + 1):  \n",
    "        print(\"* \", end=\"\")  \n",
    "    print(\"\")  "
   ]
  },
  {
   "cell_type": "code",
   "execution_count": 80,
   "metadata": {},
   "outputs": [
    {
     "name": "stdout",
     "output_type": "stream",
     "text": [
      "*  \n",
      "* *  \n",
      "* * *  \n",
      "* * * *  \n",
      "* * * * *  \n",
      "* * * * * *  \n",
      "* * * * * * *  \n",
      "* * * * * * *  \n",
      "* * * * * *  \n",
      "* * * * *  \n",
      "* * * *  \n",
      "* * *  \n",
      "* *  \n",
      "*  \n",
      " \n"
     ]
    }
   ],
   "source": [
    "#44 Write program to print * as two pyramid in a single pattern\n",
    "\n",
    "rows = 7  \n",
    "  \n",
    "# Outer loop will print the number of rows  \n",
    "for i in range(0, rows):  \n",
    "    # This inner loop will print the stars  \n",
    "    for j in range(0, i + 1):  \n",
    "        print(\"*\", end=' ')  \n",
    "    # Change line after each iteration  \n",
    "    print(\" \")  \n",
    "# For second pattern  \n",
    "for i in range(rows + 1, 0, -1):  \n",
    "    for j in range(0, i - 1):  \n",
    "        print(\"*\", end=' ')  \n",
    "    print(\" \")  "
   ]
  },
  {
   "cell_type": "code",
   "execution_count": 90,
   "metadata": {},
   "outputs": [
    {
     "name": "stdout",
     "output_type": "stream",
     "text": [
      "   * * * * * * \n",
      "    * * * * * \n",
      "     * * * * \n",
      "      * * * \n",
      "       * * \n",
      "        * \n",
      "        * \n",
      "       * * \n",
      "      * * * \n",
      "     * * * * \n",
      "    * * * * * \n",
      "   * * * * * * \n"
     ]
    }
   ],
   "source": [
    "#45 Write program to print * as hour glass pattern\n",
    "\n",
    "rows = 5\n",
    "k = rows - 2  \n",
    "# This is used to print the downward pyramid  \n",
    "for i in range(rows, -1 , -1):  \n",
    "    for j in range(k , 0 , -1):  \n",
    "        print(end=\" \")  \n",
    "    k = k + 1  \n",
    "    for j in range(0, i+1):  \n",
    "        print(\"* \" , end=\"\")  \n",
    "    print()  \n",
    "\n",
    "k = 2*rows- 2  \n",
    "for i in range(0 , rows+1):  \n",
    "    for j in range(0 , k):  \n",
    "        print(end=\" \")  \n",
    "    k = k - 1  \n",
    "    for j in range(0, i + 1):  \n",
    "        print(\"* \", end=\"\")  \n",
    "    print()  "
   ]
  },
  {
   "cell_type": "code",
   "execution_count": 84,
   "metadata": {},
   "outputs": [
    {
     "name": "stdout",
     "output_type": "stream",
     "text": [
      " \n",
      "1  \n",
      "2 2  \n",
      "3 3 3  \n",
      "4 4 4 4  \n",
      "5 5 5 5 5  \n",
      "6 6 6 6 6 6  \n",
      "7 7 7 7 7 7 7  \n"
     ]
    }
   ],
   "source": [
    "#46 Write program to print numbers in half pyramid pattern\n",
    "rows = 7\n",
    "# Outer loop will print number of rows  \n",
    "for i in range(rows+1):  \n",
    "    # Inner loop will print the value of i after each iteration  \n",
    "    for j in range(i):  \n",
    "        print(i, end=\" \")  # print number  \n",
    "    # line after each row to display pattern correctly  \n",
    "    print(\" \")  "
   ]
  },
  {
   "cell_type": "code",
   "execution_count": 86,
   "metadata": {},
   "outputs": [
    {
     "name": "stdout",
     "output_type": "stream",
     "text": [
      "1 \n",
      "1 2 \n",
      "1 2 3 \n",
      "1 2 3 4 \n",
      "1 2 3 4 5 \n",
      "1 2 3 4 5 6 \n",
      "1 2 3 4 5 6 7 \n"
     ]
    }
   ],
   "source": [
    "#47 Write program with Half pyramid pattern with the numbers\n",
    "\n",
    "rows = 7\n",
    "# This will print the rows  \n",
    "for i in range(1, rows+1):  \n",
    "    # This will print number of column  \n",
    "    for j in range(1, i + 1):  \n",
    "        print(j, end=' ')  \n",
    "    print(\"\")  "
   ]
  },
  {
   "cell_type": "code",
   "execution_count": 91,
   "metadata": {},
   "outputs": [
    {
     "name": "stdout",
     "output_type": "stream",
     "text": [
      "1 1 1 1 1 1 1 \n",
      "2 2 2 2 2 2 \n",
      "3 3 3 3 3 \n",
      "4 4 4 4 \n",
      "5 5 5 \n",
      "6 6 \n",
      "7 \n"
     ]
    }
   ],
   "source": [
    "#48 Write program with inverted pyramid pattern with the numbers\n",
    "\n",
    "rows = 7  \n",
    "k = 0  \n",
    "# Reversed loop for downward inverted pattern  \n",
    "for i in range(rows, 0, -1):  \n",
    "    # Increment in k after each iteration  \n",
    "    k += 1  \n",
    "    for j in range(1, i + 1):  \n",
    "        print(k, end=' ')  \n",
    "    print()  "
   ]
  },
  {
   "cell_type": "code",
   "execution_count": 92,
   "metadata": {},
   "outputs": [
    {
     "name": "stdout",
     "output_type": "stream",
     "text": [
      "7 7 7 7 7 7 7 \n",
      "7 7 7 7 7 7 \n",
      "7 7 7 7 7 \n",
      "7 7 7 7 \n",
      "7 7 7 \n",
      "7 7 \n",
      "7 \n"
     ]
    }
   ],
   "source": [
    "#49 Write program with inverted pyramid pattern with same number\n",
    "rows = 7 \n",
    "# rows value assign to n variable  \n",
    "n = rows  \n",
    "# Download reversed loop  \n",
    "for i in range(rows, 0, -1):  \n",
    "    for j in range(0, i):  \n",
    "        # this will print the same number  \n",
    "        print(n, end=' ')  \n",
    "    print()  "
   ]
  },
  {
   "cell_type": "code",
   "execution_count": 93,
   "metadata": {},
   "outputs": [
    {
     "name": "stdout",
     "output_type": "stream",
     "text": [
      "8 8 8 8 8 8 8 8 \r\n",
      "7 7 7 7 7 7 7 \r\n",
      "6 6 6 6 6 6 \r\n",
      "5 5 5 5 5 \r\n",
      "4 4 4 4 \r\n",
      "3 3 3 \r\n",
      "2 2 \r\n",
      "1 \r\n"
     ]
    }
   ],
   "source": [
    "#50 Write program with inverted pyramid pattern in descending order\n",
    "\n",
    "rows = 8\n",
    "\n",
    "for i in range(rows, 0, -1):  \n",
    "    n = i   # assign value to n of i after each iteration  \n",
    "    for j in range(0, i):  \n",
    "        # print reduced value in each new line  \n",
    "        print(n, end=' ')  \n",
    "    print(\"\\r\") "
   ]
  },
  {
   "cell_type": "code",
   "execution_count": 97,
   "metadata": {},
   "outputs": [
    {
     "name": "stdout",
     "output_type": "stream",
     "text": [
      "9 9 9 9 9 9 9 9 9 \r\n",
      "8 8 8 8 8 8 8 8 \r\n",
      "7 7 7 7 7 7 7 \r\n",
      "6 6 6 6 6 6 \r\n",
      "5 5 5 5 5 \r\n",
      "4 4 4 4 \r\n",
      "3 3 3 \r\n",
      "2 2 \r\n",
      "1 \r\n"
     ]
    }
   ],
   "source": [
    "#51 Write program to print reverse pattern from 1 to 9\n",
    "\n",
    "rows = 9 \n",
    "# Downward loop for inverse loop  \n",
    "for i in range(rows, 0, -1):  \n",
    "    n = i   # assign value to n of i after each iteration  \n",
    "    for j in range(0, i):  \n",
    "        # print reduced value in each new line  \n",
    "        print(n, end=' ')  \n",
    "    print(\"\\r\") "
   ]
  },
  {
   "cell_type": "code",
   "execution_count": 99,
   "metadata": {},
   "outputs": [
    {
     "name": "stdout",
     "output_type": "stream",
     "text": [
      "1 \n",
      "3 3 \n",
      "5 5 5 \n",
      "7 7 7 7 \n",
      "9 9 9 9 9 \n"
     ]
    }
   ],
   "source": [
    "#52 Write program to print odd numbers in half pyramid pattern\n",
    "\n",
    "rows = 5\n",
    "i = 1  \n",
    "# outer file loop to print number of rows  \n",
    "while i <= rows:  \n",
    "    j = 1  \n",
    "    # Check the column after each iteration  \n",
    "    while j <= i:  \n",
    "        # print odd values  \n",
    "        print((i * 2 - 1), end=\" \")  \n",
    "        j = j + 1  \n",
    "    i = i + 1  \n",
    "    print()  "
   ]
  },
  {
   "cell_type": "code",
   "execution_count": 100,
   "metadata": {},
   "outputs": [
    {
     "name": "stdout",
     "output_type": "stream",
     "text": [
      "1 2 3 4 5 \n",
      "2 2 3 4 5 \n",
      "3 3 3 4 5 \n",
      "4 4 4 4 5 \n",
      "5 5 5 5 5 \n"
     ]
    }
   ],
   "source": [
    "#53 Write program to pring Square Pattern using with number\n",
    "rows = 5\n",
    "for i in range(1, rows + 1):  \n",
    "    for j in range(1, rows + 1):  \n",
    "        # Check condition if value of j is smaller or equal than  \n",
    "        # the j then print i otherwise print j  \n",
    "        if j <= i:  \n",
    "            print(i, end=' ')  \n",
    "        else:  \n",
    "            print(j, end=' ')  \n",
    "    print()"
   ]
  },
  {
   "cell_type": "code",
   "execution_count": 103,
   "metadata": {},
   "outputs": [
    {
     "name": "stdout",
     "output_type": "stream",
     "text": [
      "1  \n",
      "2  4  \n",
      "3  6  9  \n",
      "4  8  12  16  \n",
      "5  10  15  20  25  \n"
     ]
    }
   ],
   "source": [
    "#54 Write program to print multiplication tables in column\n",
    "rows = 6\n",
    "for i in range(1, rows):  \n",
    "    for j in range(1, i + 1):  \n",
    "        # It prints multiplication or row and column  \n",
    "        print(i * j, end='  ')  \n",
    "    print()  "
   ]
  },
  {
   "cell_type": "code",
   "execution_count": 106,
   "metadata": {},
   "outputs": [
    {
     "name": "stdout",
     "output_type": "stream",
     "text": [
      "The unsorted list is: [10, 5, 13, 8, 2, 0, 100]\n",
      "The sorted list1 is: [0, 2, 5, 8, 10, 13, 100]\n"
     ]
    }
   ],
   "source": [
    "#55 Write a program to sort list using insertion sort\n",
    "\n",
    "# creating a function for insertion  \n",
    "def insertion_sort(list1):  \n",
    "  \n",
    "        # Outer loop to traverse through 1 to len(list1)  \n",
    "        for i in range(1, len(list1)):  \n",
    "  \n",
    "            value = list1[i]  \n",
    "  \n",
    "            # Move elements of list1[0..i-1], that are  \n",
    "            # greater than value, to one position ahead  \n",
    "            # of their current position  \n",
    "            j = i - 1  \n",
    "            while j >= 0 and value < list1[j]:  \n",
    "                list1[j + 1] = list1[j]  \n",
    "                j -= 1  \n",
    "            list1[j + 1] = value  \n",
    "        return list1  \n",
    "            # Driver code to test above  \n",
    "\n",
    "my_list = [10, 5, 13, 8, 2, 0, 100]  \n",
    "print(\"The unsorted list is:\", my_list)  \n",
    "  \n",
    "print(\"The sorted list1 is:\", insertion_sort(my_list))  "
   ]
  },
  {
   "cell_type": "code",
   "execution_count": 109,
   "metadata": {},
   "outputs": [
    {
     "name": "stdout",
     "output_type": "stream",
     "text": [
      "[1, 3, 6, 10, 15, 21, 28, 36, 45, 55]\n"
     ]
    }
   ],
   "source": [
    "#56 Write a program to print cumulative sum of numbers in a list\n",
    "\n",
    "list=[1, 2, 3, 4, 5, 6, 7, 8, 9, 10]  \n",
    "cum_list=[]   \n",
    "y = 0  \n",
    "for x in range(0,len(list)):  \n",
    "    y+=list[x]  \n",
    "    cum_list.append(y)   \n",
    "      \n",
    "print(cum_list)  "
   ]
  },
  {
   "cell_type": "code",
   "execution_count": 115,
   "metadata": {},
   "outputs": [
    {
     "name": "stdout",
     "output_type": "stream",
     "text": [
      "This value is a palindrome number!\n"
     ]
    }
   ],
   "source": [
    "#57 Write a program to check if given number is a palindrome or not\n",
    "\n",
    "Num = 2551  \n",
    "temp = num  \n",
    "rev = 0  \n",
    "while(num > 0):  \n",
    "    dig = num % 10  \n",
    "    rev = rev * 10 + dig  \n",
    "    num = num // 10  \n",
    "if(temp == rev):  \n",
    "    print(\"This value is a palindrome number!\")  \n",
    "else:  \n",
    "    print(\"This value is not a palindrome number!\")  "
   ]
  },
  {
   "cell_type": "code",
   "execution_count": 116,
   "metadata": {},
   "outputs": [
    {
     "name": "stdout",
     "output_type": "stream",
     "text": [
      "The list1 and list2 are equal\n"
     ]
    }
   ],
   "source": [
    "#58 Write a program to compare two lists\n",
    "\n",
    "list1 = [11, 12, 13, 14, 15]  \n",
    "list2 = [12, 13, 11, 15, 14]  \n",
    "  \n",
    "a = set(list1)  \n",
    "b = set(list2)  \n",
    "  \n",
    "if a == b:  \n",
    "    print(\"The list1 and list2 are equal\")  \n",
    "else:  \n",
    "    print(\"The list1 and list2 are not equal\")  "
   ]
  },
  {
   "cell_type": "code",
   "execution_count": 117,
   "metadata": {},
   "outputs": [
    {
     "name": "stdout",
     "output_type": "stream",
     "text": [
      "The reverse number is : 7654321\n"
     ]
    }
   ],
   "source": [
    "#59 Write a program to reverse a number\n",
    "\n",
    "# Ask for enter the number from the use  \n",
    "number = 1234567  \n",
    "  \n",
    "# Initiate value to null  \n",
    "revs_number = 0  \n",
    "  \n",
    "# reverse the integer number using the while loop  \n",
    "  \n",
    "while (number > 0):  \n",
    "    # Logic  \n",
    "    remainder = number % 10  \n",
    "    revs_number = (revs_number * 10) + remainder  \n",
    "    number = number // 10  \n",
    "    \n",
    "print(\"The reverse number is : {}\".format(revs_number))  "
   ]
  },
  {
   "cell_type": "code",
   "execution_count": 119,
   "metadata": {},
   "outputs": [
    {
     "name": "stdout",
     "output_type": "stream",
     "text": [
      "Element is present at index 4\n"
     ]
    }
   ],
   "source": [
    "#60 Write a program to search given element in list using binary search\n",
    "\n",
    "# Iterative Binary Search Function method Python Implementation  \n",
    "# It returns index of n in given list1 if present,   \n",
    "# else returns -1   \n",
    "def binary_search(list1, n):  \n",
    "    low = 0  \n",
    "    high = len(list1) - 1  \n",
    "    mid = 0  \n",
    "  \n",
    "    while low <= high:  \n",
    "        # for get integer result   \n",
    "        mid = (high + low) // 2  \n",
    "  \n",
    "        # Check if n is present at mid   \n",
    "        if list1[mid] < n:  \n",
    "            low = mid + 1  \n",
    "  \n",
    "        # If n is greater, compare to the right of mid   \n",
    "        elif list1[mid] > n:  \n",
    "            high = mid - 1  \n",
    "  \n",
    "        # If n is smaller, compared to the left of mid  \n",
    "        else:  \n",
    "            return mid  \n",
    "  \n",
    "            # element was not present in the list, return -1  \n",
    "    return -1  \n",
    "  \n",
    "# Initial list1  \n",
    "list1 = [12, 24, 32, 39, 45, 50, 54]  \n",
    "n = 45  \n",
    "  \n",
    "# Function call   \n",
    "result = binary_search(list1, n)  \n",
    "  \n",
    "if result != -1:  \n",
    "    print(\"Element is present at index\", str(result))  \n",
    "else:  \n",
    "    print(\"Element is not present in list1\")  "
   ]
  },
  {
   "cell_type": "code",
   "execution_count": 121,
   "metadata": {},
   "outputs": [
    {
     "name": "stdout",
     "output_type": "stream",
     "text": [
      "120\n"
     ]
    }
   ],
   "source": [
    "#61 Write a program to find factorial of a given number\n",
    "\n",
    "def factorial(n): \n",
    "      \n",
    "    # single line to find factorial \n",
    "    return 1 if (n==1 or n==0) else n * factorial(n - 1); \n",
    "\n",
    "print(factorial(5))"
   ]
  },
  {
   "cell_type": "code",
   "execution_count": 122,
   "metadata": {},
   "outputs": [
    {
     "name": "stdout",
     "output_type": "stream",
     "text": [
      "The principal is 8\n",
      "The time period is 6\n",
      "The rate of interest is 8\n",
      "The Simple Interest is 3.84\n"
     ]
    },
    {
     "data": {
      "text/plain": [
       "3.84"
      ]
     },
     "execution_count": 122,
     "metadata": {},
     "output_type": "execute_result"
    }
   ],
   "source": [
    "#62 Write a program to create simple interest \n",
    "\n",
    "def simple_interest(p,t,r): \n",
    "    print('The principal is', p) \n",
    "    print('The time period is', t) \n",
    "    print('The rate of interest is',r) \n",
    "      \n",
    "    si = (p * t * r)/100\n",
    "      \n",
    "    print('The Simple Interest is', si) \n",
    "    return si \n",
    "      \n",
    "# Driver code \n",
    "simple_interest(8, 6, 8)"
   ]
  },
  {
   "cell_type": "code",
   "execution_count": 123,
   "metadata": {},
   "outputs": [
    {
     "name": "stdout",
     "output_type": "stream",
     "text": [
      "Compound interest is 6288.946267774416\n"
     ]
    }
   ],
   "source": [
    "#63 Write a program to calculate compound interest\n",
    "\n",
    "def compound_interest(principle, rate, time): \n",
    "  \n",
    "    # Calculates compound interest  \n",
    "    Amount = principle * (pow((1 + rate / 100), time)) \n",
    "    CI = Amount - principle \n",
    "    print(\"Compound interest is\", CI) \n",
    "\n",
    "compound_interest(10000, 10.25, 5) "
   ]
  },
  {
   "cell_type": "code",
   "execution_count": 124,
   "metadata": {},
   "outputs": [
    {
     "name": "stdout",
     "output_type": "stream",
     "text": [
      "Area is 78.550000\n"
     ]
    }
   ],
   "source": [
    "#64 Write a program to compute area of circle\n",
    "def findArea(r): \n",
    "    PI = 3.142\n",
    "    return PI * (r*r); \n",
    "  \n",
    "# Driver method \n",
    "print(\"Area is %.6f\" % findArea(5)); "
   ]
  },
  {
   "cell_type": "code",
   "execution_count": 134,
   "metadata": {},
   "outputs": [
    {
     "name": "stdout",
     "output_type": "stream",
     "text": [
      "11\n",
      "13\n",
      "17\n",
      "19\n",
      "23\n",
      "29\n"
     ]
    }
   ],
   "source": [
    "#65 Write a program to print all prime numbers between two given numbers\n",
    "\n",
    "start = 11\n",
    "end = 30\n",
    "for i in range(start,end):\n",
    "    if i>1:\n",
    "        for j in range(2,i):\n",
    "            if(i%j == 0):\n",
    "                break\n",
    "        else:\n",
    "            print(i)"
   ]
  },
  {
   "cell_type": "code",
   "execution_count": 136,
   "metadata": {},
   "outputs": [
    {
     "name": "stdout",
     "output_type": "stream",
     "text": [
      "11 is a prime number\n",
      "11 is a prime number\n",
      "11 is a prime number\n",
      "11 is a prime number\n",
      "11 is a prime number\n",
      "11 is a prime number\n",
      "11 is a prime number\n",
      "11 is a prime number\n",
      "11 is a prime number\n"
     ]
    }
   ],
   "source": [
    "#66 Write a program to check if given number is prime or not\n",
    "\n",
    "num = 11\n",
    " \n",
    "# If given number is greater than 1\n",
    "if num > 1:\n",
    " \n",
    "    # Iterate from 2 to n / 2\n",
    "    for i in range(2, num):\n",
    "        # If num is divisible by any number between\n",
    "        # 2 and n / 2, it is not prime\n",
    "        if (num % i) == 0:\n",
    "            print(num, \"is not a prime number\")\n",
    "            break\n",
    "        else:\n",
    "            print(num, \"is a prime number\")\n",
    "else:\n",
    "    print(num, \"is not a prime number\")"
   ]
  },
  {
   "cell_type": "code",
   "execution_count": 137,
   "metadata": {},
   "outputs": [
    {
     "name": "stdout",
     "output_type": "stream",
     "text": [
      "21\n"
     ]
    }
   ],
   "source": [
    "#67 Write a program to print nth Fibonacci number\n",
    "\n",
    "def Fibonacci(n): \n",
    "    if n<0: \n",
    "        print(\"Incorrect input\") \n",
    "    # First Fibonacci number is 0 \n",
    "    elif n==1: \n",
    "        return 0\n",
    "    # Second Fibonacci number is 1 \n",
    "    elif n==2: \n",
    "        return 1\n",
    "    else: \n",
    "        return Fibonacci(n-1)+Fibonacci(n-2) \n",
    "# Driver Program\n",
    "print(Fibonacci(9)) "
   ]
  },
  {
   "cell_type": "code",
   "execution_count": 139,
   "metadata": {},
   "outputs": [
    {
     "name": "stdout",
     "output_type": "stream",
     "text": [
      "Position of n'th multiple of k inFibonacci Seires is 30\n"
     ]
    }
   ],
   "source": [
    "#68 Write a program to find nth number in Fibonacci Series\n",
    "\n",
    "def findPosition(k, n): \n",
    "    f1 = 0\n",
    "    f2 = 1\n",
    "    i =2;  \n",
    "    while i!=0: \n",
    "        f3 = f1 + f2; \n",
    "        f1 = f2; \n",
    "        f2 = f3; \n",
    "  \n",
    "        if f2%k == 0: \n",
    "            return n*i \n",
    "  \n",
    "        i+=1\n",
    "          \n",
    "    return \n",
    "  \n",
    "# Multiple no. \n",
    "n = 5; \n",
    "# Number of whose multiple we are finding \n",
    "k = 4; \n",
    "  \n",
    "print(\"Position of n\\'th multiple of k in\"\n",
    "                \"Fibonacci Seires is\", findPosition(k,n));"
   ]
  },
  {
   "cell_type": "code",
   "execution_count": 142,
   "metadata": {},
   "outputs": [
    {
     "name": "stdout",
     "output_type": "stream",
     "text": [
      "The ASCII value of 'g' is 103\n"
     ]
    }
   ],
   "source": [
    "#69 Write program to pring ASCII value of given character\n",
    "c = 'g'\n",
    "print(\"The ASCII value of '\" + c + \"' is\", ord(c)) "
   ]
  },
  {
   "cell_type": "code",
   "execution_count": 145,
   "metadata": {},
   "outputs": [
    {
     "name": "stdout",
     "output_type": "stream",
     "text": [
      "55\n"
     ]
    }
   ],
   "source": [
    "#70 Write a program to print sum of squares of first n natural numbers\n",
    "\n",
    "def squaresum(n) : \n",
    "  \n",
    "    # Iterate i from 1  \n",
    "    # and n finding  \n",
    "    # square of i and \n",
    "    # add to sum. \n",
    "    sm = 0\n",
    "    for i in range(1, n+1) : \n",
    "        sm = sm + (i * i) \n",
    "      \n",
    "    return sm \n",
    "  \n",
    "# Driven Program \n",
    "n = 5\n",
    "print(squaresum(n)) \n"
   ]
  },
  {
   "cell_type": "code",
   "execution_count": 146,
   "metadata": {},
   "outputs": [
    {
     "name": "stdout",
     "output_type": "stream",
     "text": [
      "225\n"
     ]
    }
   ],
   "source": [
    "#71 Write a program to print sum of cubes of first n natural numbers\n",
    "\n",
    "def sumOfSeries(n): \n",
    "    sum = 0\n",
    "    for i in range(1, n+1): \n",
    "        sum +=i*i*i \n",
    "          \n",
    "    return sum\n",
    "  \n",
    "# Driver Function\n",
    "n = 5\n",
    "print(sumOfSeries(n)) "
   ]
  },
  {
   "cell_type": "code",
   "execution_count": 149,
   "metadata": {},
   "outputs": [
    {
     "name": "stdout",
     "output_type": "stream",
     "text": [
      "Sum of the array is  34\n"
     ]
    }
   ],
   "source": [
    "#72 Write a program to find sum of elements in an array\n",
    "\n",
    "def _sum(arr):  \n",
    "      \n",
    "    # initialize a variable \n",
    "    # to store the sum \n",
    "    # while iterating through \n",
    "    # the array later \n",
    "    sum=0\n",
    "      \n",
    "    # iterate through the array \n",
    "    # and add each element to the sum variable \n",
    "    # one at a time \n",
    "    for i in arr: \n",
    "        sum = sum + i \n",
    "          \n",
    "    return(sum)  \n",
    "  \n",
    "# driver function  \n",
    "arr=[]  \n",
    "# input values to list  \n",
    "arr = [12, 3, 4, 15]  \n",
    "  \n",
    "# calculating length of array  \n",
    "n = len(arr)  \n",
    "  \n",
    "ans = _sum(arr)  \n",
    "  \n",
    "# display sum  \n",
    "print ('Sum of the array is ', ans)  "
   ]
  },
  {
   "cell_type": "code",
   "execution_count": 153,
   "metadata": {},
   "outputs": [
    {
     "name": "stdout",
     "output_type": "stream",
     "text": [
      "7.0\n"
     ]
    }
   ],
   "source": [
    "#73 Write a program to find minimum sum of product of numbers\n",
    "def findMinSum(num): \n",
    "    sum = 0\n",
    "      \n",
    "    # Find factors of number \n",
    "    # and add to the sum \n",
    "    i = 2\n",
    "    while(i * i <= num): \n",
    "        while(num % i == 0): \n",
    "            sum += i \n",
    "            num /= i \n",
    "        i += 1\n",
    "    sum += num \n",
    "      \n",
    "    # Return sum of numbers \n",
    "    # having minimum product \n",
    "    return sum\n",
    "  \n",
    "# Driver Code \n",
    "num = 12\n",
    "print(findMinSum(num))\n"
   ]
  },
  {
   "cell_type": "code",
   "execution_count": 154,
   "metadata": {},
   "outputs": [
    {
     "name": "stdout",
     "output_type": "stream",
     "text": [
      "The original dictionary is : {3: 4, 9: 10, 15: 10, 5: 7, 6: 7}\n",
      "The dictionary keys summation : 38\n"
     ]
    }
   ],
   "source": [
    "#74  Write a program to calculate sum of keys in a dictionary\n",
    "\n",
    "test_dict = {3: 4, 9: 10, 15: 10, 5: 7, 6: 7} \n",
    "  \n",
    "# printing original dictionary \n",
    "print(\"The original dictionary is : \" + str(test_dict)) \n",
    "  \n",
    "res = 0\n",
    "for key in test_dict: \n",
    "  \n",
    "    # adding keys \n",
    "    res += key \n",
    "\n",
    "# printing result \n",
    "print(\"The dictionary keys summation : \" + str(res)) \n"
   ]
  },
  {
   "cell_type": "code",
   "execution_count": 157,
   "metadata": {},
   "outputs": [
    {
     "name": "stdout",
     "output_type": "stream",
     "text": [
      "[(5, 7), (3, 9)]\n"
     ]
    }
   ],
   "source": [
    "#75 Write a program to find all possible pairs with given sum\n",
    "\n",
    "def findPairs(lst, K):  \n",
    "    res = [] \n",
    "    while lst: \n",
    "        num = lst.pop() \n",
    "        diff = K - num \n",
    "        if diff in lst: \n",
    "            res.append((diff, num)) \n",
    "          \n",
    "    res.reverse() \n",
    "    return res \n",
    "      \n",
    "# Driver code \n",
    "lst = [1, 5, 3, 7, 9] \n",
    "K = 12\n",
    "print(findPairs(lst, K))  "
   ]
  },
  {
   "cell_type": "code",
   "execution_count": 164,
   "metadata": {},
   "outputs": [
    {
     "name": "stdout",
     "output_type": "stream",
     "text": [
      "Sum of negative numbers is  -41\n",
      "Sum of even positive numbers is  60\n",
      "Sum of odd positive numbers is  6\n"
     ]
    }
   ],
   "source": [
    "#76 Write a program to find sum of negative, positive even and positive odd numbers in a list\n",
    "\n",
    "class Sumofnumbers: \n",
    "    \n",
    "    # find sum of negative numbers \n",
    "    def negSum(self, list): \n",
    "  \n",
    "        # counter for sum of \n",
    "        # negative numbers \n",
    "        neg_sum = 0\n",
    "  \n",
    "        for num in list: \n",
    "  \n",
    "            # converting number \n",
    "            # to integer explicitly \n",
    "            num = int(num) \n",
    "  \n",
    "            # if negative number \n",
    "            if(num < 0): \n",
    "  \n",
    "                # simply add to the \n",
    "                # negative sum \n",
    "                neg_sum = neg_sum + num \n",
    "  \n",
    "        print(\"Sum of negative numbers is \", neg_sum) \n",
    "  \n",
    "    # find sum of positive numbers \n",
    "    # according to categories \n",
    "    def posSum(self, list): \n",
    "  \n",
    "        # counter for sum of \n",
    "        # positive even numbers \n",
    "        pos_even_sum = 0\n",
    "  \n",
    "        # counter for sum of \n",
    "        # positive odd numbers \n",
    "        pos_odd_sum = 0\n",
    "        for num in list: \n",
    "  \n",
    "            # converting number \n",
    "            # to integer explicitly \n",
    "            num = int(num) \n",
    "  \n",
    "            # if negative number \n",
    "            if(num >= 0): \n",
    "  \n",
    "                # if even positive \n",
    "                if(num % 2 == 0): \n",
    "  \n",
    "                    # add to positive \n",
    "                    # even sum \n",
    "                    pos_even_sum = pos_even_sum + num \n",
    "                else: \n",
    "  \n",
    "                    # add to positive odd sum \n",
    "                    pos_odd_sum = pos_odd_sum + num \n",
    "  \n",
    "        print(\"Sum of even positive numbers is \", \n",
    "              pos_even_sum) \n",
    "  \n",
    "        print(\"Sum of odd positive numbers is \", \n",
    "              pos_odd_sum) \n",
    "  \n",
    "  \n",
    "# input a list of numbers \n",
    "list_num = [-7, 5, 60, -34, 1] \n",
    "  \n",
    "# creating an object of class \n",
    "obj = Sumofnumbers() \n",
    "  \n",
    "# calling method for  sum \n",
    "# of all negative numbers \n",
    "obj.negSum(list_num) \n",
    "  \n",
    "# calling method for \n",
    "# sum of all positive numbers \n",
    "obj.posSum(list_num) \n"
   ]
  },
  {
   "cell_type": "code",
   "execution_count": 165,
   "metadata": {},
   "outputs": [
    {
     "name": "stdout",
     "output_type": "stream",
     "text": [
      "The original list is : [345, 893, 1948, 34, 2346]\n",
      "Odd digit sum : 36\n",
      "Even digit sum : 40\n"
     ]
    }
   ],
   "source": [
    "#77 Write Python program to find the sum of all even and odd digits of an integer list\n",
    "\n",
    "# initializing list \n",
    "test_list = [345, 893, 1948, 34, 2346] \n",
    "  \n",
    "# printing original list \n",
    "print(\"The original list is : \" + str(test_list)) \n",
    "  \n",
    "odd_sum = 0\n",
    "even_sum = 0\n",
    "  \n",
    "for sub in test_list: \n",
    "    for ele in str(sub): \n",
    "          \n",
    "        # adding in particular summation according to value  \n",
    "        if int(ele) % 2 == 0: \n",
    "            even_sum += int(ele) \n",
    "        else: \n",
    "            odd_sum += int(ele) \n",
    "  \n",
    "# printing result  \n",
    "print(\"Odd digit sum : \" + str(odd_sum)) \n",
    "print(\"Even digit sum : \" + str(even_sum))"
   ]
  },
  {
   "cell_type": "code",
   "execution_count": 166,
   "metadata": {},
   "outputs": [
    {
     "name": "stdout",
     "output_type": "stream",
     "text": [
      "9\n"
     ]
    }
   ],
   "source": [
    "#78 Write Python Program for Find remainder of array multiplication divided by n\n",
    "def findremainder(arr, lens, n): \n",
    "    mul = 1\n",
    "  \n",
    "    # find the individual \n",
    "    # remainder and  \n",
    "    # multiple with mul. \n",
    "    for i in range(lens):  \n",
    "        mul = (mul * (arr[i] % n)) % n \n",
    "      \n",
    "    return mul % n \n",
    "  \n",
    "# Driven code \n",
    "arr = [ 100, 10, 5, 25, 35, 14 ] \n",
    "lens = len(arr) \n",
    "n = 11\n",
    "  \n",
    "# print the remainder \n",
    "# of after multiple \n",
    "# all the numbers \n",
    "print( findremainder(arr, lens, n)) \n"
   ]
  },
  {
   "cell_type": "code",
   "execution_count": 168,
   "metadata": {},
   "outputs": [
    {
     "name": "stdout",
     "output_type": "stream",
     "text": [
      "Largest in given array is 9808\n"
     ]
    }
   ],
   "source": [
    "#79 Write a Python Program to find largest element in an array\n",
    "\n",
    "def largest(arr,n): \n",
    "  \n",
    "    # Initialize maximum element \n",
    "    max = arr[0] \n",
    "  \n",
    "    # Traverse array elements from second \n",
    "    # and compare every element with  \n",
    "    # current max \n",
    "    for i in range(1, n): \n",
    "        if arr[i] > max: \n",
    "            max = arr[i] \n",
    "    return max\n",
    "  \n",
    "# Driver Code \n",
    "arr = [10, 324, 45, 90, 9808] \n",
    "n = len(arr) \n",
    "Ans = largest(arr,n) \n",
    "print (\"Largest in given array is\",Ans) "
   ]
  },
  {
   "cell_type": "code",
   "execution_count": 170,
   "metadata": {},
   "outputs": [
    {
     "name": "stdout",
     "output_type": "stream",
     "text": [
      "3 4 5 6 7 1 2 "
     ]
    }
   ],
   "source": [
    "#80 Write a python program for array rotation\n",
    "\n",
    "#Function to left rotate arr[] of size n by d*/ \n",
    "def leftRotate(arr, d, n): \n",
    "    for i in range(d): \n",
    "        leftRotatebyOne(arr, n) \n",
    "        \n",
    "#Function to left Rotate arr[] of size n by 1*/  \n",
    "def leftRotatebyOne(arr, n): \n",
    "    temp = arr[0] \n",
    "    for i in range(n-1): \n",
    "        arr[i] = arr[i+1] \n",
    "    arr[n-1] = temp \n",
    "    \n",
    "# utility function to print an array */ \n",
    "def printArray(arr,size): \n",
    "    for i in range(size): \n",
    "        print (\"%d\"% arr[i],end=\" \") \n",
    "        \n",
    "# Driver program to test above functions */ \n",
    "arr = [1, 2, 3, 4, 5, 6, 7] \n",
    "leftRotate(arr, 2, 7) \n",
    "printArray(arr, 7)"
   ]
  },
  {
   "cell_type": "code",
   "execution_count": 172,
   "metadata": {},
   "outputs": [
    {
     "name": "stdout",
     "output_type": "stream",
     "text": [
      "3\n",
      "4\n",
      "5\n",
      "6\n",
      "7\n",
      "1\n",
      "2\n"
     ]
    }
   ],
   "source": [
    "#81 Write Python Program for Reversal algorithm for array rotation\n",
    "def rverseArray(arr, start, end): \n",
    "    while (start < end): \n",
    "        temp = arr[start] \n",
    "        arr[start] = arr[end] \n",
    "        arr[end] = temp \n",
    "        start += 1\n",
    "        end = end-1\n",
    "  \n",
    "# Function to left rotate arr[] of size n by d \n",
    "def leftRotate(arr, d): \n",
    "    n = len(arr) \n",
    "    rverseArray(arr, 0, d-1) \n",
    "    rverseArray(arr, d, n-1) \n",
    "    rverseArray(arr, 0, n-1) \n",
    "  \n",
    "# Function to print an array \n",
    "def printArray(arr): \n",
    "    for i in range(0, len(arr)): \n",
    "        print (arr[i]) \n",
    "  \n",
    "# Driver function to test above functions \n",
    "arr = [1, 2, 3, 4, 5, 6, 7] \n",
    "leftRotate(arr, 2) # Rotate array by 2 \n",
    "printArray(arr) "
   ]
  },
  {
   "cell_type": "code",
   "execution_count": 173,
   "metadata": {},
   "outputs": [
    {
     "name": "stdout",
     "output_type": "stream",
     "text": [
      "5 6 52 36 12 10 "
     ]
    }
   ],
   "source": [
    "#82 Write a python Program to Split the array and add the first part to the end\n",
    "\n",
    "def splitArr(arr, n, k):  \n",
    "    for i in range(0, k):  \n",
    "        x = arr[0] \n",
    "        for j in range(0, n-1): \n",
    "            arr[j] = arr[j + 1] \n",
    "          \n",
    "        arr[n-1] = x \n",
    "          \n",
    "  \n",
    "# main \n",
    "arr = [12, 10, 5, 6, 52, 36] \n",
    "n = len(arr) \n",
    "position = 2\n",
    "  \n",
    "splitArr(arr, n, position) \n",
    "  \n",
    "for i in range(0, n):  \n",
    "    print(arr[i], end = ' ') \n"
   ]
  },
  {
   "cell_type": "code",
   "execution_count": 174,
   "metadata": {},
   "outputs": [
    {
     "name": "stdout",
     "output_type": "stream",
     "text": [
      "9\n"
     ]
    }
   ],
   "source": [
    "#83 Write a Python Program to Find remainder of array multiplication divided by n\n",
    "\n",
    "def findremainder(arr, lens, n): \n",
    "    mul = 1\n",
    "  \n",
    "    # find the individual \n",
    "    # remainder and  \n",
    "    # multiple with mul. \n",
    "    for i in range(lens):  \n",
    "        mul = (mul * (arr[i] % n)) % n \n",
    "      \n",
    "    return mul % n \n",
    "  \n",
    "# Driven code \n",
    "arr = [ 100, 10, 5, 25, 35, 14 ] \n",
    "lens = len(arr) \n",
    "n = 11\n",
    "  \n",
    "# print the remainder \n",
    "# of after multiple \n",
    "# all the numbers \n",
    "print( findremainder(arr, lens, n)) \n"
   ]
  },
  {
   "cell_type": "code",
   "execution_count": 175,
   "metadata": {},
   "outputs": [
    {
     "name": "stdout",
     "output_type": "stream",
     "text": [
      "The original string is : Geeksforgeeks is best for geeks and CS\n",
      "String after multiple replace : Geeksforgeeks is gfg gfg geeks and gfg\n"
     ]
    }
   ],
   "source": [
    "#84 Write a python program – Replace multiple words with K\n",
    "test_str = 'Geeksforgeeks is best for geeks and CS'\n",
    "  \n",
    "# printing original string \n",
    "print(\"The original string is : \" + str(test_str)) \n",
    "  \n",
    "# initializing word list  \n",
    "word_list = [\"best\", 'CS', 'for'] \n",
    "  \n",
    "# initializing replace word  \n",
    "repl_wrd = 'gfg'\n",
    "  \n",
    "# Replace multiple words with K \n",
    "# Using join() + split() + list comprehension \n",
    "res = ' '.join([repl_wrd if idx in word_list else idx for idx in test_str.split()]) \n",
    "  \n",
    "# printing result  \n",
    "print(\"String after multiple replace : \" + str(res))"
   ]
  },
  {
   "cell_type": "code",
   "execution_count": 176,
   "metadata": {},
   "outputs": [
    {
     "name": "stdout",
     "output_type": "stream",
     "text": [
      "['geek', 'geeks']\n"
     ]
    }
   ],
   "source": [
    "#85 Write a program to find words which are greater than given length k\n",
    "\n",
    "def string_k(k, str): \n",
    "      \n",
    "    # create the empty string \n",
    "    string = [] \n",
    "      \n",
    "    # split the string where space is comes \n",
    "    text = str.split(\" \") \n",
    "      \n",
    "    # iterate the loop till every substring \n",
    "    for x in text: \n",
    "          \n",
    "        # if length of current sub string \n",
    "        # is greater than k then \n",
    "        if len(x) > k: \n",
    "              \n",
    "            # append this sub string in \n",
    "            # string list \n",
    "            string.append(x) \n",
    "              \n",
    "     # return string list \n",
    "    return string \n",
    "  \n",
    "  \n",
    "# Driver Program      \n",
    "k = 3\n",
    "str =\"geek for geeks\"\n",
    "print(string_k(k, str))  "
   ]
  },
  {
   "cell_type": "code",
   "execution_count": 177,
   "metadata": {},
   "outputs": [
    {
     "name": "stdout",
     "output_type": "stream",
     "text": [
      "geeksORgeeks\n"
     ]
    }
   ],
   "source": [
    "#86 Write a program for removing i-th character from a string\n",
    "\n",
    "def remove(string, i):  \n",
    "  \n",
    "    # Characters before the i-th indexed \n",
    "    # is stored in a variable a \n",
    "    a = string[ : i]  \n",
    "      \n",
    "    # Characters after the nth indexed \n",
    "    # is stored in a variable b \n",
    "    b = string[i + 1: ] \n",
    "      \n",
    "    # Returning string after removing \n",
    "    # nth indexed character. \n",
    "    return a + b \n",
    "      \n",
    "# Driver Code \n",
    "if __name__ == '__main__': \n",
    "      \n",
    "    string = \"geeksFORgeeks\"\n",
    "      \n",
    "    # Remove nth index element \n",
    "    i = 5\n",
    "    \n",
    "    # Print the new string \n",
    "    print(remove(string, i))"
   ]
  },
  {
   "cell_type": "code",
   "execution_count": 178,
   "metadata": {},
   "outputs": [
    {
     "name": "stdout",
     "output_type": "stream",
     "text": [
      "['Learning', 'from']\n"
     ]
    }
   ],
   "source": [
    "#87 Write a Python program to find uncommon words from two Strings\n",
    "\n",
    "def UncommonWords(A, B): \n",
    "  \n",
    "    # count will contain all the word counts \n",
    "    count = {} \n",
    "      \n",
    "    # insert words of string A to hash \n",
    "    for word in A.split(): \n",
    "        count[word] = count.get(word, 0) + 1\n",
    "      \n",
    "    # insert words of string B to hash \n",
    "    for word in B.split(): \n",
    "        count[word] = count.get(word, 0) + 1\n",
    "  \n",
    "    # return required list of words \n",
    "    return [word for word in count if count[word] == 1] \n",
    "  \n",
    "# Driver Code \n",
    "A = \"Geeks for Geeks\"\n",
    "B = \"Learning from Geeks for Geeks\"\n",
    "  \n",
    "# Print required answer \n",
    "print(UncommonWords(A, B))"
   ]
  },
  {
   "cell_type": "code",
   "execution_count": 182,
   "metadata": {},
   "outputs": [
    {
     "name": "stdout",
     "output_type": "stream",
     "text": [
      "The original string is : Gfg is best . Gfg also has Classes now. Classes help understand better . \n",
      "The string after replacing : Gfg is best . It also has Classes now. They help understand better . \n"
     ]
    }
   ],
   "source": [
    "#88 Write Python program to Replace duplicate Occurrence in String\n",
    "\n",
    "test_str = 'Gfg is best . Gfg also has Classes now. Classes help understand better . ' \n",
    "  \n",
    "# printing original string \n",
    "print(\"The original string is : \" + test_str) \n",
    "  \n",
    "# initializing replace mapping  \n",
    "repl_dict = {'Gfg' :  'It', 'Classes' : 'They' } \n",
    "  \n",
    "# Replace duplicate Occurrence in String \n",
    "# Using split() + enumerate() + loop \n",
    "test_list = test_str.split(' ') \n",
    "res = set() \n",
    "for idx, ele in enumerate(test_list): \n",
    "    if ele in repl_dict: \n",
    "        if ele in res: \n",
    "            test_list[idx] = repl_dict[ele] \n",
    "        else: \n",
    "            res.add(ele) \n",
    "res = ' '.join(test_list) \n",
    "  \n",
    "# printing result  \n",
    "print(\"The string after replacing : \" + res)  "
   ]
  },
  {
   "cell_type": "code",
   "execution_count": 209,
   "metadata": {},
   "outputs": [
    {
     "name": "stdout",
     "output_type": "stream",
     "text": [
      "The original string is : geek2eeks4g1eek5sbest6forall9\n",
      "Strings after digits at end : geekeeksgeeksbestforall241569\n"
     ]
    }
   ],
   "source": [
    "#89 Write Python Program to move numbers to the end of the string\n",
    "\n",
    "test_str = 'geek2eeks4g1eek5sbest6forall9'\n",
    "  \n",
    "# printing original string \n",
    "print(\"The original string is : \" + test_str) \n",
    "  \n",
    "# getting all numbers and removing digits \n",
    "res = '' \n",
    "dig = '' \n",
    "for ele in test_str: \n",
    "    if ele.isdigit(): \n",
    "        dig += ele \n",
    "    else: \n",
    "        res += ele \n",
    "  \n",
    "# adding digits at end \n",
    "res += dig \n",
    "  \n",
    "# printing result \n",
    "print(\"Strings after digits at end : \" + res) \n"
   ]
  },
  {
   "cell_type": "code",
   "execution_count": 210,
   "metadata": {},
   "outputs": [
    {
     "name": "stdout",
     "output_type": "stream",
     "text": [
      "geeky is present in the list\n"
     ]
    }
   ],
   "source": [
    "#90 Write Python program to find the String in a List\n",
    "# assign list \n",
    "l = [1, 2.0, 'have', 'a', 'geeky', 'day'] \n",
    "  \n",
    "# assign string \n",
    "s = 'geeky'  \n",
    "  \n",
    "# check if string is present in the list \n",
    "if s in l: \n",
    "    print(f'{s} is present in the list') \n",
    "else: \n",
    "    print(f'{s} is not present in the list') "
   ]
  },
  {
   "cell_type": "code",
   "execution_count": 212,
   "metadata": {},
   "outputs": [
    {
     "name": "stdout",
     "output_type": "stream",
     "text": [
      "The entered string is palindrome\n"
     ]
    }
   ],
   "source": [
    "#91 Write Python program to check whether the string is Palindrome\n",
    "\n",
    "def palindrome(a): \n",
    "   \n",
    "    # finding the mid, start  \n",
    "    # and last index of the string \n",
    "    mid = (len(a)-1)//2\n",
    "    start = 0\n",
    "    last = len(a)-1\n",
    "    flag = 0\n",
    "  \n",
    "    # A loop till the mid of the \n",
    "    # string \n",
    "    while(start<mid): \n",
    "   \n",
    "        # comparing letters from right \n",
    "        # from the letters from left \n",
    "        if (a[start]== a[last]): \n",
    "              \n",
    "            start += 1\n",
    "            last -= 1\n",
    "              \n",
    "        else: \n",
    "            flag = 1\n",
    "            break; \n",
    "              \n",
    "    # Checking the flag variable to  \n",
    "    # check if the string is palindrome \n",
    "    # or not \n",
    "    if flag == 0: \n",
    "        print(\"The entered string is palindrome\") \n",
    "    else: \n",
    "        print(\"The entered string is not palindrome\") \n",
    "        \n",
    "# Driver code \n",
    "string = 'amaama'\n",
    "palindrome(string)"
   ]
  },
  {
   "cell_type": "code",
   "execution_count": 213,
   "metadata": {},
   "outputs": [
    {
     "name": "stdout",
     "output_type": "stream",
     "text": [
      "The entered string is symmetrical\n"
     ]
    }
   ],
   "source": [
    "#92 Write Python program to check whether the string is Symmetrical\n",
    "\n",
    "def symmetry(a): \n",
    "      \n",
    "    n = len(a) \n",
    "    flag = 0\n",
    "      \n",
    "    # Check if the string's length \n",
    "    # is odd or even \n",
    "    if n%2: \n",
    "        mid = n//2 +1\n",
    "    else: \n",
    "        mid = n//2\n",
    "          \n",
    "    start1 = 0\n",
    "    start2 = mid \n",
    "      \n",
    "    while(start1 < mid and start2 < n): \n",
    "          \n",
    "        if (a[start1]== a[start2]): \n",
    "            start1 = start1 + 1\n",
    "            start2 = start2 + 1\n",
    "        else: \n",
    "            flag = 1\n",
    "            break\n",
    "       \n",
    "    # Checking the flag variable to  \n",
    "    # check if the string is symmetrical \n",
    "    # or not \n",
    "    if flag == 0: \n",
    "        print(\"The entered string is symmetrical\") \n",
    "    else: \n",
    "        print(\"The entered string is not symmetrical\") \n",
    "          \n",
    "# Driver code \n",
    "string = 'amaama'\n",
    "\n",
    "symmetry(string) \n"
   ]
  },
  {
   "cell_type": "code",
   "execution_count": 214,
   "metadata": {},
   "outputs": [
    {
     "name": "stdout",
     "output_type": "stream",
     "text": [
      "code practice quiz geeks\n"
     ]
    }
   ],
   "source": [
    "#93 Python program to Reverse words in a given String in Python\n",
    "\n",
    "def rev_sentence(sentence):  \n",
    "  \n",
    "    # first split the string into words  \n",
    "    words = sentence.split(' ')  \n",
    "  \n",
    "    # then reverse the split string list and join using space  \n",
    "    reverse_sentence = ' '.join(reversed(words))  \n",
    "  \n",
    "    # finally return the joined string  \n",
    "    return reverse_sentence  \n",
    "  \n",
    "if __name__ == \"__main__\":  \n",
    "    input = 'geeks quiz practice code'\n",
    "    print (rev_sentence(input)) "
   ]
  },
  {
   "cell_type": "code",
   "execution_count": 230,
   "metadata": {},
   "outputs": [
    {
     "name": "stdout",
     "output_type": "stream",
     "text": [
      "school\n",
      "of\n"
     ]
    }
   ],
   "source": [
    "#94 Python program to print even length words in a string\n",
    "\n",
    "def printWords(s): \n",
    "      \n",
    "    # split the string  \n",
    "    s = s.split(' ')  \n",
    "      \n",
    "    # iterate in words of string  \n",
    "    for word in s:  \n",
    "          \n",
    "        # if length is even  \n",
    "        if len(word)%2==0: \n",
    "            print(word)  \n",
    "  \n",
    "  \n",
    "# Driver Code  \n",
    "s = \"the school of ais\" \n",
    "printWords(s)  "
   ]
  },
  {
   "cell_type": "code",
   "execution_count": 235,
   "metadata": {},
   "outputs": [
    {
     "name": "stdout",
     "output_type": "stream",
     "text": [
      "geeksforgeeks\n",
      "geeksfORGEEKS\n"
     ]
    }
   ],
   "source": [
    "#95\n",
    "\n",
    "test_str = 'geeksforgeeks'\n",
    "  \n",
    "# printing original string \n",
    "print(test_str) \n",
    "  \n",
    "# computing half index \n",
    "hlf_idx = len(test_str) // 2\n",
    "  \n",
    "res = '' \n",
    "for idx in range(len(test_str)): \n",
    "      \n",
    "    # uppercasing later half \n",
    "    if idx >= hlf_idx: \n",
    "      res += test_str[idx].upper() \n",
    "    else : \n",
    "      res += test_str[idx] \n",
    "          \n",
    "# printing result  \n",
    "print(res)  \n"
   ]
  },
  {
   "cell_type": "code",
   "execution_count": 237,
   "metadata": {},
   "outputs": [
    {
     "name": "stdout",
     "output_type": "stream",
     "text": [
      "String before: welcome to geeksforgeeks\n",
      "String after: WelcomE TO GeeksforgeekS\n"
     ]
    }
   ],
   "source": [
    "#96 Write Python program to capitalize the first and last character of each word in a string\n",
    "\n",
    "def word_both_cap(str): \n",
    "      \n",
    "    #lamda function for capitalizing the \n",
    "    # first and last letter of words in  \n",
    "    # the string \n",
    "    return ' '.join(map(lambda s: s[:-1]+s[-1].upper(),  \n",
    "                        s.title().split())) \n",
    "      \n",
    "      \n",
    "# Driver's code \n",
    "s = \"welcome to geeksforgeeks\"\n",
    "print(\"String before:\", s) \n",
    "print(\"String after:\", word_both_cap(str)) "
   ]
  },
  {
   "cell_type": "code",
   "execution_count": 239,
   "metadata": {},
   "outputs": [
    {
     "name": "stdout",
     "output_type": "stream",
     "text": [
      "Accepted\n"
     ]
    }
   ],
   "source": [
    "#97 Write Python Program to accept the strings which contains all vowels\n",
    "\n",
    "def check(string) : \n",
    "  \n",
    "    string = string.lower() \n",
    "  \n",
    "    # set() function convert \"aeiou\" \n",
    "    # string into set of characters \n",
    "    # i.e.vowels = {'a', 'e', 'i', 'o', 'u'} \n",
    "    vowels = set(\"aeiou\") \n",
    "  \n",
    "    # set() function convert empty  \n",
    "    # dictionary into empty set \n",
    "    s = set({}) \n",
    "  \n",
    "    # looping through each \n",
    "    # character of the string \n",
    "    for char in string : \n",
    "  \n",
    "        # Check for the character is present inside \n",
    "        # the vowels set or not. If present, then \n",
    "        # add into the set s by using add method \n",
    "        if char in vowels : \n",
    "            s.add(char) \n",
    "        else: \n",
    "            pass\n",
    "              \n",
    "    # check the length of set s equal to length  \n",
    "    # of vowels set or not. If equal, string is   \n",
    "    # accepted otherwise not \n",
    "    if len(s) == len(vowels) : \n",
    "        print(\"Accepted\") \n",
    "    else : \n",
    "        print(\"Not Accepted\") \n",
    "  \n",
    "  \n",
    "# Driver code \n",
    "if __name__ == \"__main__\" : \n",
    "      \n",
    "    string = \"SEEquoiaL\"\n",
    "  \n",
    "    # calling function \n",
    "    check(string) "
   ]
  },
  {
   "cell_type": "code",
   "execution_count": 241,
   "metadata": {},
   "outputs": [
    {
     "name": "stdout",
     "output_type": "stream",
     "text": [
      "The original string is : zero four zero one\n",
      "The string after performing replace : 0401\n"
     ]
    }
   ],
   "source": [
    "#98 Write a program to Convert numeric words to numbers\n",
    "help_dict = { \n",
    "    'one': '1', \n",
    "    'two': '2', \n",
    "    'three': '3', \n",
    "    'four': '4', \n",
    "    'five': '5', \n",
    "    'six': '6', \n",
    "    'seven': '7', \n",
    "    'eight': '8', \n",
    "    'nine': '9', \n",
    "    'zero' : '0'\n",
    "} \n",
    "  \n",
    "# initializing string \n",
    "test_str = \"zero four zero one\"\n",
    "  \n",
    "# printing original string \n",
    "print(\"The original string is : \" + test_str) \n",
    "  \n",
    "# Convert numeric words to numbers \n",
    "# Using join() + split() \n",
    "res = ''.join(help_dict[ele] for ele in test_str.split()) \n",
    "  \n",
    "# printing result  \n",
    "print(\"The string after performing replace : \" + res)  \n"
   ]
  },
  {
   "cell_type": "code",
   "execution_count": 246,
   "metadata": {},
   "outputs": [
    {
     "name": "stdout",
     "output_type": "stream",
     "text": [
      "The original list is : gfgbestforgeeks\n",
      "Maximum vowels word : geeks\n"
     ]
    }
   ],
   "source": [
    "#99 Write python program to print element with maximum vowels from a List\n",
    "test_list = [\"gfg\", \"best\", \"for\", \"geeks\"] \n",
    "  \n",
    "# printing original list \n",
    "print(\"The original list is : \" + \"\".join(test_list)) \n",
    "  \n",
    "res = \"\" \n",
    "max_len = 0\n",
    "for ele in test_list: \n",
    "  \n",
    "    # getting maximum length and element \n",
    "    # iteratively \n",
    "    vow_len = len([el for el in ele if el in ['a', 'e', 'o', 'u', 'i']]) \n",
    "    if vow_len > max_len: \n",
    "        max_len = vow_len \n",
    "        res = ele \n",
    "print(\"Maximum vowels word : \" + (res)) "
   ]
  },
  {
   "cell_type": "code",
   "execution_count": 252,
   "metadata": {},
   "outputs": [
    {
     "name": "stdout",
     "output_type": "stream",
     "text": [
      "The original string is : geekforgeeks\n",
      "The replaced string : giikfurgiiks\n"
     ]
    }
   ],
   "source": [
    "#100 Python program to Replace vowels by next vowel\n",
    "\n",
    "test_str = 'geekforgeeks'\n",
    "  \n",
    "# printing original string \n",
    "print(\"The original string is : \" + \"\".join(test_str)) \n",
    "  \n",
    "# constructing dictionary using zip() \n",
    "vow = 'a e i o u'.split() \n",
    "temp = dict(zip(vow, vow[1:] + [vow[0]])) \n",
    "  \n",
    "# list comprehension to perform replacement \n",
    "res = \"\".join([temp.get(ele, ele) for ele in test_str]) \n",
    "  \n",
    "# printing result  \n",
    "print(\"The replaced string : \" + \"\".join(res))  "
   ]
  }
 ],
 "metadata": {
  "kernelspec": {
   "display_name": "Python 3",
   "language": "python",
   "name": "python3"
  },
  "language_info": {
   "codemirror_mode": {
    "name": "ipython",
    "version": 3
   },
   "file_extension": ".py",
   "mimetype": "text/x-python",
   "name": "python",
   "nbconvert_exporter": "python",
   "pygments_lexer": "ipython3",
   "version": "3.8.3"
  }
 },
 "nbformat": 4,
 "nbformat_minor": 4
}
