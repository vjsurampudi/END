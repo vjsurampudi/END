{
 "cells": [
  {
   "cell_type": "markdown",
   "metadata": {},
   "source": [
    "### Part 1\n",
    "Write a function using only list filter lambda that can tell whether a number is a Fibonacci number or not. You can use a pre-calculated list/dict to store fab numbers till 10000"
   ]
  },
  {
   "cell_type": "code",
   "execution_count": 1,
   "metadata": {},
   "outputs": [],
   "source": [
    "from functools import reduce\n",
    "\n",
    "# Filter function selects all the numbers <=N (in this case 1000)\n",
    "# Use Fibonacci(N) to get the Fibonacci Number <= N\n",
    "Fibonacci = lambda n: filter(lambda x : x<=n, reduce(lambda x, _ : x + [x[-1]+x[-2]] , range(n-2),[0,1]))\n",
    "\n",
    "\n",
    "def fibonacci_validate(num=int):\n",
    "    '''\n",
    "    This function checks if the number provided is a number in Fibonacci series\n",
    "    '''\n",
    "    N = 10000\n",
    "    fibonacci_list = Fibonacci(N)\n",
    "    result = \"\"\n",
    "    num_list=[num]\n",
    "    \n",
    "    if num>N:\n",
    "        result = \"Input number is greater than 10000\"\n",
    "    else:\n",
    "        result = \"Is a Fibonacci Number\" if bool((list(filter(lambda x: True if x in fibonacci_list else False,num_list)))) else \"Is not a Fibonacci Number\"\n",
    "    return result"
   ]
  },
  {
   "cell_type": "code",
   "execution_count": 2,
   "metadata": {},
   "outputs": [
    {
     "name": "stdout",
     "output_type": "stream",
     "text": [
      "Is a Fibonacci Number\n",
      "Is not a Fibonacci Number\n",
      "Input number is greater than 10000\n"
     ]
    }
   ],
   "source": [
    "# Checking the function on a test list of Fibonacci numbers and non-Fibonacci numbers both below 10000 and above 10000\n",
    "# Scenario a: Fibonacci number below N - output: Is a Fibonacci number\n",
    "print(fibonacci_validate(1))\n",
    "# Scenario b: Non-Fibonacci Number below N - output: Not a Fibonacci number\n",
    "print(fibonacci_validate(1000))\n",
    "# Scenario c: Any number greater than N - output: %d greater than 10000. Hence cannot be checked\n",
    "print(fibonacci_validate(1000000000000000000))\n"
   ]
  },
  {
   "cell_type": "markdown",
   "metadata": {},
   "source": [
    "### Part 2:\n",
    "Using list comprehension (and zip/lambda/etc if required) write five different expressions that:\n",
    " - add 2 iterables a and b such that a is even and b is odd\n",
    " - strips every vowel from a string provided (tsai>>t s)\n",
    " - acts like a ReLU function for a 1D array\n",
    " - acts like a sigmoid function for a 1D array\n",
    " - takes a small character string and shifts all characters by 5 (handle boundary conditions) tsai>>yxfn"
   ]
  },
  {
   "cell_type": "code",
   "execution_count": 3,
   "metadata": {},
   "outputs": [],
   "source": [
    "# 1) add 2 iterables a and b such that a is even and b is odd\n",
    "import numpy as np\n",
    "\n",
    "N = 10\n",
    "a = [x for x in range(N) if x%2 == 0]\n",
    "b = [x for x in range(N) if x%2 != 0]\n",
    "add_list = [x+y for x,y in zip(a,b)]"
   ]
  },
  {
   "cell_type": "code",
   "execution_count": 4,
   "metadata": {},
   "outputs": [
    {
     "name": "stdout",
     "output_type": "stream",
     "text": [
      "a =  [0, 2, 4, 6, 8]\n",
      "b =  [1, 3, 5, 7, 9]\n",
      "adding a and b =  [1, 5, 9, 13, 17]\n"
     ]
    }
   ],
   "source": [
    "print(\"a = \", a)\n",
    "print(\"b = \", b)\n",
    "print(\"adding a and b = \", add_list)"
   ]
  },
  {
   "cell_type": "code",
   "execution_count": 5,
   "metadata": {},
   "outputs": [
    {
     "name": "stdout",
     "output_type": "stream",
     "text": [
      "Vowels Stripped =  thschlf\n"
     ]
    }
   ],
   "source": [
    "#2) strips every vowel from a string provided (tsai>>t s)\n",
    "string = 'theschoolofai'\n",
    "vow = ['a','e','i','o','u']\n",
    "str_vowels = ''.join(x for x in string if x.lower() not in vow)\n",
    "print(\"Vowels Stripped = \", str_vowels)"
   ]
  },
  {
   "cell_type": "code",
   "execution_count": 6,
   "metadata": {},
   "outputs": [
    {
     "name": "stdout",
     "output_type": "stream",
     "text": [
      "[0, 0, 0, 3, 5, 6, 0, 50, 2000]\n"
     ]
    }
   ],
   "source": [
    "#3) acts like a ReLU function for a 1D array\n",
    "number = np.array([-1000000000,-1,-2,3,5,6,-100, 50, 2000])\n",
    "output_relu = lambda x: 0 if x < 0 else x\n",
    "RELU = [output_relu(x) for x in number]\n",
    "print(RELU)"
   ]
  },
  {
   "cell_type": "code",
   "execution_count": 7,
   "metadata": {},
   "outputs": [
    {
     "name": "stdout",
     "output_type": "stream",
     "text": [
      "Sigmoid =  [4.5397868702434395e-05, 0.2689414213699951, 0.5, 0.9525741268224334, 1.0, 5.148200222412014e-131]\n"
     ]
    }
   ],
   "source": [
    "#4) acts like a sigmoid function for a 1D array\n",
    "number = np.array([-10,-1,0,3,200, -300])\n",
    "sig_func = lambda x: 1/(1 + np.exp(-x))\n",
    "sigmoid = [sig_func(x) for x in number] \n",
    "print(\"Sigmoid = \", sigmoid)"
   ]
  },
  {
   "cell_type": "code",
   "execution_count": 8,
   "metadata": {},
   "outputs": [
    {
     "name": "stdout",
     "output_type": "stream",
     "text": [
      "zephyr after shifting five characters is ejumdw\n"
     ]
    }
   ],
   "source": [
    "#5) takes a small character string and shifts all characters by 5\n",
    "inputstring = 'zephyr'\n",
    "shift_five = lambda x: chr(ord(x.lower())+5) if (ord(x.lower())+5) <=ord('z') else chr(ord('a')-ord('z')+ord(x.lower())+4)\n",
    "outputstring = ''.join([shift_five(x) for x in inputstring])\n",
    "print(\"%s after shifting five characters is %s\" %(inputstring,outputstring))"
   ]
  },
  {
   "cell_type": "markdown",
   "metadata": {},
   "source": [
    "### Part 3: \n",
    "A list comprehension expression that takes a ~200 word paragraph (write your own paragraph to check), and checks whether it has any of the swear words mentioned in https://github.com/RobertJGabriel/Google-profanity-words/blob/master/list.txt"
   ]
  },
  {
   "cell_type": "code",
   "execution_count": 9,
   "metadata": {},
   "outputs": [],
   "source": [
    "import requests\n",
    "from bs4 import BeautifulSoup as BS\n",
    "import re\n",
    "\n",
    "def swearword_check(text) -> str:\n",
    "    '''\n",
    "    This function checks whether it has any of the swear words mentioned in https://github.com/RobertJGabriel/Google-profanity-words/blob/master/list.txt\n",
    "    '''\n",
    "    get_content = requests.get('https://github.com/RobertJGabriel/Google-profanity-words/blob/master/list.txt').content\n",
    "    html_parser = BS(get_content, 'html.parser')\n",
    "    swear_words = [re.sub('\\n','',x.text) for x in html_parser.find_all('tr')]\n",
    "    \n",
    "    return(bool([i for i in text.split(\" \") if any(x in i for x in swear_words)]))\n",
    "\n"
   ]
  },
  {
   "cell_type": "code",
   "execution_count": 10,
   "metadata": {},
   "outputs": [
    {
     "data": {
      "text/plain": [
       "True"
      ]
     },
     "execution_count": 10,
     "metadata": {},
     "output_type": "execute_result"
    }
   ],
   "source": [
    "sentence = \"That son of a bitch moment when it rains and you forget your car windows are down\"\n",
    "swearword_check(sentence)"
   ]
  },
  {
   "cell_type": "markdown",
   "metadata": {},
   "source": [
    "### Part 4:\n",
    "Using reduce functions: \n",
    " - add only even numbers in a list\n",
    " - find the biggest character in a string (printable ascii characters)\n",
    " - adds every 3rd number in a list"
   ]
  },
  {
   "cell_type": "code",
   "execution_count": 11,
   "metadata": {},
   "outputs": [
    {
     "name": "stdout",
     "output_type": "stream",
     "text": [
      "Sum of Even Numbers less than or equal to 20 is 110:\n"
     ]
    }
   ],
   "source": [
    "#1) add only even numbers in a list\n",
    "from functools import reduce\n",
    "\n",
    "N = 20  # Numbers to be generated upto\n",
    "addEven = lambda n: reduce(lambda x, y: x+y, list(filter(lambda Y: Y%2==0, range(1, n+1))), 0)\n",
    "print(\"Sum of Even Numbers less than or equal to %d is %d:\" %(N,addEven(N)))"
   ]
  },
  {
   "cell_type": "code",
   "execution_count": 12,
   "metadata": {},
   "outputs": [
    {
     "name": "stdout",
     "output_type": "stream",
     "text": [
      "The biggest character in the given string {There is a gentle zephYr. I am throughly enjoying it.} is: z\n"
     ]
    }
   ],
   "source": [
    "#2) find the biggest character in a string (printable ascii characters)\n",
    "\n",
    "inputstring = 'There is a gentle zephYr. I am throughly enjoying it.'\n",
    "big_char = lambda x,y: x if ord(x) > ord(y) else y\n",
    "bigChar_Sent = lambda paragraph: reduce(big_char,  list([x for x in paragraph]) )\n",
    "print(\"The biggest character in the given string {%s} is: %s\" %(inputstring,bigChar_Sent(inputstring)))"
   ]
  },
  {
   "cell_type": "code",
   "execution_count": 13,
   "metadata": {},
   "outputs": [
    {
     "name": "stdout",
     "output_type": "stream",
     "text": [
      "Result of addition of every third number in a given list of numbers is : 408\n"
     ]
    }
   ],
   "source": [
    "#3) adds every 3rd number in a list\n",
    "\n",
    "N = 50 # Number of numbers in the list\n",
    "addThirdNum = lambda n: reduce(lambda x, y: x+y ,list(filter(lambda Y: Y%3==0, range(1, n+1))),0)\n",
    "print(\"Result of addition of every third number in a given list of numbers is : %d\" %addThirdNum(N) )"
   ]
  },
  {
   "cell_type": "markdown",
   "metadata": {},
   "source": [
    "### Part 5:\n",
    "Using randint, random.choice and list comprehensions, write an expression that generates 15 random KADDAADDDD number plates, where KA is fixed, D stands for a digit, and A stands for Capital alphabets. 10<<DD<<99 & 1000<<DDDD<<9999"
   ]
  },
  {
   "cell_type": "code",
   "execution_count": 14,
   "metadata": {},
   "outputs": [
    {
     "name": "stdout",
     "output_type": "stream",
     "text": [
      "['KA69ES7958', 'KA86LQ7761', 'KA44PF6973', 'KA61LG6982', 'KA75SO7503', 'KA64JV7819', 'KA14QF7606', 'KA84OZ9800', 'KA29BY1644', 'KA27IS2662', 'KA92XY2876', 'KA86RC5562', 'KA47AO7971', 'KA91KR1079', 'KA19MN1301']\n"
     ]
    }
   ],
   "source": [
    "import string\n",
    "import random\n",
    "\n",
    "N=15\n",
    "\n",
    "DDDD = lambda x: random.randint(1000, 9999)\n",
    "DD = lambda x: random.randint(10,99)\n",
    "A  = lambda x: random.choice(list(string.ascii_uppercase))\n",
    "generate_platenums = lambda x:  'KA'+str(DD(0))+A(0)+A(0)+str(DDDD(0))\n",
    "PlateNumbers = [generate_platenums(N) for N in range(N)]\n",
    "print(PlateNumbers)"
   ]
  },
  {
   "cell_type": "markdown",
   "metadata": {},
   "source": [
    "### Part 6:\n",
    "Write the above again from scratch where KA can be changed to DL, and 1000/9999 ranges can be provided. "
   ]
  },
  {
   "cell_type": "code",
   "execution_count": 15,
   "metadata": {},
   "outputs": [
    {
     "name": "stdout",
     "output_type": "stream",
     "text": [
      "['DL10HT3555', 'DL88SP3886', 'DL26PK3714', 'DL26BF9969', 'DL91NO9903', 'DL52EE7653', 'DL26IA4212', 'DL39MV3846', 'DL57UP1053', 'DL10XG6717', 'DL47OE5823', 'DL85YE8105', 'DL22CS8889', 'DL77QQ5883', 'DL22FP3016']\n"
     ]
    }
   ],
   "source": [
    "import string\n",
    "import random\n",
    "\n",
    "N=15\n",
    "DDDD = lambda x,y: random.randint(x, y)\n",
    "\n",
    "DD = lambda x: random.randint(10,99)\n",
    "\n",
    "A  = lambda x: random.choice(list(string.ascii_uppercase))\n",
    "\n",
    "generate_platenums = lambda x,y:  'DL'+str(DD(0))+A(0)+A(0)+str(DDDD(x,y))\n",
    "\n",
    "## 1000 and 9999 are passed as input parameters to the function\n",
    "PlateNumbers = [generate_platenums(1000,9999) for N in range(N)]\n",
    "\n",
    "print(PlateNumbers)"
   ]
  }
 ],
 "metadata": {
  "kernelspec": {
   "display_name": "Python 3",
   "language": "python",
   "name": "python3"
  },
  "language_info": {
   "codemirror_mode": {
    "name": "ipython",
    "version": 3
   },
   "file_extension": ".py",
   "mimetype": "text/x-python",
   "name": "python",
   "nbconvert_exporter": "python",
   "pygments_lexer": "ipython3",
   "version": "3.8.3"
  }
 },
 "nbformat": 4,
 "nbformat_minor": 4
}
