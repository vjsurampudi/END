{
  "nbformat": 4,
  "nbformat_minor": 0,
  "metadata": {
    "colab": {
      "name": "NMT_Attention_EN2DE.ipynb",
      "provenance": [],
      "collapsed_sections": [],
      "authorship_tag": "ABX9TyPIPp98mm67QcPTE4vHxllA",
      "include_colab_link": true
    },
    "kernelspec": {
      "name": "python3",
      "display_name": "Python 3"
    },
    "accelerator": "GPU"
  },
  "cells": [
    {
      "cell_type": "markdown",
      "metadata": {
        "id": "view-in-github",
        "colab_type": "text"
      },
      "source": [
        "<a href=\"https://colab.research.google.com/github/vjsurampudi/END/blob/main/Session10/NMT_Attention_EN2DE.ipynb\" target=\"_parent\"><img src=\"https://colab.research.google.com/assets/colab-badge.svg\" alt=\"Open In Colab\"/></a>"
      ]
    },
    {
      "cell_type": "markdown",
      "metadata": {
        "id": "q8OE6U9pvmDU"
      },
      "source": [
        "The image below depicts architecture where encoders are combined to a single context vector z. From there seq2seq RNN used to decode the message for translation."
      ]
    },
    {
      "cell_type": "markdown",
      "metadata": {
        "id": "3ThvlJlcmXNQ"
      },
      "source": [
        "![.](https://raw.githubusercontent.com/bentrevett/pytorch-seq2seq/master/assets/seq2seq1.png)"
      ]
    },
    {
      "cell_type": "markdown",
      "metadata": {
        "id": "yr6bYqx-xkJi"
      },
      "source": [
        "In the above architecture, the context vector has a lot of information encoded in z. The decoder has two tasks - one to translate the words and pass the combined context vector to the next layer. In order to ease the load on the context vector z, the below architecture adds z vector to all the neural networks."
      ]
    },
    {
      "cell_type": "markdown",
      "metadata": {
        "id": "0DLEmRaLxG9y"
      },
      "source": [
        "![.](https://github.com/bentrevett/pytorch-seq2seq/blob/master/assets/seq2seq7.png?raw=1)"
      ]
    },
    {
      "cell_type": "markdown",
      "metadata": {
        "id": "aZh8FbIyyMds"
      },
      "source": [
        "Attention will allow the decoder to focus on what is important from encoder sequence. The below code will implement attention mechanism where attention vector is calculated with all the inputs."
      ]
    },
    {
      "cell_type": "code",
      "metadata": {
        "id": "qEQhgAddzIeB"
      },
      "source": [
        "import torch\r\n",
        "import torch.nn as nn\r\n",
        "import torch.optim as optim\r\n",
        "import torch.nn.functional as F\r\n",
        "\r\n",
        "from torchtext.datasets import Multi30k\r\n",
        "from torchtext.data import Field, BucketIterator\r\n",
        "\r\n",
        "import spacy\r\n",
        "import numpy as np\r\n",
        "\r\n",
        "import random\r\n",
        "import math\r\n",
        "import time"
      ],
      "execution_count": null,
      "outputs": []
    },
    {
      "cell_type": "code",
      "metadata": {
        "id": "CJdms2mGzjAm"
      },
      "source": [
        "SEED = 1234 ## This SEED will be valid until the kernel is alive\r\n",
        "\r\n",
        "random.seed(SEED)\r\n",
        "np.random.seed(SEED)\r\n",
        "torch.manual_seed(SEED)\r\n",
        "torch.cuda.manual_seed(SEED)\r\n",
        "torch.backends.cudnn.deterministic = True"
      ],
      "execution_count": null,
      "outputs": []
    },
    {
      "cell_type": "code",
      "metadata": {
        "id": "ds4yHU6G0eWi"
      },
      "source": [
        "!python -m spacy download en"
      ],
      "execution_count": null,
      "outputs": []
    },
    {
      "cell_type": "code",
      "metadata": {
        "id": "FZmRVlrI0hDg"
      },
      "source": [
        "!python -m spacy download de"
      ],
      "execution_count": null,
      "outputs": []
    },
    {
      "cell_type": "code",
      "metadata": {
        "id": "PCvoyZmRz2EM"
      },
      "source": [
        "## Loading spacy for German and English\r\n",
        "spacy_de = spacy.load('de')\r\n",
        "spacy_en = spacy.load('en')"
      ],
      "execution_count": null,
      "outputs": []
    },
    {
      "cell_type": "code",
      "metadata": {
        "id": "EroLmxh-0MCG"
      },
      "source": [
        "def tokenize_de(text):\r\n",
        "    \"\"\"\r\n",
        "      Tokenizes German text from a string into a list of strings\r\n",
        "    \"\"\"\r\n",
        "    return [tok.text for tok in spacy_de.tokenizer(text)]\r\n",
        "\r\n",
        "def tokenize_en(text):\r\n",
        "    \"\"\"\r\n",
        "      Tokenizes English text from a string into a list of strings\r\n",
        "    \"\"\"\r\n",
        "    return [tok.text for tok in spacy_en.tokenizer(text)]"
      ],
      "execution_count": null,
      "outputs": []
    },
    {
      "cell_type": "code",
      "metadata": {
        "id": "lh3gt_hX1koM"
      },
      "source": [
        "SRC = Field(tokenize = tokenize_en,\r\n",
        "            init_token = '<sos>',\r\n",
        "            eos_token = '<eos>',\r\n",
        "            lower = True)\r\n",
        "\r\n",
        "TRG = Field(tokenize = tokenize_de,\r\n",
        "            init_token = '<sos>',\r\n",
        "            eos_token = '<eos>',\r\n",
        "            lower = True)"
      ],
      "execution_count": null,
      "outputs": []
    },
    {
      "cell_type": "code",
      "metadata": {
        "id": "xNIguwT22Di0"
      },
      "source": [
        "train_data, valid_data, test_data = Multi30k.splits(exts = ('.en', '.de'), fields = (SRC, TRG))"
      ],
      "execution_count": null,
      "outputs": []
    },
    {
      "cell_type": "code",
      "metadata": {
        "id": "HU9k5Ro8ayZg"
      },
      "source": [
        "SRC.build_vocab(train_data, min_freq = 2)\r\n",
        "TRG.build_vocab(train_data, min_freq = 2)"
      ],
      "execution_count": null,
      "outputs": []
    },
    {
      "cell_type": "code",
      "metadata": {
        "colab": {
          "base_uri": "https://localhost:8080/"
        },
        "id": "p4WvSk5ca-Qi",
        "outputId": "78ff2fb3-8821-4320-da17-10c1d5301345"
      },
      "source": [
        "BATCH_SIZE = 128\r\n",
        "device = torch.device('cuda' if torch.cuda.is_available() else 'cpu')\r\n",
        "train_iterator, valid_iterator, test_iterator = BucketIterator.splits(\r\n",
        "      (train_data, valid_data, test_data), \r\n",
        "      batch_size = BATCH_SIZE, \r\n",
        "      device = device)\r\n",
        "device"
      ],
      "execution_count": null,
      "outputs": [
        {
          "output_type": "execute_result",
          "data": {
            "text/plain": [
              "device(type='cuda')"
            ]
          },
          "metadata": {
            "tags": []
          },
          "execution_count": 108
        }
      ]
    },
    {
      "cell_type": "markdown",
      "metadata": {
        "id": "TJ1eJG2kb9I2"
      },
      "source": [
        "![.](https://github.com/bentrevett/pytorch-seq2seq/blob/master/assets/seq2seq8.png?raw=1)\r\n",
        "\r\n",
        "Encoder is a bidirectional GRU. Embedding layer is going to left to right (Forward RNN) RNN (Green). Same embedded code is also going to right to left RNN layerv (Teal) (Backward RNN). Hidden vector passed to these layers - backward RNN and forward RNN is different as represented by different arrows. By default pyTorch will initialize these hidden vectors as zero unless specified otherwise.\r\n",
        "\r\n",
        "The pairs of hidden vectors h1-> and h4<- , h3<- and h2->, h2<- and h3->, h1<- and h4-> can be merged together and input to a fully connected layer of dimension (enc_hid_dim * 2) and a common vector can be derived. "
      ]
    },
    {
      "cell_type": "code",
      "metadata": {
        "id": "XWwi0rX7dOCV"
      },
      "source": [
        "class Encoder(nn.Module):\r\n",
        "  def __init__(self, input_dim, emb_dim, enc_hid_dim, dec_hid_dim, dropout):\r\n",
        "    super().__init__()\r\n",
        "    self.embedding = nn.Embedding(input_dim, emb_dim)\r\n",
        "    self.rnn = nn.GRU(emb_dim, enc_hid_dim, bidirectional = True)\r\n",
        "    self.fc = nn.Linear(enc_hid_dim * 2, dec_hid_dim)\r\n",
        "    self.dropout = nn.Dropout(dropout)\r\n",
        "\r\n",
        "  def forward(self, src):\r\n",
        "    # src = [src len, batch size]\r\n",
        "    embedding = self.dropout(self.embedding(src))\r\n",
        "    # embedding = [src len, batch size, emb dim]\r\n",
        "    outputs, hidden = self.rnn(embedding)\r\n",
        "    # outputs = [src len, batch size, hid dim * number of directions]\r\n",
        "    # hidden = [n layers * number of directions, batch size, hidden dimensions]\r\n",
        "    # hidden is stacked [forward_1, backward_1, forward_2, backward_2, ...]\r\n",
        "    # outputs are always from the last layer\r\n",
        "        \r\n",
        "    # hidden [-2, :, : ] is the last of the forwards RNN \r\n",
        "    # hidden [-1, :, : ] is the last of the backwards RNN\r\n",
        "        \r\n",
        "    #initial decoder hidden is final hidden state of the forwards and backwards\r\n",
        "    #  encoder RNNs fed through a linear layer\r\n",
        "    hidden = torch.tanh(self.fc(torch.cat((hidden[-2, :, :], hidden[-1, :, :]), dim = 1)))\r\n",
        "    # outputs = [src len, batch size, enc hid dim * 2]\r\n",
        "    # hidden = [batch size, dec hid dim]\r\n",
        "    return outputs, hidden"
      ],
      "execution_count": null,
      "outputs": []
    },
    {
      "cell_type": "code",
      "metadata": {
        "id": "iLBFmR0l4sGG"
      },
      "source": [
        "enc = Encoder(input_dim = 32,\r\n",
        "              emb_dim = 256, \r\n",
        "              enc_hid_dim = 512, \r\n",
        "              dec_hid_dim = 512, \r\n",
        "              dropout = 0.1)"
      ],
      "execution_count": null,
      "outputs": []
    },
    {
      "cell_type": "code",
      "metadata": {
        "colab": {
          "base_uri": "https://localhost:8080/"
        },
        "id": "QjSauOpsJCJp",
        "outputId": "7ce1b760-0cbf-41e7-8708-8ff548eb1573"
      },
      "source": [
        "## Sample output of the forward layer with lenght of sentence as 12 and batch size as 32\r\n",
        "outputs, hidden = enc.forward(torch.zeros(12,32).to(torch.int64))\r\n",
        "outputs.size(), hidden.size()"
      ],
      "execution_count": null,
      "outputs": [
        {
          "output_type": "execute_result",
          "data": {
            "text/plain": [
              "(torch.Size([12, 32, 1024]), torch.Size([32, 512]))"
            ]
          },
          "metadata": {
            "tags": []
          },
          "execution_count": 111
        }
      ]
    },
    {
      "cell_type": "markdown",
      "metadata": {
        "id": "-XQQMUHvLnwJ"
      },
      "source": [
        "## Attention\r\n",
        "Next up is the attention layer. This will take in the previous hidden state of the decoder,  st−1 , and all of the stacked forward and backward hidden states from the encoder,  H . The layer will output an attention vector,  at , that is the length of the source sentence, each element is between 0 and 1 and the entire vector sums to 1.\r\n",
        "\r\n",
        "Intuitively, this layer takes what we have decoded so far,  st−1 , and all of what we have encoded,  H , to produce a vector,  at , that represents which words in the source sentence we should pay the most attention to in order to correctly predict the next word to decode,  y^t+1 .\r\n",
        "\r\n",
        "First, we calculate the energy between the previous decoder hidden state and the encoder hidden states. As our encoder hidden states are a sequence of  T  tensors, and our previous decoder hidden state is a single tensor, the first thing we do is repeat the previous decoder hidden state  T  times. We then calculate the energy,  Et , between them by concatenating them together and passing them through a linear layer (attn) and a  tanh  activation function.\r\n",
        "\r\n",
        "Et=tanh(attn(st−1,H)) \r\n",
        "\r\n",
        "This can be thought of as calculating how well each encoder hidden state \"matches\" the previous decoder hidden state.\r\n",
        "\r\n",
        "We currently have a [dec hid dim, src len] tensor for each example in the batch. We want this to be [src len] for each example in the batch as the attention should be over the length of the source sentence. This is achieved by multiplying the energy by a [1, dec hid dim] tensor,  v .\r\n",
        "\r\n",
        "a^t=vEt \r\n",
        "\r\n",
        "We can think of  v  as the weights for a weighted sum of the energy across all encoder hidden states. These weights tell us how much we should attend to each token in the source sequence. The parameters of  v  are initialized randomly, but learned with the rest of the model via backpropagation. Note how  v  is not dependent on time, and the same  v  is used for each time-step of the decoding. We implement  v  as a linear layer without a bias.\r\n",
        "\r\n",
        "Finally, we ensure the attention vector fits the constraints of having all elements between 0 and 1 and the vector summing to 1 by passing it through a  softmax  layer.\r\n",
        "\r\n",
        "at=softmax(at^) \r\n",
        "\r\n",
        "This gives us the attention over the source sentence!\r\n",
        "\r\n",
        "Graphically, this looks something like below. This is for calculating the very first attention vector, where  st−1=s0=z . The green/teal blocks represent the hidden states from both the forward and backward RNNs, and the attention computation is all done within the pink block.\r\n",
        "![.](https://github.com/bentrevett/pytorch-seq2seq/blob/master/assets/seq2seq9.png?raw=1)"
      ]
    },
    {
      "cell_type": "code",
      "metadata": {
        "id": "f7ztK5soSptl"
      },
      "source": [
        "class Attention(nn.Module):\r\n",
        "    def __init__(self, enc_hid_dim, dec_hid_dim):\r\n",
        "        super().__init__()\r\n",
        "        \r\n",
        "        self.attn = nn.Linear((enc_hid_dim * 2) + dec_hid_dim, dec_hid_dim)\r\n",
        "        self.v = nn.Linear(dec_hid_dim, 1, bias = False)\r\n",
        "        \r\n",
        "    def forward(self, hidden, encoder_outputs):\r\n",
        "        \r\n",
        "        #hidden = [batch size, dec hid dim]\r\n",
        "        #encoder_outputs = [src len, batch size, enc hid dim * 2]\r\n",
        "        \r\n",
        "        batch_size = encoder_outputs.shape[1]\r\n",
        "        src_len = encoder_outputs.shape[0]\r\n",
        "        \r\n",
        "        #repeat decoder hidden state src_len times\r\n",
        "        hidden = hidden.unsqueeze(1).repeat(1, src_len, 1)\r\n",
        "        \r\n",
        "        encoder_outputs = encoder_outputs.permute(1, 0, 2)\r\n",
        "        \r\n",
        "        #hidden = [batch size, src len, dec hid dim]\r\n",
        "        #encoder_outputs = [batch size, src len, enc hid dim * 2]\r\n",
        "        \r\n",
        "        energy = torch.tanh(self.attn(torch.cat((hidden, encoder_outputs), dim = 2))) \r\n",
        "        \r\n",
        "        #energy = [batch size, src len, dec hid dim]\r\n",
        "\r\n",
        "        attention = self.v(energy).squeeze(2)\r\n",
        "        \r\n",
        "        #attention= [batch size, src len]\r\n",
        "        \r\n",
        "        return F.softmax(attention, dim=1)"
      ],
      "execution_count": null,
      "outputs": []
    },
    {
      "cell_type": "markdown",
      "metadata": {
        "id": "FS1TjPhiShTE"
      },
      "source": [
        "\r\n",
        "\r\n",
        "## Decoder\r\n",
        "\r\n",
        "The decoder contains the attention layer, attention, which takes the previous hidden state,  st−1 , all of the encoder hidden states,  H , and returns the attention vector,  at .\r\n",
        "\r\n",
        "We then use this attention vector to create a weighted source vector,  wt , denoted by weighted, which is a weighted sum of the encoder hidden states,  H , using  at  as the weights.\r\n",
        "\r\n",
        "wt=atH \r\n",
        "\r\n",
        "The embedded input word,  d(yt) , the weighted source vector,  wt , and the previous decoder hidden state,  st−1 , are then all passed into the decoder RNN, with  d(yt)  and  wt  being concatenated together.\r\n",
        "\r\n",
        "st=DecoderGRU(d(yt),wt,st−1) \r\n",
        "\r\n",
        "We then pass  d(yt) ,  wt  and  st  through the linear layer,  f , to make a prediction of the next word in the target sentence,  y^t+1 . This is done by concatenating them all together.\r\n",
        "\r\n",
        "y^t+1=f(d(yt),wt,st) \r\n",
        "\r\n",
        "The image below shows decoding the first word in an example translation.\r\n",
        "\r\n",
        "\r\n",
        "\r\n",
        "The green/teal blocks show the forward/backward encoder RNNs which output  H , the red block shows the context vector,  z=hT=tanh(g(h→T,h←T))=tanh(g(z→,z←))=s0 , the blue block shows the decoder RNN which outputs  st , the purple block shows the linear layer,  f , which outputs  y^t+1  and the orange block shows the calculation of the weighted sum over  H  by  at  and outputs  wt . Not shown is the calculation of  at .\r\n",
        "\r\n",
        "![.](https://github.com/bentrevett/pytorch-seq2seq/blob/master/assets/seq2seq10.png?raw=1)"
      ]
    },
    {
      "cell_type": "code",
      "metadata": {
        "id": "dwFfdmPqVcQ7"
      },
      "source": [
        "class Decoder(nn.Module):\r\n",
        "    def __init__(self, output_dim, emb_dim, enc_hid_dim, dec_hid_dim, dropout, attention):\r\n",
        "        super().__init__()\r\n",
        "\r\n",
        "        self.output_dim = output_dim\r\n",
        "        self.attention = attention\r\n",
        "        \r\n",
        "        self.embedding = nn.Embedding(output_dim, emb_dim)\r\n",
        "        \r\n",
        "        self.rnn = nn.GRU((enc_hid_dim * 2) + emb_dim, dec_hid_dim)\r\n",
        "        \r\n",
        "        self.fc_out = nn.Linear((enc_hid_dim * 2) + dec_hid_dim + emb_dim, output_dim)\r\n",
        "        \r\n",
        "        self.dropout = nn.Dropout(dropout)\r\n",
        "        \r\n",
        "    def forward(self, input, hidden, encoder_outputs):\r\n",
        "             \r\n",
        "        #input = [batch size]\r\n",
        "        #hidden = [batch size, dec hid dim]\r\n",
        "        #encoder_outputs = [src len, batch size, enc hid dim * 2]\r\n",
        "        \r\n",
        "        input = input.unsqueeze(0)\r\n",
        "        \r\n",
        "        #input = [1, batch size]\r\n",
        "        \r\n",
        "        embedded = self.dropout(self.embedding(input))\r\n",
        "        \r\n",
        "        #embedded = [1, batch size, emb dim]\r\n",
        "        \r\n",
        "        a = self.attention(hidden, encoder_outputs)\r\n",
        "                \r\n",
        "        #a = [batch size, src len]\r\n",
        "        \r\n",
        "        a = a.unsqueeze(1)\r\n",
        "        \r\n",
        "        #a = [batch size, 1, src len]\r\n",
        "        \r\n",
        "        encoder_outputs = encoder_outputs.permute(1, 0, 2)\r\n",
        "        \r\n",
        "        #encoder_outputs = [batch size, src len, enc hid dim * 2]\r\n",
        "        \r\n",
        "        weighted = torch.bmm(a, encoder_outputs)\r\n",
        "        \r\n",
        "        #weighted = [batch size, 1, enc hid dim * 2]\r\n",
        "        \r\n",
        "        weighted = weighted.permute(1, 0, 2)\r\n",
        "        \r\n",
        "        #weighted = [1, batch size, enc hid dim * 2]\r\n",
        "        \r\n",
        "        rnn_input = torch.cat((embedded, weighted), dim = 2)\r\n",
        "        \r\n",
        "        #rnn_input = [1, batch size, (enc hid dim * 2) + emb dim]\r\n",
        "            \r\n",
        "        output, hidden = self.rnn(rnn_input, hidden.unsqueeze(0))\r\n",
        "        \r\n",
        "        #output = [seq len, batch size, dec hid dim * n directions]\r\n",
        "        #hidden = [n layers * n directions, batch size, dec hid dim]\r\n",
        "        \r\n",
        "        #seq len, n layers and n directions will always be 1 in this decoder, therefore:\r\n",
        "        #output = [1, batch size, dec hid dim]\r\n",
        "        #hidden = [1, batch size, dec hid dim]\r\n",
        "        #this also means that output == hidden\r\n",
        "                \r\n",
        "        embedded = embedded.squeeze(0)\r\n",
        "        output = output.squeeze(0)\r\n",
        "        weighted = weighted.squeeze(0)\r\n",
        "        \r\n",
        "        prediction = self.fc_out(torch.cat((output, weighted, embedded), dim = 1))\r\n",
        "        \r\n",
        "        #prediction = [batch size, output dim]\r\n",
        "        \r\n",
        "        return prediction, hidden.squeeze(0)"
      ],
      "execution_count": null,
      "outputs": []
    },
    {
      "cell_type": "code",
      "metadata": {
        "id": "zzb4EgXbXQat"
      },
      "source": [
        "class Seq2Seq(nn.Module):\r\n",
        "    def __init__(self, encoder, decoder, device):\r\n",
        "        super().__init__()\r\n",
        "        \r\n",
        "        self.encoder = encoder\r\n",
        "        self.decoder = decoder\r\n",
        "        self.device = device\r\n",
        "        \r\n",
        "    def forward(self, src, trg, teacher_forcing_ratio = 0.5):\r\n",
        "        \r\n",
        "        #src = [src len, batch size]\r\n",
        "        #trg = [trg len, batch size]\r\n",
        "        #teacher_forcing_ratio is probability to use teacher forcing\r\n",
        "        #e.g. if teacher_forcing_ratio is 0.75 we use teacher forcing 75% of the time\r\n",
        "        \r\n",
        "        batch_size = src.shape[1]\r\n",
        "        trg_len = trg.shape[0]\r\n",
        "        trg_vocab_size = self.decoder.output_dim\r\n",
        "        \r\n",
        "        #tensor to store decoder outputs\r\n",
        "        outputs = torch.zeros(trg_len, batch_size, trg_vocab_size).to(self.device)\r\n",
        "        \r\n",
        "        #encoder_outputs is all hidden states of the input sequence, back and forwards\r\n",
        "        #hidden is the final forward and backward hidden states, passed through a linear layer\r\n",
        "        encoder_outputs, hidden = self.encoder(src)\r\n",
        "                \r\n",
        "        #first input to the decoder is the <sos> tokens\r\n",
        "        input = trg[0,:]\r\n",
        "        \r\n",
        "        for t in range(1, trg_len):\r\n",
        "            \r\n",
        "            #insert input token embedding, previous hidden state and all encoder hidden states\r\n",
        "            #receive output tensor (predictions) and new hidden state\r\n",
        "            output, hidden = self.decoder(input, hidden, encoder_outputs)\r\n",
        "            \r\n",
        "            #place predictions in a tensor holding predictions for each token\r\n",
        "            outputs[t] = output\r\n",
        "            \r\n",
        "            #decide if we are going to use teacher forcing or not\r\n",
        "            teacher_force = random.random() < teacher_forcing_ratio\r\n",
        "            \r\n",
        "            #get the highest predicted token from our predictions\r\n",
        "            top1 = output.argmax(1) \r\n",
        "            \r\n",
        "            #if teacher forcing, use actual next token as next input\r\n",
        "            #if not, use predicted token\r\n",
        "            input = trg[t] if teacher_force else top1\r\n",
        "\r\n",
        "        return outputs"
      ],
      "execution_count": null,
      "outputs": []
    },
    {
      "cell_type": "code",
      "metadata": {
        "id": "QMeqlJimXiAf"
      },
      "source": [
        "INPUT_DIM = len(SRC.vocab)\r\n",
        "OUTPUT_DIM = len(TRG.vocab)\r\n",
        "ENC_EMB_DIM = 256\r\n",
        "DEC_EMB_DIM = 256\r\n",
        "ENC_HID_DIM = 512\r\n",
        "DEC_HID_DIM = 512\r\n",
        "ENC_DROPOUT = 0.5\r\n",
        "DEC_DROPOUT = 0.5\r\n",
        "\r\n",
        "attn = Attention(ENC_HID_DIM, DEC_HID_DIM)\r\n",
        "enc = Encoder(INPUT_DIM, ENC_EMB_DIM, ENC_HID_DIM, DEC_HID_DIM, ENC_DROPOUT)\r\n",
        "dec = Decoder(OUTPUT_DIM, DEC_EMB_DIM, ENC_HID_DIM, DEC_HID_DIM, DEC_DROPOUT, attn)\r\n",
        "\r\n",
        "model = Seq2Seq(enc, dec, device).to(device)"
      ],
      "execution_count": null,
      "outputs": []
    },
    {
      "cell_type": "code",
      "metadata": {
        "colab": {
          "base_uri": "https://localhost:8080/"
        },
        "id": "F0sX6H_ZXzvd",
        "outputId": "78b3f917-e1b8-49c0-c307-5e2144948582"
      },
      "source": [
        "def init_weights(m):\r\n",
        "    for name, param in m.named_parameters():\r\n",
        "        if 'weight' in name:\r\n",
        "            nn.init.normal_(param.data, mean=0, std=0.01)\r\n",
        "        else:\r\n",
        "            nn.init.constant_(param.data, 0)\r\n",
        "            \r\n",
        "model.apply(init_weights)"
      ],
      "execution_count": null,
      "outputs": [
        {
          "output_type": "execute_result",
          "data": {
            "text/plain": [
              "Seq2Seq(\n",
              "  (encoder): Encoder(\n",
              "    (embedding): Embedding(5893, 256)\n",
              "    (rnn): GRU(256, 512, bidirectional=True)\n",
              "    (fc): Linear(in_features=1024, out_features=512, bias=True)\n",
              "    (dropout): Dropout(p=0.5, inplace=False)\n",
              "  )\n",
              "  (decoder): Decoder(\n",
              "    (attention): Attention(\n",
              "      (attn): Linear(in_features=1536, out_features=512, bias=True)\n",
              "      (v): Linear(in_features=512, out_features=1, bias=False)\n",
              "    )\n",
              "    (embedding): Embedding(7855, 256)\n",
              "    (rnn): GRU(1280, 512)\n",
              "    (fc_out): Linear(in_features=1792, out_features=7855, bias=True)\n",
              "    (dropout): Dropout(p=0.5, inplace=False)\n",
              "  )\n",
              ")"
            ]
          },
          "metadata": {
            "tags": []
          },
          "execution_count": 115
        }
      ]
    },
    {
      "cell_type": "code",
      "metadata": {
        "colab": {
          "base_uri": "https://localhost:8080/"
        },
        "id": "TDF5xPQDX1B_",
        "outputId": "2147d48d-7831-426d-95e3-7caa107ba39a"
      },
      "source": [
        "def count_parameters(model):\r\n",
        "    return sum(p.numel() for p in model.parameters() if p.requires_grad)\r\n",
        "\r\n",
        "print(f'The model has {count_parameters(model):,} trainable parameters')"
      ],
      "execution_count": null,
      "outputs": [
        {
          "output_type": "stream",
          "text": [
            "The model has 24,036,783 trainable parameters\n"
          ],
          "name": "stdout"
        }
      ]
    },
    {
      "cell_type": "code",
      "metadata": {
        "id": "AHVKe-FKX5nW"
      },
      "source": [
        "optimizer = optim.Adam(model.parameters())"
      ],
      "execution_count": null,
      "outputs": []
    },
    {
      "cell_type": "code",
      "metadata": {
        "id": "-P9cXp5kX8Fj"
      },
      "source": [
        "TRG_PAD_IDX = TRG.vocab.stoi[TRG.pad_token]\r\n",
        "\r\n",
        "criterion = nn.CrossEntropyLoss(ignore_index = TRG_PAD_IDX)"
      ],
      "execution_count": null,
      "outputs": []
    },
    {
      "cell_type": "code",
      "metadata": {
        "id": "Zzyr698aYLA2"
      },
      "source": [
        "def train(model, iterator, optimizer, criterion, clip):\r\n",
        "    \r\n",
        "    model.train()\r\n",
        "    \r\n",
        "    epoch_loss = 0\r\n",
        "    \r\n",
        "    for i, batch in enumerate(iterator):\r\n",
        "        \r\n",
        "        src = batch.src\r\n",
        "        trg = batch.trg\r\n",
        "        \r\n",
        "        optimizer.zero_grad()\r\n",
        "        \r\n",
        "        output = model(src, trg)\r\n",
        "        \r\n",
        "        #trg = [trg len, batch size]\r\n",
        "        #output = [trg len, batch size, output dim]\r\n",
        "        \r\n",
        "        output_dim = output.shape[-1]\r\n",
        "        \r\n",
        "        output = output[1:].view(-1, output_dim)\r\n",
        "        trg = trg[1:].view(-1)\r\n",
        "        \r\n",
        "        #trg = [(trg len - 1) * batch size]\r\n",
        "        #output = [(trg len - 1) * batch size, output dim]\r\n",
        "        \r\n",
        "        loss = criterion(output, trg)\r\n",
        "        \r\n",
        "        loss.backward()\r\n",
        "        \r\n",
        "        torch.nn.utils.clip_grad_norm_(model.parameters(), clip)\r\n",
        "        \r\n",
        "        optimizer.step()\r\n",
        "        \r\n",
        "        epoch_loss += loss.item()\r\n",
        "        \r\n",
        "    return epoch_loss / len(iterator)"
      ],
      "execution_count": null,
      "outputs": []
    },
    {
      "cell_type": "code",
      "metadata": {
        "id": "dWxmSlIzYW29"
      },
      "source": [
        "def evaluate(model, iterator, criterion):\r\n",
        "    \r\n",
        "    model.eval()\r\n",
        "    \r\n",
        "    epoch_loss = 0\r\n",
        "    \r\n",
        "    with torch.no_grad():\r\n",
        "    \r\n",
        "        for i, batch in enumerate(iterator):\r\n",
        "\r\n",
        "            src = batch.src\r\n",
        "            trg = batch.trg\r\n",
        "\r\n",
        "            output = model(src, trg, 0) #turn off teacher forcing\r\n",
        "\r\n",
        "            #trg = [trg len, batch size]\r\n",
        "            #output = [trg len, batch size, output dim]\r\n",
        "\r\n",
        "            output_dim = output.shape[-1]\r\n",
        "            \r\n",
        "            output = output[1:].view(-1, output_dim)\r\n",
        "            trg = trg[1:].view(-1)\r\n",
        "\r\n",
        "            #trg = [(trg len - 1) * batch size]\r\n",
        "            #output = [(trg len - 1) * batch size, output dim]\r\n",
        "\r\n",
        "            loss = criterion(output, trg)\r\n",
        "\r\n",
        "            epoch_loss += loss.item()\r\n",
        "        \r\n",
        "    return epoch_loss / len(iterator)"
      ],
      "execution_count": null,
      "outputs": []
    },
    {
      "cell_type": "code",
      "metadata": {
        "id": "h4DvDM9gYbHJ"
      },
      "source": [
        "def epoch_time(start_time, end_time):\r\n",
        "    elapsed_time = end_time - start_time\r\n",
        "    elapsed_mins = int(elapsed_time / 60)\r\n",
        "    elapsed_secs = int(elapsed_time - (elapsed_mins * 60))\r\n",
        "    return elapsed_mins, elapsed_secs"
      ],
      "execution_count": null,
      "outputs": []
    },
    {
      "cell_type": "code",
      "metadata": {
        "colab": {
          "base_uri": "https://localhost:8080/"
        },
        "id": "hjHcva1KYfar",
        "outputId": "364f9653-fddd-4eba-bf96-f64c37608135"
      },
      "source": [
        "N_EPOCHS = 20\r\n",
        "CLIP = 1\r\n",
        "\r\n",
        "best_valid_loss = float('inf')\r\n",
        "\r\n",
        "for epoch in range(N_EPOCHS):\r\n",
        "    \r\n",
        "    start_time = time.time()\r\n",
        "    \r\n",
        "    train_loss = train(model, train_iterator, optimizer, criterion, CLIP)\r\n",
        "    valid_loss = evaluate(model, valid_iterator, criterion)\r\n",
        "    \r\n",
        "    end_time = time.time()\r\n",
        "    \r\n",
        "    epoch_mins, epoch_secs = epoch_time(start_time, end_time)\r\n",
        "    \r\n",
        "    if valid_loss < best_valid_loss:\r\n",
        "        best_valid_loss = valid_loss\r\n",
        "        torch.save(model.state_dict(), 'en2de-attn-model.pt')\r\n",
        "    \r\n",
        "    print(f'Epoch: {epoch+1:02} | Time: {epoch_mins}m {epoch_secs}s')\r\n",
        "    print(f'\\tTrain Loss: {train_loss:.3f} | Train PPL: {math.exp(train_loss):7.3f}')\r\n",
        "    print(f'\\t Val. Loss: {valid_loss:.3f} |  Val. PPL: {math.exp(valid_loss):7.3f}')"
      ],
      "execution_count": null,
      "outputs": [
        {
          "output_type": "stream",
          "text": [
            "Epoch: 01 | Time: 1m 32s\n",
            "\tTrain Loss: 3.393 | Train PPL:  29.746\n",
            "\t Val. Loss: 3.588 |  Val. PPL:  36.147\n",
            "Epoch: 02 | Time: 1m 33s\n",
            "\tTrain Loss: 2.819 | Train PPL:  16.767\n",
            "\t Val. Loss: 3.238 |  Val. PPL:  25.490\n",
            "Epoch: 03 | Time: 1m 32s\n",
            "\tTrain Loss: 2.404 | Train PPL:  11.065\n",
            "\t Val. Loss: 3.114 |  Val. PPL:  22.513\n",
            "Epoch: 04 | Time: 1m 33s\n",
            "\tTrain Loss: 2.057 | Train PPL:   7.824\n",
            "\t Val. Loss: 3.087 |  Val. PPL:  21.907\n",
            "Epoch: 05 | Time: 1m 33s\n",
            "\tTrain Loss: 1.797 | Train PPL:   6.033\n",
            "\t Val. Loss: 3.095 |  Val. PPL:  22.091\n",
            "Epoch: 06 | Time: 1m 34s\n",
            "\tTrain Loss: 1.591 | Train PPL:   4.908\n",
            "\t Val. Loss: 3.171 |  Val. PPL:  23.833\n",
            "Epoch: 07 | Time: 1m 33s\n",
            "\tTrain Loss: 1.443 | Train PPL:   4.232\n",
            "\t Val. Loss: 3.136 |  Val. PPL:  23.021\n",
            "Epoch: 08 | Time: 1m 32s\n",
            "\tTrain Loss: 1.326 | Train PPL:   3.766\n",
            "\t Val. Loss: 3.222 |  Val. PPL:  25.071\n",
            "Epoch: 09 | Time: 1m 33s\n",
            "\tTrain Loss: 1.212 | Train PPL:   3.361\n",
            "\t Val. Loss: 3.227 |  Val. PPL:  25.193\n",
            "Epoch: 10 | Time: 1m 32s\n",
            "\tTrain Loss: 1.115 | Train PPL:   3.050\n",
            "\t Val. Loss: 3.264 |  Val. PPL:  26.141\n",
            "Epoch: 11 | Time: 1m 32s\n",
            "\tTrain Loss: 1.009 | Train PPL:   2.744\n",
            "\t Val. Loss: 3.453 |  Val. PPL:  31.593\n",
            "Epoch: 12 | Time: 1m 32s\n",
            "\tTrain Loss: 0.944 | Train PPL:   2.571\n",
            "\t Val. Loss: 3.478 |  Val. PPL:  32.393\n",
            "Epoch: 13 | Time: 1m 33s\n",
            "\tTrain Loss: 0.869 | Train PPL:   2.383\n",
            "\t Val. Loss: 3.558 |  Val. PPL:  35.108\n",
            "Epoch: 14 | Time: 1m 32s\n",
            "\tTrain Loss: 0.796 | Train PPL:   2.217\n",
            "\t Val. Loss: 3.628 |  Val. PPL:  37.632\n",
            "Epoch: 15 | Time: 1m 33s\n",
            "\tTrain Loss: 0.731 | Train PPL:   2.077\n",
            "\t Val. Loss: 3.695 |  Val. PPL:  40.232\n",
            "Epoch: 16 | Time: 1m 32s\n",
            "\tTrain Loss: 0.687 | Train PPL:   1.987\n",
            "\t Val. Loss: 3.784 |  Val. PPL:  43.976\n",
            "Epoch: 17 | Time: 1m 33s\n",
            "\tTrain Loss: 0.638 | Train PPL:   1.892\n",
            "\t Val. Loss: 3.825 |  Val. PPL:  45.827\n",
            "Epoch: 18 | Time: 1m 32s\n",
            "\tTrain Loss: 0.587 | Train PPL:   1.799\n",
            "\t Val. Loss: 3.958 |  Val. PPL:  52.337\n",
            "Epoch: 19 | Time: 1m 32s\n",
            "\tTrain Loss: 0.552 | Train PPL:   1.736\n",
            "\t Val. Loss: 4.057 |  Val. PPL:  57.807\n",
            "Epoch: 20 | Time: 1m 32s\n",
            "\tTrain Loss: 0.517 | Train PPL:   1.676\n",
            "\t Val. Loss: 4.074 |  Val. PPL:  58.810\n"
          ],
          "name": "stdout"
        }
      ]
    },
    {
      "cell_type": "code",
      "metadata": {
        "colab": {
          "base_uri": "https://localhost:8080/"
        },
        "id": "d_re_49icIin",
        "outputId": "85cf2f70-4b28-4a4d-cdbf-9ed2d603129c"
      },
      "source": [
        "model.load_state_dict(torch.load('en2de-attn-model.pt'))\r\n",
        "\r\n",
        "test_loss = evaluate(model, test_iterator, criterion)\r\n",
        "\r\n",
        "print(f'| Test Loss: {test_loss:.3f} | Test PPL: {math.exp(test_loss):7.3f} |')"
      ],
      "execution_count": null,
      "outputs": [
        {
          "output_type": "stream",
          "text": [
            "| Test Loss: 3.057 | Test PPL:  21.262 |\n"
          ],
          "name": "stdout"
        }
      ]
    }
  ]
}