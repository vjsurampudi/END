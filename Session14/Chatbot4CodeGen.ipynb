{
  "nbformat": 4,
  "nbformat_minor": 0,
  "metadata": {
    "accelerator": "GPU",
    "colab": {
      "name": "Chatbot4CodeGen.ipynb",
      "provenance": [],
      "collapsed_sections": [],
      "include_colab_link": true
    },
    "kernelspec": {
      "display_name": "Python 3",
      "name": "python3"
    }
  },
  "cells": [
    {
      "cell_type": "markdown",
      "metadata": {
        "id": "view-in-github",
        "colab_type": "text"
      },
      "source": [
        "<a href=\"https://colab.research.google.com/github/vjsurampudi/END/blob/main/Session14/Chatbot4CodeGen.ipynb\" target=\"_parent\"><img src=\"https://colab.research.google.com/assets/colab-badge.svg\" alt=\"Open In Colab\"/></a>"
      ]
    },
    {
      "cell_type": "code",
      "metadata": {
        "id": "ePVDJ5mb_DyY"
      },
      "source": [
        "import torch\n",
        "import torch.nn as nn\n",
        "import torch.optim as optim\n",
        "import torchtext\n",
        "from torchtext.legacy.data import Field, BucketIterator\n",
        "from torch.utils.data import DataLoader\n",
        "from torchtext.legacy.data import Dataset\n",
        "\n",
        "import matplotlib.pyplot as plt\n",
        "import matplotlib.ticker as ticker\n",
        "\n",
        "import spacy\n",
        "import numpy as np\n",
        "from tokenize import tokenize\n",
        "from io import BytesIO\n",
        "\n",
        "import random\n",
        "import math\n",
        "import time\n",
        "from google.colab import drive\n",
        "import os\n",
        "from torchtext.legacy.data import Example"
      ],
      "execution_count": 1,
      "outputs": []
    },
    {
      "cell_type": "code",
      "metadata": {
        "colab": {
          "base_uri": "https://localhost:8080/",
          "height": 35
        },
        "id": "ZAWfI6Ts_GGJ",
        "outputId": "adda07f6-8c6c-4a00-f45a-07a2178ca2a2"
      },
      "source": [
        "torch.__version__"
      ],
      "execution_count": 2,
      "outputs": [
        {
          "output_type": "execute_result",
          "data": {
            "application/vnd.google.colaboratory.intrinsic+json": {
              "type": "string"
            },
            "text/plain": [
              "'1.8.1+cu101'"
            ]
          },
          "metadata": {
            "tags": []
          },
          "execution_count": 2
        }
      ]
    },
    {
      "cell_type": "code",
      "metadata": {
        "colab": {
          "base_uri": "https://localhost:8080/"
        },
        "id": "l7I3-b0t_PDU",
        "outputId": "4d27f7c9-e632-4944-8679-62df6cf0ef87"
      },
      "source": [
        "drive.mount('/content/gdrive')"
      ],
      "execution_count": 3,
      "outputs": [
        {
          "output_type": "stream",
          "text": [
            "Mounted at /content/gdrive\n"
          ],
          "name": "stdout"
        }
      ]
    },
    {
      "cell_type": "code",
      "metadata": {
        "colab": {
          "base_uri": "https://localhost:8080/"
        },
        "id": "J2ylA_zU_ztc",
        "outputId": "4b67f844-51f7-4ce4-bb49-bc45b1ea0b5c"
      },
      "source": [
        "os.chdir('gdrive/MyDrive/END_Capstone')\n",
        "os.listdir('.')"
      ],
      "execution_count": 4,
      "outputs": [
        {
          "output_type": "execute_result",
          "data": {
            "text/plain": [
              "['conala-corpus',\n",
              " 'english_python_data_v1.txt',\n",
              " '.ipynb_checkpoints',\n",
              " 'english_python_data.txt',\n",
              " 'PreProcessedDataSet.txt',\n",
              " 'Conala.zip',\n",
              " 'tut6m-model.pt']"
            ]
          },
          "metadata": {
            "tags": []
          },
          "execution_count": 4
        }
      ]
    },
    {
      "cell_type": "markdown",
      "metadata": {
        "id": "SDBxKch5gU4O"
      },
      "source": [
        "To augment the current dataset, we look for additional datasets. Carnegie Mellon University released a dataset crawled from Stack Overflow and annotated. The dataset is available at: https://conala-corpus.github.io/\n",
        "\n",
        "We attempt to add the data to our existing data to create a larger dataset"
      ]
    },
    {
      "cell_type": "code",
      "metadata": {
        "colab": {
          "base_uri": "https://localhost:8080/"
        },
        "id": "jdg5SJs9I29n",
        "outputId": "3356d289-e3ac-4223-85e4-e8242435b92e"
      },
      "source": [
        "# Getting the CoNaLa corpus\n",
        "!wget -O Conala.zip \"http://www.phontron.com/download/conala-corpus-v1.1.zip\""
      ],
      "execution_count": 5,
      "outputs": [
        {
          "output_type": "stream",
          "text": [
            "--2021-04-01 08:15:16--  http://www.phontron.com/download/conala-corpus-v1.1.zip\n",
            "Resolving www.phontron.com (www.phontron.com)... 208.113.196.149\n",
            "Connecting to www.phontron.com (www.phontron.com)|208.113.196.149|:80... connected.\n",
            "HTTP request sent, awaiting response... 200 OK\n",
            "Length: 52105440 (50M) [application/zip]\n",
            "Saving to: ‘Conala.zip’\n",
            "\n",
            "Conala.zip          100%[===================>]  49.69M  53.5MB/s    in 0.9s    \n",
            "\n",
            "2021-04-01 08:15:17 (53.5 MB/s) - ‘Conala.zip’ saved [52105440/52105440]\n",
            "\n"
          ],
          "name": "stdout"
        }
      ]
    },
    {
      "cell_type": "code",
      "metadata": {
        "colab": {
          "base_uri": "https://localhost:8080/"
        },
        "id": "jMmKogxbLWmM",
        "outputId": "c5f9060e-71c5-452b-ed4e-228857b0bf15"
      },
      "source": [
        "# Unzipping CoNaLa corpus\n",
        "!unzip -n Conala.zip"
      ],
      "execution_count": 6,
      "outputs": [
        {
          "output_type": "stream",
          "text": [
            "Archive:  Conala.zip\n"
          ],
          "name": "stdout"
        }
      ]
    },
    {
      "cell_type": "code",
      "metadata": {
        "colab": {
          "base_uri": "https://localhost:8080/"
        },
        "id": "fZVvagNFL8oT",
        "outputId": "cdc40930-c642-4a2d-b41b-6dc545ed8ff9"
      },
      "source": [
        "!head conala-corpus/conala-train.json"
      ],
      "execution_count": 7,
      "outputs": [
        {
          "output_type": "stream",
          "text": [
            "[\n",
            "  {\n",
            "    \"intent\": \"How to convert a list of multiple integers into a single integer?\",\n",
            "    \"rewritten_intent\": \"Concatenate elements of a list 'x' of multiple integers to a single integer\",\n",
            "    \"snippet\": \"sum(d * 10 ** i for i, d in enumerate(x[::-1]))\",\n",
            "    \"question_id\": 41067960\n",
            "  },\n",
            "  {\n",
            "    \"intent\": \"How to convert a list of multiple integers into a single integer?\",\n",
            "    \"rewritten_intent\": \"convert a list of integers into a single integer\",\n"
          ],
          "name": "stdout"
        }
      ]
    },
    {
      "cell_type": "markdown",
      "metadata": {
        "id": "SLcgfCOijy2E"
      },
      "source": [
        "Create a list of titles (intent) and corresponding code snippet from Conala Dataset which is in JSON format"
      ]
    },
    {
      "cell_type": "code",
      "metadata": {
        "id": "Qjj1SolpMS9L"
      },
      "source": [
        "questions, answers = [],[]\n",
        "\n",
        "# loading train json\n",
        "import json\n",
        "f = open(\"conala-corpus/conala-train.json\",\"r\")\n",
        "train_file = json.load(f)\n",
        "f.close()\n",
        "\n",
        "for num,intent in enumerate(train_file):\n",
        "  if intent['intent'] is not None:\n",
        "    questions.append(intent['intent'])\n",
        "    answers.append(intent['snippet'])\n",
        "  if intent['rewritten_intent'] is not None:\n",
        "    questions.append(intent['rewritten_intent'])\n",
        "    answers.append(intent['snippet'])\n",
        "\n",
        "# loading train json\n",
        "f = open(\"conala-corpus/conala-test.json\",\"r\")\n",
        "test_file = json.load(f)\n",
        "f.close()\n",
        "\n",
        "for num,intent in enumerate(test_file):\n",
        "  if intent['intent'] is not None:\n",
        "    questions.append(intent['intent'])\n",
        "    answers.append(intent['snippet'])\n",
        "  if intent['rewritten_intent'] is not None:\n",
        "    questions.append(intent['rewritten_intent'])\n",
        "    answers.append(intent['snippet'])"
      ],
      "execution_count": 9,
      "outputs": []
    },
    {
      "cell_type": "code",
      "metadata": {
        "colab": {
          "base_uri": "https://localhost:8080/"
        },
        "id": "TS_LaXkANfrA",
        "outputId": "ef342c5e-7d57-46b8-8e00-e88f9f616dc4"
      },
      "source": [
        "questions[:10], answers[:10]"
      ],
      "execution_count": 10,
      "outputs": [
        {
          "output_type": "execute_result",
          "data": {
            "text/plain": [
              "(['How to convert a list of multiple integers into a single integer?',\n",
              "  \"Concatenate elements of a list 'x' of multiple integers to a single integer\",\n",
              "  'How to convert a list of multiple integers into a single integer?',\n",
              "  'convert a list of integers into a single integer',\n",
              "  'how to convert a datetime string back to datetime object?',\n",
              "  \"convert a DateTime string back to a DateTime object of format '%Y-%m-%d %H:%M:%S.%f'\",\n",
              "  'Averaging the values in a dictionary based on the key',\n",
              "  'get the average of a list values for each key in dictionary `d`)',\n",
              "  'zip lists in python',\n",
              "  'zip two lists `[1, 2]` and `[3, 4]` into a list of two tuples containing elements at the same index in each list'],\n",
              " ['sum(d * 10 ** i for i, d in enumerate(x[::-1]))',\n",
              "  'sum(d * 10 ** i for i, d in enumerate(x[::-1]))',\n",
              "  \"r = int(''.join(map(str, x)))\",\n",
              "  \"r = int(''.join(map(str, x)))\",\n",
              "  \"datetime.strptime('2010-11-13 10:33:54.227806', '%Y-%m-%d %H:%M:%S.%f')\",\n",
              "  \"datetime.strptime('2010-11-13 10:33:54.227806', '%Y-%m-%d %H:%M:%S.%f')\",\n",
              "  '[(i, sum(j) / len(j)) for i, j in list(d.items())]',\n",
              "  '[(i, sum(j) / len(j)) for i, j in list(d.items())]',\n",
              "  'zip([1, 2], [3, 4])',\n",
              "  'zip([1, 2], [3, 4])'])"
            ]
          },
          "metadata": {
            "tags": []
          },
          "execution_count": 10
        }
      ]
    },
    {
      "cell_type": "code",
      "metadata": {
        "colab": {
          "base_uri": "https://localhost:8080/"
        },
        "id": "up0tvlKqP_c6",
        "outputId": "79ff3ac7-1b1b-4a93-fb78-7531a924db26"
      },
      "source": [
        "len(questions), len(answers)"
      ],
      "execution_count": 11,
      "outputs": [
        {
          "output_type": "execute_result",
          "data": {
            "text/plain": [
              "(5656, 5656)"
            ]
          },
          "metadata": {
            "tags": []
          },
          "execution_count": 11
        }
      ]
    },
    {
      "cell_type": "markdown",
      "metadata": {
        "id": "6qUvUqFFkHo0"
      },
      "source": [
        "Reading Code question and the python code from the provided file which is preprocessed as follows:\n",
        "1. Replaced # on title line with #$$$ to distinguish from inline comments in code and title line\n",
        "2. Remove duplicate code snippets"
      ]
    },
    {
      "cell_type": "code",
      "metadata": {
        "id": "KlaATFU6_9RU"
      },
      "source": [
        "\n",
        "qlist = []\n",
        "alist = []\n",
        "with open(os.path.join(\"\", \"PreProcessedDataSet.txt\"), \"r\") as f:\n",
        "  data = f.readlines()\n",
        "line = False\n",
        "for QCode in data:\n",
        "  if QCode.startswith(\"#$$$\"):\n",
        "    temp = ' '.join(Q for Q in QCode.split()[1:])\n",
        "    qlist.append(temp)\n",
        "    if line == False:\n",
        "      Alist = []\n",
        "      line  = True\n",
        "    else:\n",
        "      alist.append(''.join(ans for ans in Alist))\n",
        "      Alist = []\n",
        "  else:\n",
        "    Alist.append(QCode)\n",
        "alist.append(''.join(ans for ans in Alist))"
      ],
      "execution_count": 13,
      "outputs": []
    },
    {
      "cell_type": "code",
      "metadata": {
        "colab": {
          "base_uri": "https://localhost:8080/"
        },
        "id": "vYZqk7yi7GZP",
        "outputId": "0f5371ba-c668-4f53-87d5-518dceb5560b"
      },
      "source": [
        "qlist.extend(questions)\n",
        "alist.extend(answers)\n",
        "print(len(qlist), len(alist))"
      ],
      "execution_count": 14,
      "outputs": [
        {
          "output_type": "stream",
          "text": [
            "9980 9980\n"
          ],
          "name": "stdout"
        }
      ]
    },
    {
      "cell_type": "markdown",
      "metadata": {
        "id": "j7FRdSvWkd_6"
      },
      "source": [
        "Using Spacy to tokenize the text for the title and python tokenizer for the code snippet"
      ]
    },
    {
      "cell_type": "code",
      "metadata": {
        "id": "M4fqhIZWAGrw"
      },
      "source": [
        "spacy_en = spacy.load('en')"
      ],
      "execution_count": 17,
      "outputs": []
    },
    {
      "cell_type": "code",
      "metadata": {
        "id": "LED34JoDAMDw"
      },
      "source": [
        "def tokenize_en(text):\n",
        "  \"\"\"\n",
        "  Tokenizes English text from a string into a list of strings\n",
        "  \"\"\"\n",
        "  return [tok.text for tok in spacy_en.tokenizer(text)]\n",
        "\n",
        "def codetokenize(text):\n",
        " # \"\"\"\n",
        "  #Tokenizes the python code \n",
        "  #\"\"\"\n",
        "  tokens = []\n",
        "  a = list(tokenize(BytesIO(text.encode('utf-8')).readline))\n",
        "  for i__ in a[1:-1]:\n",
        "      if i__.exact_type == 3:\n",
        "          string_tokens = [k__ for k__ in i__[1]]\n",
        "          tokens = tokens + string_tokens\n",
        "      elif i__.exact_type == 6:   \n",
        "          continue\n",
        "      else:\n",
        "          tokens.append(i__[1])\n",
        "  return tokens"
      ],
      "execution_count": 23,
      "outputs": []
    },
    {
      "cell_type": "code",
      "metadata": {
        "colab": {
          "base_uri": "https://localhost:8080/",
          "height": 35
        },
        "id": "ctZtzk0T9v9f",
        "outputId": "0ecb0dc8-3097-4d9c-b710-ebc3e1e0d13b"
      },
      "source": [
        "qlist[9000]"
      ],
      "execution_count": 20,
      "outputs": [
        {
          "output_type": "execute_result",
          "data": {
            "application/vnd.google.colaboratory.intrinsic+json": {
              "type": "string"
            },
            "text/plain": [
              "\"MySQL execute query 'SELECT * FROM foo WHERE bar = %s AND baz = %s' with parameters `param1` and `param2`\""
            ]
          },
          "metadata": {
            "tags": []
          },
          "execution_count": 20
        }
      ]
    },
    {
      "cell_type": "code",
      "metadata": {
        "id": "OxhOefImCW6_"
      },
      "source": [
        "SRC = Field(tokenize = tokenize_en, \n",
        "            init_token = '<sos>', \n",
        "            eos_token = '<eos>', \n",
        "            lower = True, \n",
        "            batch_first = True)\n",
        "\n",
        "TRG = Field(tokenize = codetokenize,       #tokenize_en, \n",
        "            init_token = '<sos>', \n",
        "            eos_token = '<eos>', \n",
        "            lower = False, \n",
        "            batch_first = True)\n",
        "\n",
        "fields = [('src', SRC), ('trg', TRG)]\n",
        "Gensample = [Example.fromlist([qlist[k], alist[k]], fields) for k in range(len(qlist))] \n",
        "dataset = Dataset(Gensample, fields=fields)\n",
        "#Tdata, test_data = dataset.split(0.9)\n",
        "#train_data, valid_data = Tdata.split(0.8)\n",
        "train_data, valid_data = dataset.split(0.8)"
      ],
      "execution_count": 24,
      "outputs": []
    },
    {
      "cell_type": "code",
      "metadata": {
        "id": "U2bwTYx4byrm"
      },
      "source": [
        "## Building vocabulary\n",
        "SRC.build_vocab(train_data, min_freq = 2)\n",
        "TRG.build_vocab(train_data, min_freq = 10)"
      ],
      "execution_count": 25,
      "outputs": []
    },
    {
      "cell_type": "code",
      "metadata": {
        "colab": {
          "base_uri": "https://localhost:8080/"
        },
        "id": "ugf5teIyLO5G",
        "outputId": "563d49f4-2844-4957-d5ad-e6650f2bc162"
      },
      "source": [
        "len(SRC.vocab), len(TRG.vocab)"
      ],
      "execution_count": 26,
      "outputs": [
        {
          "output_type": "execute_result",
          "data": {
            "text/plain": [
              "(2376, 899)"
            ]
          },
          "metadata": {
            "tags": []
          },
          "execution_count": 26
        }
      ]
    },
    {
      "cell_type": "code",
      "metadata": {
        "colab": {
          "base_uri": "https://localhost:8080/"
        },
        "id": "dbnnxZ7icyKD",
        "outputId": "4e5051bd-8413-42c7-dac6-30ed8e58a3d7"
      },
      "source": [
        "device = torch.device('cuda' if torch.cuda.is_available() else 'cpu')\n",
        "device"
      ],
      "execution_count": 27,
      "outputs": [
        {
          "output_type": "execute_result",
          "data": {
            "text/plain": [
              "device(type='cuda')"
            ]
          },
          "metadata": {
            "tags": []
          },
          "execution_count": 27
        }
      ]
    },
    {
      "cell_type": "code",
      "metadata": {
        "id": "z60AQbfgc2uE"
      },
      "source": [
        "BATCH_SIZE = 16\n",
        "\n",
        "#train_iterator, valid_iterator, test_iterator = BucketIterator.splits(\n",
        " #   (train_data, valid_data, test_data), \n",
        "  #   batch_size = BATCH_SIZE,\n",
        "   #  sort_key = lambda x: len(x.trg),\n",
        "    # device = device)\n",
        "\n",
        "train_iterator, valid_iterator = BucketIterator.splits(\n",
        "    (train_data, valid_data), \n",
        "     batch_size = BATCH_SIZE,\n",
        "     sort_key = lambda x: len(x.trg),\n",
        "     device = device)"
      ],
      "execution_count": 28,
      "outputs": []
    },
    {
      "cell_type": "code",
      "metadata": {
        "id": "eedWM3auc7qy"
      },
      "source": [
        "class Encoder(nn.Module):\n",
        "    def __init__(self, \n",
        "                 input_dim, \n",
        "                 hid_dim, \n",
        "                 n_layers, \n",
        "                 n_heads, \n",
        "                 pf_dim,\n",
        "                 dropout, \n",
        "                 device,\n",
        "                 max_length = 100):\n",
        "        super().__init__()\n",
        "\n",
        "        self.device = device\n",
        "        \n",
        "        self.tok_embedding = nn.Embedding(input_dim, hid_dim)\n",
        "        self.pos_embedding = nn.Embedding(max_length, hid_dim)\n",
        "        \n",
        "        self.layers = nn.ModuleList([EncoderLayer(hid_dim, \n",
        "                                                  n_heads, \n",
        "                                                  pf_dim,\n",
        "                                                  dropout, \n",
        "                                                  device) \n",
        "                                     for _ in range(n_layers)])\n",
        "        \n",
        "        self.dropout = nn.Dropout(dropout)\n",
        "        \n",
        "        self.scale = torch.sqrt(torch.FloatTensor([hid_dim])).to(device)\n",
        "        \n",
        "    def forward(self, src, src_mask):\n",
        "        \n",
        "        #src = [batch size, src len]\n",
        "        #src_mask = [batch size, 1, 1, src len]\n",
        "        \n",
        "        batch_size = src.shape[0]\n",
        "        src_len = src.shape[1]\n",
        "        \n",
        "        pos = torch.arange(0, src_len).unsqueeze(0).repeat(batch_size, 1).to(self.device)\n",
        "        \n",
        "        #pos = [batch size, src len]\n",
        "        \n",
        "        src = self.dropout((self.tok_embedding(src) * self.scale) + self.pos_embedding(pos))\n",
        "        \n",
        "        #src = [batch size, src len, hid dim]\n",
        "        \n",
        "        for layer in self.layers:\n",
        "            src = layer(src, src_mask)\n",
        "            \n",
        "        #src = [batch size, src len, hid dim]\n",
        "            \n",
        "        return src"
      ],
      "execution_count": 29,
      "outputs": []
    },
    {
      "cell_type": "code",
      "metadata": {
        "id": "40gXYwLNdDxX"
      },
      "source": [
        "class EncoderLayer(nn.Module):\n",
        "    def __init__(self, \n",
        "                 hid_dim, \n",
        "                 n_heads, \n",
        "                 pf_dim,  \n",
        "                 dropout, \n",
        "                 device):\n",
        "        super().__init__()\n",
        "        \n",
        "        self.self_attn_layer_norm = nn.LayerNorm(hid_dim)\n",
        "        self.ff_layer_norm = nn.LayerNorm(hid_dim)\n",
        "        self.self_attention = MultiHeadAttentionLayer(hid_dim, n_heads, dropout, device)\n",
        "        self.positionwise_feedforward = PositionwiseFeedforwardLayer(hid_dim, \n",
        "                                                                     pf_dim, \n",
        "                                                                     dropout)\n",
        "        self.dropout = nn.Dropout(dropout)\n",
        "        \n",
        "    def forward(self, src, src_mask):\n",
        "        \n",
        "        #src = [batch size, src len, hid dim]\n",
        "        #src_mask = [batch size, 1, 1, src len] \n",
        "                \n",
        "        #self attention\n",
        "        _src, _ = self.self_attention(src, src, src, src_mask)\n",
        "        \n",
        "        #dropout, residual connection and layer norm\n",
        "        src = self.self_attn_layer_norm(src + self.dropout(_src))\n",
        "        \n",
        "        #src = [batch size, src len, hid dim]\n",
        "        \n",
        "        #positionwise feedforward\n",
        "        _src = self.positionwise_feedforward(src)\n",
        "        \n",
        "        #dropout, residual and layer norm\n",
        "        src = self.ff_layer_norm(src + self.dropout(_src))\n",
        "        \n",
        "        #src = [batch size, src len, hid dim]\n",
        "        \n",
        "        return src"
      ],
      "execution_count": 30,
      "outputs": []
    },
    {
      "cell_type": "code",
      "metadata": {
        "id": "xK7PmF5GdLpu"
      },
      "source": [
        "class MultiHeadAttentionLayer(nn.Module):\n",
        "    def __init__(self, hid_dim, n_heads, dropout, device):\n",
        "        super().__init__()\n",
        "        \n",
        "        assert hid_dim % n_heads == 0\n",
        "        \n",
        "        self.hid_dim = hid_dim\n",
        "        self.n_heads = n_heads\n",
        "        self.head_dim = hid_dim // n_heads\n",
        "        \n",
        "        self.fc_q = nn.Linear(hid_dim, hid_dim)\n",
        "        self.fc_k = nn.Linear(hid_dim, hid_dim)\n",
        "        self.fc_v = nn.Linear(hid_dim, hid_dim)\n",
        "        \n",
        "        self.fc_o = nn.Linear(hid_dim, hid_dim)\n",
        "        \n",
        "        self.dropout = nn.Dropout(dropout)\n",
        "        \n",
        "        self.scale = torch.sqrt(torch.FloatTensor([self.head_dim])).to(device)\n",
        "        \n",
        "    def forward(self, query, key, value, mask = None):\n",
        "        \n",
        "        batch_size = query.shape[0]\n",
        "        \n",
        "        #query = [batch size, query len, hid dim]\n",
        "        #key = [batch size, key len, hid dim]\n",
        "        #value = [batch size, value len, hid dim]\n",
        "                \n",
        "        Q = self.fc_q(query)\n",
        "        K = self.fc_k(key)\n",
        "        V = self.fc_v(value)\n",
        "        \n",
        "        #Q = [batch size, query len, hid dim]\n",
        "        #K = [batch size, key len, hid dim]\n",
        "        #V = [batch size, value len, hid dim]\n",
        "                \n",
        "        Q = Q.view(batch_size, -1, self.n_heads, self.head_dim).permute(0, 2, 1, 3)\n",
        "        K = K.view(batch_size, -1, self.n_heads, self.head_dim).permute(0, 2, 1, 3)\n",
        "        V = V.view(batch_size, -1, self.n_heads, self.head_dim).permute(0, 2, 1, 3)\n",
        "        \n",
        "        #Q = [batch size, n heads, query len, head dim]\n",
        "        #K = [batch size, n heads, key len, head dim]\n",
        "        #V = [batch size, n heads, value len, head dim]\n",
        "                \n",
        "        energy = torch.matmul(Q, K.permute(0, 1, 3, 2)) / self.scale\n",
        "        \n",
        "        #energy = [batch size, n heads, query len, key len]\n",
        "        \n",
        "        if mask is not None:\n",
        "            energy = energy.masked_fill(mask == 0, -1e10)\n",
        "        \n",
        "        attention = torch.softmax(energy, dim = -1)\n",
        "                \n",
        "        #attention = [batch size, n heads, query len, key len]\n",
        "                \n",
        "        x = torch.matmul(self.dropout(attention), V)\n",
        "        \n",
        "        #x = [batch size, n heads, query len, head dim]\n",
        "        \n",
        "        x = x.permute(0, 2, 1, 3).contiguous()\n",
        "        \n",
        "        #x = [batch size, query len, n heads, head dim]\n",
        "        \n",
        "        x = x.view(batch_size, -1, self.hid_dim)\n",
        "        \n",
        "        #x = [batch size, query len, hid dim]\n",
        "        \n",
        "        x = self.fc_o(x)\n",
        "        \n",
        "        #x = [batch size, query len, hid dim]\n",
        "        \n",
        "        return x, attention"
      ],
      "execution_count": 31,
      "outputs": []
    },
    {
      "cell_type": "code",
      "metadata": {
        "id": "4w5S_WMUe3Bm"
      },
      "source": [
        "class PositionwiseFeedforwardLayer(nn.Module):\n",
        "    def __init__(self, hid_dim, pf_dim, dropout):\n",
        "        super().__init__()\n",
        "        \n",
        "        self.fc_1 = nn.Linear(hid_dim, pf_dim)\n",
        "        self.fc_2 = nn.Linear(pf_dim, hid_dim)\n",
        "        \n",
        "        self.dropout = nn.Dropout(dropout)\n",
        "        \n",
        "    def forward(self, x):\n",
        "        \n",
        "        #x = [batch size, seq len, hid dim]\n",
        "        \n",
        "        x = self.dropout(torch.relu(self.fc_1(x)))\n",
        "        \n",
        "        #x = [batch size, seq len, pf dim]\n",
        "        \n",
        "        x = self.fc_2(x)\n",
        "        \n",
        "        #x = [batch size, seq len, hid dim]\n",
        "        \n",
        "        return x"
      ],
      "execution_count": 32,
      "outputs": []
    },
    {
      "cell_type": "code",
      "metadata": {
        "id": "thBv96GHdR60"
      },
      "source": [
        "class Decoder(nn.Module):\n",
        "    def __init__(self, \n",
        "                 output_dim, \n",
        "                 hid_dim, \n",
        "                 n_layers, \n",
        "                 n_heads, \n",
        "                 pf_dim, \n",
        "                 dropout, \n",
        "                 device,\n",
        "                 max_length = 100):\n",
        "        super().__init__()\n",
        "        \n",
        "        self.device = device\n",
        "        \n",
        "        self.tok_embedding = nn.Embedding(output_dim, hid_dim)\n",
        "        self.pos_embedding = nn.Embedding(max_length, hid_dim)\n",
        "        \n",
        "        self.layers = nn.ModuleList([DecoderLayer(hid_dim, \n",
        "                                                  n_heads, \n",
        "                                                  pf_dim, \n",
        "                                                  dropout, \n",
        "                                                  device)\n",
        "                                     for _ in range(n_layers)])\n",
        "        \n",
        "        self.fc_out = nn.Linear(hid_dim, output_dim)\n",
        "        \n",
        "        self.dropout = nn.Dropout(dropout)\n",
        "        \n",
        "        self.scale = torch.sqrt(torch.FloatTensor([hid_dim])).to(device)\n",
        "        \n",
        "    def forward(self, trg, enc_src, trg_mask, src_mask):\n",
        "        \n",
        "        #trg = [batch size, trg len]\n",
        "        #enc_src = [batch size, src len, hid dim]\n",
        "        #trg_mask = [batch size, 1, trg len, trg len]\n",
        "        #src_mask = [batch size, 1, 1, src len]\n",
        "                \n",
        "        batch_size = trg.shape[0]\n",
        "        trg_len = trg.shape[1]\n",
        "        \n",
        "        pos = torch.arange(0, trg_len).unsqueeze(0).repeat(batch_size, 1).to(self.device)\n",
        "                            \n",
        "        #pos = [batch size, trg len]\n",
        "            \n",
        "        trg = self.dropout((self.tok_embedding(trg) * self.scale) + self.pos_embedding(pos))\n",
        "                \n",
        "        #trg = [batch size, trg len, hid dim]\n",
        "        \n",
        "        for layer in self.layers:\n",
        "            trg, attention = layer(trg, enc_src, trg_mask, src_mask)\n",
        "        \n",
        "        #trg = [batch size, trg len, hid dim]\n",
        "        #attention = [batch size, n heads, trg len, src len]\n",
        "        \n",
        "        output = self.fc_out(trg)\n",
        "        \n",
        "        #output = [batch size, trg len, output dim]\n",
        "            \n",
        "        return output, attention"
      ],
      "execution_count": 33,
      "outputs": []
    },
    {
      "cell_type": "code",
      "metadata": {
        "id": "0eHgSPedddzv"
      },
      "source": [
        "class DecoderLayer(nn.Module):\n",
        "    def __init__(self, \n",
        "                 hid_dim, \n",
        "                 n_heads, \n",
        "                 pf_dim, \n",
        "                 dropout, \n",
        "                 device):\n",
        "        super().__init__()\n",
        "        \n",
        "        self.self_attn_layer_norm = nn.LayerNorm(hid_dim)\n",
        "        self.enc_attn_layer_norm = nn.LayerNorm(hid_dim)\n",
        "        self.ff_layer_norm = nn.LayerNorm(hid_dim)\n",
        "        self.self_attention = MultiHeadAttentionLayer(hid_dim, n_heads, dropout, device)\n",
        "        self.encoder_attention = MultiHeadAttentionLayer(hid_dim, n_heads, dropout, device)\n",
        "        self.positionwise_feedforward = PositionwiseFeedforwardLayer(hid_dim, \n",
        "                                                                     pf_dim, \n",
        "                                                                     dropout)\n",
        "        self.dropout = nn.Dropout(dropout)\n",
        "        \n",
        "    def forward(self, trg, enc_src, trg_mask, src_mask):\n",
        "        \n",
        "        #trg = [batch size, trg len, hid dim]\n",
        "        #enc_src = [batch size, src len, hid dim]\n",
        "        #trg_mask = [batch size, 1, trg len, trg len]\n",
        "        #src_mask = [batch size, 1, 1, src len]\n",
        "        \n",
        "        #self attention\n",
        "        _trg, _ = self.self_attention(trg, trg, trg, trg_mask)\n",
        "        \n",
        "        #dropout, residual connection and layer norm\n",
        "        trg = self.self_attn_layer_norm(trg + self.dropout(_trg))\n",
        "            \n",
        "        #trg = [batch size, trg len, hid dim]\n",
        "            \n",
        "        #encoder attention\n",
        "        _trg, attention = self.encoder_attention(trg, enc_src, enc_src, src_mask)\n",
        "        # query, key, value\n",
        "        \n",
        "        #dropout, residual connection and layer norm\n",
        "        trg = self.enc_attn_layer_norm(trg + self.dropout(_trg))\n",
        "                    \n",
        "        #trg = [batch size, trg len, hid dim]\n",
        "        \n",
        "        #positionwise feedforward\n",
        "        _trg = self.positionwise_feedforward(trg)\n",
        "        \n",
        "        #dropout, residual and layer norm\n",
        "        trg = self.ff_layer_norm(trg + self.dropout(_trg))\n",
        "        \n",
        "        #trg = [batch size, trg len, hid dim]\n",
        "        #attention = [batch size, n heads, trg len, src len]\n",
        "        \n",
        "        return trg, attention"
      ],
      "execution_count": 34,
      "outputs": []
    },
    {
      "cell_type": "code",
      "metadata": {
        "id": "CopYiafxdf3b"
      },
      "source": [
        "class Seq2Seq(nn.Module):\n",
        "    def __init__(self, \n",
        "                 encoder, \n",
        "                 decoder, \n",
        "                 src_pad_idx, \n",
        "                 trg_pad_idx, \n",
        "                 device):\n",
        "        super().__init__()\n",
        "        \n",
        "        self.encoder = encoder\n",
        "        self.decoder = decoder\n",
        "        self.src_pad_idx = src_pad_idx\n",
        "        self.trg_pad_idx = trg_pad_idx\n",
        "        self.device = device\n",
        "        \n",
        "    def make_src_mask(self, src):\n",
        "        \n",
        "        #src = [batch size, src len]\n",
        "        \n",
        "        src_mask = (src != self.src_pad_idx).unsqueeze(1).unsqueeze(2)\n",
        "\n",
        "        #src_mask = [batch size, 1, 1, src len]\n",
        "\n",
        "        return src_mask\n",
        "    \n",
        "    def make_trg_mask(self, trg):\n",
        "        \n",
        "        #trg = [batch size, trg len]\n",
        "        \n",
        "        trg_pad_mask = (trg != self.trg_pad_idx).unsqueeze(1).unsqueeze(2)\n",
        "        \n",
        "        #trg_pad_mask = [batch size, 1, 1, trg len]\n",
        "        \n",
        "        trg_len = trg.shape[1]\n",
        "        \n",
        "        trg_sub_mask = torch.tril(torch.ones((trg_len, trg_len), device = self.device)).bool()\n",
        "        \n",
        "        #trg_sub_mask = [trg len, trg len]\n",
        "            \n",
        "        trg_mask = trg_pad_mask & trg_sub_mask\n",
        "        \n",
        "        #trg_mask = [batch size, 1, trg len, trg len]\n",
        "        \n",
        "        return trg_mask\n",
        "\n",
        "    def forward(self, src, trg):\n",
        "        \n",
        "        #src = [batch size, src len]\n",
        "        #trg = [batch size, trg len]\n",
        "                \n",
        "        src_mask = self.make_src_mask(src)\n",
        "        trg_mask = self.make_trg_mask(trg)\n",
        "        \n",
        "        #src_mask = [batch size, 1, 1, src len]\n",
        "        #trg_mask = [batch size, 1, trg len, trg len]\n",
        "        \n",
        "        enc_src = self.encoder(src, src_mask)\n",
        "        \n",
        "        #enc_src = [batch size, src len, hid dim]\n",
        "                \n",
        "        output, attention = self.decoder(trg, enc_src, trg_mask, src_mask)\n",
        "        \n",
        "        #output = [batch size, trg len, output dim]\n",
        "        #attention = [batch size, n heads, trg len, src len]\n",
        "        \n",
        "        return output, attention"
      ],
      "execution_count": 35,
      "outputs": []
    },
    {
      "cell_type": "code",
      "metadata": {
        "id": "ysWBNwgLdxF4"
      },
      "source": [
        "INPUT_DIM = len(SRC.vocab)\n",
        "OUTPUT_DIM = len(TRG.vocab)\n",
        "HID_DIM = 256\n",
        "ENC_LAYERS = 3\n",
        "DEC_LAYERS = 4\n",
        "ENC_HEADS = 8\n",
        "DEC_HEADS = 8\n",
        "ENC_PF_DIM = 512\n",
        "DEC_PF_DIM = 512\n",
        "ENC_DROPOUT = 0.1\n",
        "DEC_DROPOUT = 0.1\n",
        "max_length = 3000\n",
        "\n",
        "enc = Encoder(INPUT_DIM, \n",
        "              HID_DIM, \n",
        "              ENC_LAYERS, \n",
        "              ENC_HEADS, \n",
        "              ENC_PF_DIM, \n",
        "              ENC_DROPOUT, \n",
        "              device)\n",
        "\n",
        "dec = Decoder(OUTPUT_DIM, \n",
        "              HID_DIM, \n",
        "              DEC_LAYERS, \n",
        "              DEC_HEADS, \n",
        "              DEC_PF_DIM, \n",
        "              DEC_DROPOUT, \n",
        "              device,\n",
        "              max_length)"
      ],
      "execution_count": 36,
      "outputs": []
    },
    {
      "cell_type": "code",
      "metadata": {
        "id": "AmyihDvvfKrA"
      },
      "source": [
        "SRC_PAD_IDX = SRC.vocab.stoi[SRC.pad_token]\n",
        "TRG_PAD_IDX = TRG.vocab.stoi[TRG.pad_token]\n",
        "\n",
        "model = Seq2Seq(enc, dec, SRC_PAD_IDX, TRG_PAD_IDX, device).to(device)"
      ],
      "execution_count": 37,
      "outputs": []
    },
    {
      "cell_type": "code",
      "metadata": {
        "colab": {
          "base_uri": "https://localhost:8080/"
        },
        "id": "xOVK_APYfUrT",
        "outputId": "cc72d655-69df-4e6d-f314-52a006d41a84"
      },
      "source": [
        "def count_parameters(model):\n",
        "    return sum(p.numel() for p in model.parameters() if p.requires_grad)\n",
        "\n",
        "print(f'The model has {count_parameters(model):,} trainable parameters')"
      ],
      "execution_count": 38,
      "outputs": [
        {
          "output_type": "stream",
          "text": [
            "The model has 6,607,491 trainable parameters\n"
          ],
          "name": "stdout"
        }
      ]
    },
    {
      "cell_type": "code",
      "metadata": {
        "id": "iCxkSRTIfcCT"
      },
      "source": [
        "def initialize_weights(m):\n",
        "    if hasattr(m, 'weight') and m.weight.dim() > 1:\n",
        "        nn.init.xavier_uniform_(m.weight.data)"
      ],
      "execution_count": 39,
      "outputs": []
    },
    {
      "cell_type": "code",
      "metadata": {
        "id": "AyGfxr1OfgR7"
      },
      "source": [
        "model.apply(initialize_weights);"
      ],
      "execution_count": 40,
      "outputs": []
    },
    {
      "cell_type": "code",
      "metadata": {
        "id": "w-WQ5nodfkQD"
      },
      "source": [
        "LEARNING_RATE = 0.0005\n",
        "\n",
        "optimizer = torch.optim.Adam(model.parameters(), lr = LEARNING_RATE)"
      ],
      "execution_count": 41,
      "outputs": []
    },
    {
      "cell_type": "code",
      "metadata": {
        "id": "mVurLIj_fpNz"
      },
      "source": [
        "criterion = nn.CrossEntropyLoss(ignore_index = TRG_PAD_IDX)"
      ],
      "execution_count": 42,
      "outputs": []
    },
    {
      "cell_type": "code",
      "metadata": {
        "id": "rzPfhVGNfx7e"
      },
      "source": [
        "def train(model, iterator, optimizer, criterion, clip):\n",
        "    \n",
        "    model.train()\n",
        "    \n",
        "    epoch_loss = 0\n",
        "    \n",
        "    for i, batch in enumerate(iterator):\n",
        "        \n",
        "        src = batch.src\n",
        "        trg = batch.trg\n",
        "        \n",
        "        optimizer.zero_grad()\n",
        "        \n",
        "        output, _ = model(src, trg[:,:-1])\n",
        "                \n",
        "        #output = [batch size, trg len - 1, output dim]\n",
        "        #trg = [batch size, trg len]\n",
        "            \n",
        "        output_dim = output.shape[-1]\n",
        "            \n",
        "        output = output.contiguous().view(-1, output_dim)\n",
        "        trg = trg[:,1:].contiguous().view(-1)\n",
        "                \n",
        "        #output = [batch size * trg len - 1, output dim]\n",
        "        #trg = [batch size * trg len - 1]\n",
        "            \n",
        "        loss = criterion(output, trg)\n",
        "        \n",
        "        loss.backward()\n",
        "        \n",
        "        torch.nn.utils.clip_grad_norm_(model.parameters(), clip)\n",
        "        \n",
        "        optimizer.step()\n",
        "        \n",
        "        epoch_loss += loss.item()\n",
        "        \n",
        "    return epoch_loss / len(iterator)"
      ],
      "execution_count": 43,
      "outputs": []
    },
    {
      "cell_type": "code",
      "metadata": {
        "id": "xL34jZxaf0Al"
      },
      "source": [
        "def evaluate(model, iterator, criterion):\n",
        "    \n",
        "    model.eval()\n",
        "    \n",
        "    epoch_loss = 0\n",
        "    \n",
        "    with torch.no_grad():\n",
        "    \n",
        "        for i, batch in enumerate(iterator):\n",
        "\n",
        "            src = batch.src\n",
        "            trg = batch.trg\n",
        "\n",
        "            output, _ = model(src, trg[:,:-1])\n",
        "            \n",
        "            #output = [batch size, trg len - 1, output dim]\n",
        "            #trg = [batch size, trg len]\n",
        "            \n",
        "            output_dim = output.shape[-1]\n",
        "            \n",
        "            output = output.contiguous().view(-1, output_dim)\n",
        "            trg = trg[:,1:].contiguous().view(-1)\n",
        "            \n",
        "            #output = [batch size * trg len - 1, output dim]\n",
        "            #trg = [batch size * trg len - 1]\n",
        "            \n",
        "            loss = criterion(output, trg)\n",
        "\n",
        "            epoch_loss += loss.item()\n",
        "        \n",
        "    return epoch_loss / len(iterator)"
      ],
      "execution_count": 44,
      "outputs": []
    },
    {
      "cell_type": "code",
      "metadata": {
        "id": "feXkC6EEf5GS"
      },
      "source": [
        "def epoch_time(start_time, end_time):\n",
        "    elapsed_time = end_time - start_time\n",
        "    elapsed_mins = int(elapsed_time / 60)\n",
        "    elapsed_secs = int(elapsed_time - (elapsed_mins * 60))\n",
        "    return elapsed_mins, elapsed_secs"
      ],
      "execution_count": 45,
      "outputs": []
    },
    {
      "cell_type": "code",
      "metadata": {
        "colab": {
          "base_uri": "https://localhost:8080/"
        },
        "id": "ZhbNhvb1f-2X",
        "outputId": "3a01848e-dff1-4e1d-9992-804f8bd06cee"
      },
      "source": [
        "N_EPOCHS = 100\n",
        "CLIP = 1\n",
        "\n",
        "best_valid_loss = float('inf')\n",
        "\n",
        "for epoch in range(N_EPOCHS):\n",
        "    \n",
        "    start_time = time.time()\n",
        "    \n",
        "    train_loss = train(model, train_iterator, optimizer, criterion, CLIP)\n",
        "    valid_loss = evaluate(model, valid_iterator, criterion)\n",
        "    \n",
        "    end_time = time.time()\n",
        "    \n",
        "    epoch_mins, epoch_secs = epoch_time(start_time, end_time)\n",
        "    \n",
        "    if valid_loss < best_valid_loss:\n",
        "        best_valid_loss = valid_loss\n",
        "        torch.save(model.state_dict(), 'tut6m-model.pt')\n",
        "    \n",
        "    print(f'Epoch: {epoch+1:02} | Time: {epoch_mins}m {epoch_secs}s')\n",
        "    print(f'\\tTrain Loss: {train_loss:.3f} | Train PPL: {math.exp(train_loss):7.3f}')\n",
        "    print(f'\\t Val. Loss: {valid_loss:.3f} |  Val. PPL: {math.exp(valid_loss):7.3f}')"
      ],
      "execution_count": 46,
      "outputs": [
        {
          "output_type": "stream",
          "text": [
            "Epoch: 01 | Time: 0m 35s\n",
            "\tTrain Loss: 3.281 | Train PPL:  26.590\n",
            "\t Val. Loss: 2.331 |  Val. PPL:  10.290\n",
            "Epoch: 02 | Time: 0m 35s\n",
            "\tTrain Loss: 2.405 | Train PPL:  11.076\n",
            "\t Val. Loss: 1.999 |  Val. PPL:   7.384\n",
            "Epoch: 03 | Time: 0m 36s\n",
            "\tTrain Loss: 2.132 | Train PPL:   8.430\n",
            "\t Val. Loss: 1.803 |  Val. PPL:   6.070\n",
            "Epoch: 04 | Time: 0m 36s\n",
            "\tTrain Loss: 1.947 | Train PPL:   7.008\n",
            "\t Val. Loss: 1.677 |  Val. PPL:   5.349\n",
            "Epoch: 05 | Time: 0m 36s\n",
            "\tTrain Loss: 1.810 | Train PPL:   6.112\n",
            "\t Val. Loss: 1.583 |  Val. PPL:   4.870\n",
            "Epoch: 06 | Time: 0m 36s\n",
            "\tTrain Loss: 1.699 | Train PPL:   5.466\n",
            "\t Val. Loss: 1.516 |  Val. PPL:   4.554\n",
            "Epoch: 07 | Time: 0m 36s\n",
            "\tTrain Loss: 1.599 | Train PPL:   4.948\n",
            "\t Val. Loss: 1.456 |  Val. PPL:   4.290\n",
            "Epoch: 08 | Time: 0m 36s\n",
            "\tTrain Loss: 1.517 | Train PPL:   4.558\n",
            "\t Val. Loss: 1.396 |  Val. PPL:   4.040\n",
            "Epoch: 09 | Time: 0m 36s\n",
            "\tTrain Loss: 1.445 | Train PPL:   4.240\n",
            "\t Val. Loss: 1.372 |  Val. PPL:   3.941\n",
            "Epoch: 10 | Time: 0m 36s\n",
            "\tTrain Loss: 1.381 | Train PPL:   3.979\n",
            "\t Val. Loss: 1.318 |  Val. PPL:   3.735\n",
            "Epoch: 11 | Time: 0m 36s\n",
            "\tTrain Loss: 1.320 | Train PPL:   3.742\n",
            "\t Val. Loss: 1.299 |  Val. PPL:   3.664\n",
            "Epoch: 12 | Time: 0m 35s\n",
            "\tTrain Loss: 1.264 | Train PPL:   3.540\n",
            "\t Val. Loss: 1.270 |  Val. PPL:   3.563\n",
            "Epoch: 13 | Time: 0m 36s\n",
            "\tTrain Loss: 1.214 | Train PPL:   3.368\n",
            "\t Val. Loss: 1.223 |  Val. PPL:   3.398\n",
            "Epoch: 14 | Time: 0m 36s\n",
            "\tTrain Loss: 1.170 | Train PPL:   3.220\n",
            "\t Val. Loss: 1.206 |  Val. PPL:   3.339\n",
            "Epoch: 15 | Time: 0m 36s\n",
            "\tTrain Loss: 1.128 | Train PPL:   3.090\n",
            "\t Val. Loss: 1.184 |  Val. PPL:   3.267\n",
            "Epoch: 16 | Time: 0m 36s\n",
            "\tTrain Loss: 1.100 | Train PPL:   3.005\n",
            "\t Val. Loss: 1.171 |  Val. PPL:   3.226\n",
            "Epoch: 17 | Time: 0m 36s\n",
            "\tTrain Loss: 1.059 | Train PPL:   2.883\n",
            "\t Val. Loss: 1.173 |  Val. PPL:   3.232\n",
            "Epoch: 18 | Time: 0m 36s\n",
            "\tTrain Loss: 1.029 | Train PPL:   2.799\n",
            "\t Val. Loss: 1.141 |  Val. PPL:   3.129\n",
            "Epoch: 19 | Time: 0m 36s\n",
            "\tTrain Loss: 1.001 | Train PPL:   2.720\n",
            "\t Val. Loss: 1.124 |  Val. PPL:   3.078\n",
            "Epoch: 20 | Time: 0m 36s\n",
            "\tTrain Loss: 0.974 | Train PPL:   2.648\n",
            "\t Val. Loss: 1.122 |  Val. PPL:   3.070\n",
            "Epoch: 21 | Time: 0m 36s\n",
            "\tTrain Loss: 0.948 | Train PPL:   2.581\n",
            "\t Val. Loss: 1.105 |  Val. PPL:   3.020\n",
            "Epoch: 22 | Time: 0m 36s\n",
            "\tTrain Loss: 0.923 | Train PPL:   2.518\n",
            "\t Val. Loss: 1.107 |  Val. PPL:   3.026\n",
            "Epoch: 23 | Time: 0m 36s\n",
            "\tTrain Loss: 0.905 | Train PPL:   2.472\n",
            "\t Val. Loss: 1.081 |  Val. PPL:   2.949\n",
            "Epoch: 24 | Time: 0m 36s\n",
            "\tTrain Loss: 0.879 | Train PPL:   2.409\n",
            "\t Val. Loss: 1.074 |  Val. PPL:   2.926\n",
            "Epoch: 25 | Time: 0m 36s\n",
            "\tTrain Loss: 0.862 | Train PPL:   2.368\n",
            "\t Val. Loss: 1.072 |  Val. PPL:   2.922\n",
            "Epoch: 26 | Time: 0m 36s\n",
            "\tTrain Loss: 0.842 | Train PPL:   2.321\n",
            "\t Val. Loss: 1.058 |  Val. PPL:   2.881\n",
            "Epoch: 27 | Time: 0m 36s\n",
            "\tTrain Loss: 0.827 | Train PPL:   2.287\n",
            "\t Val. Loss: 1.072 |  Val. PPL:   2.921\n",
            "Epoch: 28 | Time: 0m 36s\n",
            "\tTrain Loss: 0.810 | Train PPL:   2.248\n",
            "\t Val. Loss: 1.047 |  Val. PPL:   2.849\n",
            "Epoch: 29 | Time: 0m 36s\n",
            "\tTrain Loss: 0.792 | Train PPL:   2.208\n",
            "\t Val. Loss: 1.045 |  Val. PPL:   2.844\n",
            "Epoch: 30 | Time: 0m 36s\n",
            "\tTrain Loss: 0.781 | Train PPL:   2.184\n",
            "\t Val. Loss: 1.053 |  Val. PPL:   2.865\n",
            "Epoch: 31 | Time: 0m 36s\n",
            "\tTrain Loss: 0.760 | Train PPL:   2.139\n",
            "\t Val. Loss: 1.039 |  Val. PPL:   2.827\n",
            "Epoch: 32 | Time: 0m 36s\n",
            "\tTrain Loss: 0.749 | Train PPL:   2.116\n",
            "\t Val. Loss: 1.044 |  Val. PPL:   2.841\n",
            "Epoch: 33 | Time: 0m 36s\n",
            "\tTrain Loss: 0.736 | Train PPL:   2.088\n",
            "\t Val. Loss: 1.027 |  Val. PPL:   2.792\n",
            "Epoch: 34 | Time: 0m 36s\n",
            "\tTrain Loss: 0.724 | Train PPL:   2.062\n",
            "\t Val. Loss: 1.046 |  Val. PPL:   2.845\n",
            "Epoch: 35 | Time: 0m 36s\n",
            "\tTrain Loss: 0.713 | Train PPL:   2.040\n",
            "\t Val. Loss: 1.044 |  Val. PPL:   2.841\n",
            "Epoch: 36 | Time: 0m 36s\n",
            "\tTrain Loss: 0.697 | Train PPL:   2.008\n",
            "\t Val. Loss: 1.033 |  Val. PPL:   2.810\n",
            "Epoch: 37 | Time: 0m 36s\n",
            "\tTrain Loss: 0.685 | Train PPL:   1.984\n",
            "\t Val. Loss: 1.029 |  Val. PPL:   2.798\n",
            "Epoch: 38 | Time: 0m 36s\n",
            "\tTrain Loss: 0.674 | Train PPL:   1.962\n",
            "\t Val. Loss: 1.023 |  Val. PPL:   2.780\n",
            "Epoch: 39 | Time: 0m 36s\n",
            "\tTrain Loss: 0.667 | Train PPL:   1.948\n",
            "\t Val. Loss: 1.028 |  Val. PPL:   2.795\n",
            "Epoch: 40 | Time: 0m 36s\n",
            "\tTrain Loss: 0.656 | Train PPL:   1.927\n",
            "\t Val. Loss: 1.021 |  Val. PPL:   2.777\n",
            "Epoch: 41 | Time: 0m 36s\n",
            "\tTrain Loss: 0.645 | Train PPL:   1.905\n",
            "\t Val. Loss: 1.015 |  Val. PPL:   2.760\n",
            "Epoch: 42 | Time: 0m 36s\n",
            "\tTrain Loss: 0.636 | Train PPL:   1.889\n",
            "\t Val. Loss: 1.030 |  Val. PPL:   2.802\n",
            "Epoch: 43 | Time: 0m 36s\n",
            "\tTrain Loss: 0.624 | Train PPL:   1.866\n",
            "\t Val. Loss: 1.010 |  Val. PPL:   2.747\n",
            "Epoch: 44 | Time: 0m 35s\n",
            "\tTrain Loss: 0.617 | Train PPL:   1.854\n",
            "\t Val. Loss: 1.013 |  Val. PPL:   2.753\n",
            "Epoch: 45 | Time: 0m 36s\n",
            "\tTrain Loss: 0.606 | Train PPL:   1.832\n",
            "\t Val. Loss: 1.032 |  Val. PPL:   2.806\n",
            "Epoch: 46 | Time: 0m 35s\n",
            "\tTrain Loss: 0.597 | Train PPL:   1.816\n",
            "\t Val. Loss: 1.009 |  Val. PPL:   2.743\n",
            "Epoch: 47 | Time: 0m 36s\n",
            "\tTrain Loss: 0.593 | Train PPL:   1.810\n",
            "\t Val. Loss: 1.021 |  Val. PPL:   2.775\n",
            "Epoch: 48 | Time: 0m 36s\n",
            "\tTrain Loss: 0.579 | Train PPL:   1.784\n",
            "\t Val. Loss: 1.013 |  Val. PPL:   2.754\n",
            "Epoch: 49 | Time: 0m 36s\n",
            "\tTrain Loss: 0.579 | Train PPL:   1.784\n",
            "\t Val. Loss: 1.022 |  Val. PPL:   2.779\n",
            "Epoch: 50 | Time: 0m 36s\n",
            "\tTrain Loss: 0.567 | Train PPL:   1.762\n",
            "\t Val. Loss: 1.015 |  Val. PPL:   2.760\n",
            "Epoch: 51 | Time: 0m 36s\n",
            "\tTrain Loss: 0.561 | Train PPL:   1.753\n",
            "\t Val. Loss: 1.011 |  Val. PPL:   2.749\n",
            "Epoch: 52 | Time: 0m 36s\n",
            "\tTrain Loss: 0.551 | Train PPL:   1.736\n",
            "\t Val. Loss: 1.020 |  Val. PPL:   2.774\n",
            "Epoch: 53 | Time: 0m 36s\n",
            "\tTrain Loss: 0.550 | Train PPL:   1.733\n",
            "\t Val. Loss: 1.013 |  Val. PPL:   2.754\n",
            "Epoch: 54 | Time: 0m 36s\n",
            "\tTrain Loss: 0.540 | Train PPL:   1.717\n",
            "\t Val. Loss: 1.028 |  Val. PPL:   2.794\n",
            "Epoch: 55 | Time: 0m 36s\n",
            "\tTrain Loss: 0.534 | Train PPL:   1.706\n",
            "\t Val. Loss: 1.010 |  Val. PPL:   2.744\n",
            "Epoch: 56 | Time: 0m 36s\n",
            "\tTrain Loss: 0.530 | Train PPL:   1.699\n",
            "\t Val. Loss: 1.013 |  Val. PPL:   2.753\n",
            "Epoch: 57 | Time: 0m 36s\n",
            "\tTrain Loss: 0.520 | Train PPL:   1.683\n",
            "\t Val. Loss: 1.028 |  Val. PPL:   2.795\n",
            "Epoch: 58 | Time: 0m 35s\n",
            "\tTrain Loss: 0.521 | Train PPL:   1.683\n",
            "\t Val. Loss: 1.005 |  Val. PPL:   2.733\n",
            "Epoch: 59 | Time: 0m 36s\n",
            "\tTrain Loss: 0.511 | Train PPL:   1.667\n",
            "\t Val. Loss: 1.007 |  Val. PPL:   2.739\n",
            "Epoch: 60 | Time: 0m 36s\n",
            "\tTrain Loss: 0.507 | Train PPL:   1.661\n",
            "\t Val. Loss: 1.010 |  Val. PPL:   2.744\n",
            "Epoch: 61 | Time: 0m 36s\n",
            "\tTrain Loss: 0.498 | Train PPL:   1.645\n",
            "\t Val. Loss: 1.009 |  Val. PPL:   2.743\n",
            "Epoch: 62 | Time: 0m 36s\n",
            "\tTrain Loss: 0.494 | Train PPL:   1.639\n",
            "\t Val. Loss: 1.009 |  Val. PPL:   2.743\n",
            "Epoch: 63 | Time: 0m 36s\n",
            "\tTrain Loss: 0.489 | Train PPL:   1.631\n",
            "\t Val. Loss: 1.023 |  Val. PPL:   2.781\n",
            "Epoch: 64 | Time: 0m 36s\n",
            "\tTrain Loss: 0.484 | Train PPL:   1.622\n",
            "\t Val. Loss: 1.014 |  Val. PPL:   2.756\n",
            "Epoch: 65 | Time: 0m 36s\n",
            "\tTrain Loss: 0.481 | Train PPL:   1.618\n",
            "\t Val. Loss: 1.029 |  Val. PPL:   2.798\n",
            "Epoch: 66 | Time: 0m 36s\n",
            "\tTrain Loss: 0.479 | Train PPL:   1.615\n",
            "\t Val. Loss: 1.009 |  Val. PPL:   2.743\n",
            "Epoch: 67 | Time: 0m 36s\n",
            "\tTrain Loss: 0.469 | Train PPL:   1.598\n",
            "\t Val. Loss: 1.031 |  Val. PPL:   2.803\n",
            "Epoch: 68 | Time: 0m 36s\n",
            "\tTrain Loss: 0.468 | Train PPL:   1.598\n",
            "\t Val. Loss: 1.015 |  Val. PPL:   2.760\n",
            "Epoch: 69 | Time: 0m 36s\n",
            "\tTrain Loss: 0.466 | Train PPL:   1.594\n",
            "\t Val. Loss: 1.018 |  Val. PPL:   2.767\n",
            "Epoch: 70 | Time: 0m 35s\n",
            "\tTrain Loss: 0.460 | Train PPL:   1.584\n",
            "\t Val. Loss: 1.021 |  Val. PPL:   2.775\n",
            "Epoch: 71 | Time: 0m 36s\n",
            "\tTrain Loss: 0.456 | Train PPL:   1.578\n",
            "\t Val. Loss: 1.028 |  Val. PPL:   2.795\n",
            "Epoch: 72 | Time: 0m 36s\n",
            "\tTrain Loss: 0.451 | Train PPL:   1.570\n",
            "\t Val. Loss: 1.022 |  Val. PPL:   2.779\n",
            "Epoch: 73 | Time: 0m 36s\n",
            "\tTrain Loss: 0.446 | Train PPL:   1.562\n",
            "\t Val. Loss: 1.024 |  Val. PPL:   2.784\n",
            "Epoch: 74 | Time: 0m 36s\n",
            "\tTrain Loss: 0.443 | Train PPL:   1.557\n",
            "\t Val. Loss: 1.014 |  Val. PPL:   2.758\n",
            "Epoch: 75 | Time: 0m 36s\n",
            "\tTrain Loss: 0.440 | Train PPL:   1.552\n",
            "\t Val. Loss: 1.033 |  Val. PPL:   2.809\n",
            "Epoch: 76 | Time: 0m 36s\n",
            "\tTrain Loss: 0.433 | Train PPL:   1.542\n",
            "\t Val. Loss: 1.044 |  Val. PPL:   2.840\n",
            "Epoch: 77 | Time: 0m 36s\n",
            "\tTrain Loss: 0.432 | Train PPL:   1.540\n",
            "\t Val. Loss: 1.031 |  Val. PPL:   2.803\n",
            "Epoch: 78 | Time: 0m 35s\n",
            "\tTrain Loss: 0.427 | Train PPL:   1.533\n",
            "\t Val. Loss: 1.028 |  Val. PPL:   2.796\n",
            "Epoch: 79 | Time: 0m 36s\n",
            "\tTrain Loss: 0.424 | Train PPL:   1.528\n",
            "\t Val. Loss: 1.046 |  Val. PPL:   2.845\n",
            "Epoch: 80 | Time: 0m 36s\n",
            "\tTrain Loss: 0.420 | Train PPL:   1.522\n",
            "\t Val. Loss: 1.039 |  Val. PPL:   2.826\n",
            "Epoch: 81 | Time: 0m 36s\n",
            "\tTrain Loss: 0.421 | Train PPL:   1.523\n",
            "\t Val. Loss: 1.025 |  Val. PPL:   2.786\n",
            "Epoch: 82 | Time: 0m 36s\n",
            "\tTrain Loss: 0.412 | Train PPL:   1.510\n",
            "\t Val. Loss: 1.010 |  Val. PPL:   2.746\n",
            "Epoch: 83 | Time: 0m 36s\n",
            "\tTrain Loss: 0.410 | Train PPL:   1.507\n",
            "\t Val. Loss: 1.027 |  Val. PPL:   2.793\n",
            "Epoch: 84 | Time: 0m 36s\n",
            "\tTrain Loss: 0.410 | Train PPL:   1.507\n",
            "\t Val. Loss: 1.035 |  Val. PPL:   2.814\n",
            "Epoch: 85 | Time: 0m 35s\n",
            "\tTrain Loss: 0.403 | Train PPL:   1.496\n",
            "\t Val. Loss: 1.054 |  Val. PPL:   2.869\n",
            "Epoch: 86 | Time: 0m 36s\n",
            "\tTrain Loss: 0.400 | Train PPL:   1.491\n",
            "\t Val. Loss: 1.038 |  Val. PPL:   2.825\n",
            "Epoch: 87 | Time: 0m 36s\n",
            "\tTrain Loss: 0.397 | Train PPL:   1.487\n",
            "\t Val. Loss: 1.039 |  Val. PPL:   2.828\n",
            "Epoch: 88 | Time: 0m 36s\n",
            "\tTrain Loss: 0.396 | Train PPL:   1.486\n",
            "\t Val. Loss: 1.041 |  Val. PPL:   2.832\n",
            "Epoch: 89 | Time: 0m 36s\n",
            "\tTrain Loss: 0.392 | Train PPL:   1.480\n",
            "\t Val. Loss: 1.048 |  Val. PPL:   2.851\n",
            "Epoch: 90 | Time: 0m 36s\n",
            "\tTrain Loss: 0.390 | Train PPL:   1.477\n",
            "\t Val. Loss: 1.044 |  Val. PPL:   2.841\n",
            "Epoch: 91 | Time: 0m 35s\n",
            "\tTrain Loss: 0.386 | Train PPL:   1.471\n",
            "\t Val. Loss: 1.038 |  Val. PPL:   2.824\n",
            "Epoch: 92 | Time: 0m 36s\n",
            "\tTrain Loss: 0.385 | Train PPL:   1.469\n",
            "\t Val. Loss: 1.039 |  Val. PPL:   2.826\n",
            "Epoch: 93 | Time: 0m 36s\n",
            "\tTrain Loss: 0.378 | Train PPL:   1.460\n",
            "\t Val. Loss: 1.058 |  Val. PPL:   2.882\n",
            "Epoch: 94 | Time: 0m 36s\n",
            "\tTrain Loss: 0.377 | Train PPL:   1.458\n",
            "\t Val. Loss: 1.050 |  Val. PPL:   2.858\n",
            "Epoch: 95 | Time: 0m 36s\n",
            "\tTrain Loss: 0.375 | Train PPL:   1.455\n",
            "\t Val. Loss: 1.052 |  Val. PPL:   2.864\n",
            "Epoch: 96 | Time: 0m 36s\n",
            "\tTrain Loss: 0.372 | Train PPL:   1.450\n",
            "\t Val. Loss: 1.029 |  Val. PPL:   2.798\n",
            "Epoch: 97 | Time: 0m 36s\n",
            "\tTrain Loss: 0.375 | Train PPL:   1.455\n",
            "\t Val. Loss: 1.054 |  Val. PPL:   2.870\n",
            "Epoch: 98 | Time: 0m 36s\n",
            "\tTrain Loss: 0.367 | Train PPL:   1.444\n",
            "\t Val. Loss: 1.043 |  Val. PPL:   2.836\n",
            "Epoch: 99 | Time: 0m 36s\n",
            "\tTrain Loss: 0.365 | Train PPL:   1.441\n",
            "\t Val. Loss: 1.046 |  Val. PPL:   2.845\n",
            "Epoch: 100 | Time: 0m 36s\n",
            "\tTrain Loss: 0.364 | Train PPL:   1.439\n",
            "\t Val. Loss: 1.039 |  Val. PPL:   2.826\n"
          ],
          "name": "stdout"
        }
      ]
    },
    {
      "cell_type": "code",
      "metadata": {
        "colab": {
          "base_uri": "https://localhost:8080/"
        },
        "id": "_Jv6X9jjhqyG",
        "outputId": "c55abdc8-b293-4223-fa2c-d5d5d6e66b21"
      },
      "source": [
        "model.load_state_dict(torch.load('tut6m-model.pt'))\n",
        "\n",
        "test_loss = evaluate(model, valid_iterator, criterion)\n",
        "\n",
        "print(f'| Test Loss: {test_loss:.3f} | Test PPL: {math.exp(test_loss):7.3f} |')"
      ],
      "execution_count": 47,
      "outputs": [
        {
          "output_type": "stream",
          "text": [
            "| Test Loss: 1.005 | Test PPL:   2.733 |\n"
          ],
          "name": "stdout"
        }
      ]
    },
    {
      "cell_type": "code",
      "metadata": {
        "id": "YIH21K6CiW4w"
      },
      "source": [
        "def encode_inputs(input,vocab):\n",
        "\n",
        "  tokenized_input = [tok.text.lower() for tok in spacy_en.tokenizer(input)]\n",
        "  tokenized_input = ['<sos>'] + tokenized_input +['<eos>']\n",
        "\n",
        "  numericalized_input = [vocab[i] for i in tokenized_input]\n",
        "\n",
        "  tensor_input = torch.LongTensor([numericalized_input])\n",
        "  \n",
        "  return tensor_input"
      ],
      "execution_count": 49,
      "outputs": []
    },
    {
      "cell_type": "code",
      "metadata": {
        "id": "poWw6B5HifhZ"
      },
      "source": [
        "def decode_outputs(output,vocab):\n",
        "  predicted_token = output.argmax(-1)\n",
        "  return vocab[predicted_token.item()], predicted_token"
      ],
      "execution_count": 48,
      "outputs": []
    },
    {
      "cell_type": "code",
      "metadata": {
        "colab": {
          "base_uri": "https://localhost:8080/"
        },
        "id": "Lfy9RI4VigVT",
        "outputId": "be03bb9d-50b7-4541-a210-8a50e9c31b99"
      },
      "source": [
        "print(\" Enter q or Q or QUIT or Quit or quit to exit.\")\n",
        "\n",
        "answer_max_len = 3000\n",
        "stoi = SRC.vocab.stoi\n",
        "itos = TRG.vocab.itos\n",
        "\n",
        "while(True):\n",
        "\n",
        "  input_ = input(\"Enter the Question:\")\n",
        "\n",
        "  if input_=='q' or input_=='Q' or input_=='Quit' or input_=='QUIT' or input_=='quit':\n",
        "    break\n",
        "\n",
        "  src = encode_inputs(input_,stoi).to(device)\n",
        "  src_mask = model.make_src_mask(src)\n",
        "\n",
        "  with torch.no_grad():\n",
        "    enc_src = model.encoder(src,src_mask)\n",
        "  \n",
        "  trg = '<sos>'\n",
        "  trg_indexes = [stoi[trg]]\n",
        "\n",
        "  decoder_outputs = []\n",
        "  for i in range(answer_max_len):\n",
        "    trg_tensor = torch.LongTensor(trg_indexes).unsqueeze(0).to(device)\n",
        "    trg_mask = model.make_trg_mask(trg_tensor)\n",
        "    \n",
        "    with torch.no_grad():\n",
        "      decoder_output, attention = model.decoder(trg_tensor,enc_src,trg_mask,src_mask)\n",
        "\n",
        "    pred_token = decoder_output.argmax(2)[:,-1].item()\n",
        "\n",
        "    if pred_token == TRG.vocab.stoi[TRG.eos_token]:\n",
        "      break\n",
        "    decoder_outputs.append(itos[pred_token])\n",
        "    trg_indexes.append(pred_token)\n",
        "\n",
        "    \n",
        "  print(\"Answer ----->:\")\n",
        "  print(\" \"+\" \".join(decoder_outputs))\n"
      ],
      "execution_count": 56,
      "outputs": [
        {
          "output_type": "stream",
          "text": [
            " Enter q or Q or QUIT or Quit or quit to exit.\n",
            "Enter the Question:Python program to find the sum of two numbers\n",
            "Answer ----->:\n",
            " num1 = <unk> \n",
            " num2 = <unk> \n",
            " sum = num1 + num2 \n",
            " print ( f ' S u m :   { s u m } ' ) \n",
            "Enter the Question:Python program to find the sum of n natural numbers\n",
            "Answer ----->:\n",
            " num = 16 \n",
            " if num < 0 : \n",
            "     print ( \" E n t e r   a   p o s i t i v e   n u m b e r \" ) \n",
            " else : \n",
            "     sum = 0 \n",
            " while ( num > 0 ) : \n",
            "         sum += num \n",
            " num -= 1 \n",
            " print ( \" T h e   s u m   i s \" , sum ) \n",
            "Enter the Question:python program to find the lcm\n",
            "Answer ----->:\n",
            " \n",
            " def lcm ( a , b ) : \n",
            "      lcm . multiple + b \n",
            " if ( lcm . multiple % a == 0 ) and ( lcm . multiple % b == 0 ) : \n",
            "          lcm . multiple \n",
            " lcm . multiple = lcm . multiple \n",
            " if ( lcm . multiple % b ) : \n",
            "          lcm . multiple \n",
            " lcm . multiple = lcm . multiple \n",
            " else : \n",
            "          lcm . multiple \n",
            " lcm . multiple \n",
            " lcm . multiple \n",
            " def lcm ( a , b ) : \n",
            "      lcm ( a , b ) \n",
            " lcm ( a , b ) \n",
            " lcm . multiple \n",
            " if ( a > b ) : \n",
            "      lcm . multiple \n",
            " lcm ( b = lcm . multiple \n",
            " b = lcm . multiple \n",
            " if ( a : \n",
            "      <unk> = lcm . multiple \n",
            " a \n",
            " b , b , a \n",
            " b ) \n",
            " print ( <unk> ) \n",
            " else : \n",
            "      if ( <unk> . multiple % a , a ) \n",
            " \n",
            " else : \n",
            "      <unk> = lcm ( <unk> = lcm ( <unk> ) \n",
            " if ( <unk> ) \n",
            " else : \n",
            "      <unk> = lcm ( <unk> ( <unk> , a ) \n",
            " print ( ' N o f ' % b ) \n",
            "Enter the Question:q\n"
          ],
          "name": "stdout"
        }
      ]
    },
    {
      "cell_type": "code",
      "metadata": {
        "id": "UdnyQDRng_qG"
      },
      "source": [
        "def prediction(sentence, src_field, trg_field, model, device, max_len = 50):\n",
        "    \n",
        "    model.eval()\n",
        "        \n",
        "    if isinstance(sentence, str):\n",
        "        nlp = spacy.load('en')\n",
        "        tokens = [token.text.lower() for token in nlp(sentence)]\n",
        "    else:\n",
        "        tokens = [token.lower() for token in sentence]\n",
        "\n",
        "    tokens = [src_field.init_token] + tokens + [src_field.eos_token]\n",
        "        \n",
        "    src_indexes = [src_field.vocab.stoi[token] for token in tokens]\n",
        "\n",
        "    src_tensor = torch.LongTensor(src_indexes).unsqueeze(0).to(device)\n",
        "    \n",
        "    src_mask = model.make_src_mask(src_tensor)\n",
        "    \n",
        "    with torch.no_grad():\n",
        "        enc_src = model.encoder(src_tensor, src_mask)\n",
        "\n",
        "    trg_indexes = [trg_field.vocab.stoi[trg_field.init_token]]\n",
        "\n",
        "    for i in range(max_len):\n",
        "\n",
        "        trg_tensor = torch.LongTensor(trg_indexes).unsqueeze(0).to(device)\n",
        "\n",
        "        trg_mask = model.make_trg_mask(trg_tensor)\n",
        "        \n",
        "        with torch.no_grad():\n",
        "            output, attention = model.decoder(trg_tensor, enc_src, trg_mask, src_mask)\n",
        "        \n",
        "        pred_token = output.argmax(2)[:,-1].item()\n",
        "        \n",
        "        trg_indexes.append(pred_token)\n",
        "\n",
        "        if pred_token == trg_field.vocab.stoi[trg_field.eos_token]:\n",
        "            break\n",
        "    \n",
        "    trg_tokens = [trg_field.vocab.itos[i] for i in trg_indexes]\n",
        "    \n",
        "    return trg_tokens[1:], attention"
      ],
      "execution_count": 51,
      "outputs": []
    },
    {
      "cell_type": "code",
      "metadata": {
        "id": "0J_lLmPZfcO2"
      },
      "source": [
        "def display_attention(sentence, translation, attention, n_heads = 8, n_rows = 4, n_cols = 2):\n",
        "    \n",
        "    assert n_rows * n_cols == n_heads\n",
        "    \n",
        "    fig = plt.figure(figsize=(15,25))\n",
        "    \n",
        "    for i in range(n_heads):\n",
        "        \n",
        "        ax = fig.add_subplot(n_rows, n_cols, i+1)\n",
        "        \n",
        "        _attention = attention.squeeze(0)[i].cpu().detach().numpy()\n",
        "\n",
        "        cax = ax.matshow(_attention, cmap='bone')\n",
        "\n",
        "        ax.tick_params(labelsize=12)\n",
        "        ax.set_xticklabels(['']+['<sos>']+[t.lower() for t in sentence]+['<eos>'], \n",
        "                           rotation=45)\n",
        "        ax.set_yticklabels(['']+translation)\n",
        "\n",
        "        ax.xaxis.set_major_locator(ticker.MultipleLocator(1))\n",
        "        ax.yaxis.set_major_locator(ticker.MultipleLocator(1))\n",
        "\n",
        "    plt.show()"
      ],
      "execution_count": 57,
      "outputs": []
    },
    {
      "cell_type": "code",
      "metadata": {
        "colab": {
          "base_uri": "https://localhost:8080/"
        },
        "id": "-pg2zV_Qf9is",
        "outputId": "2ee6697f-4254-4275-86bd-e733291b3b00"
      },
      "source": [
        "example_idx = 10\n",
        "\n",
        "src = vars(train_data.examples[example_idx])['src']\n",
        "trg = vars(train_data.examples[example_idx])['trg']\n",
        "\n",
        "print(f'src = {src}')\n",
        "print(f'trg = {trg}')"
      ],
      "execution_count": 59,
      "outputs": [
        {
          "output_type": "stream",
          "text": [
            "src = ['write', 'a', 'program', 'that', 'computes', 'the', 'value', 'of', 'a+aa+aaa+aaaa', 'with', 'a', 'given', 'digit', 'as', 'the', 'value', 'of', 'a.']\n",
            "trg = ['a', '=', 'raw_input', '(', ')', '\\n', 'n1', '=', 'int', '(', '\"', '%', 's', '\"', '%', 'a', ')', '\\n', 'n2', '=', 'int', '(', '\"', '%', 's', '%', 's', '\"', '%', '(', 'a', ',', 'a', ')', ')', '\\n', 'n3', '=', 'int', '(', '\"', '%', 's', '%', 's', '%', 's', '\"', '%', '(', 'a', ',', 'a', ',', 'a', ')', ')', '\\n', 'n4', '=', 'int', '(', '\"', '%', 's', '%', 's', '%', 's', '%', 's', '\"', '%', '(', 'a', ',', 'a', ',', 'a', ',', 'a', ')', ')', '\\n', 'print', 'n1', '+', 'n2', '+', 'n3', '+', 'n4', '\\n', '\\n', '# use a list comprehension to square each odd number in a list. The list is input by a sequence of comma-separated numbers.', '\\n', 'values', '=', 'raw_input', '(', ')', '\\n', 'numbers', '=', '[', 'x', 'for', 'x', 'in', 'values', '.', 'split', '(', '\"', ',', '\"', ')', 'if', 'int', '(', 'x', ')', '%', '2', '!=', '0', ']', '\\n', 'print', '\"', ',', '\"', '.', 'join', '(', 'numbers', ')', '']\n"
          ],
          "name": "stdout"
        }
      ]
    },
    {
      "cell_type": "code",
      "metadata": {
        "colab": {
          "base_uri": "https://localhost:8080/"
        },
        "id": "1dgLmuoSf_u8",
        "outputId": "7e50c06b-40b1-4521-97d2-7ab7aac08d1c"
      },
      "source": [
        "predict, attention = prediction(src, SRC, TRG, model, device, max_length)\n",
        "\n",
        "print(f'predicted trg = {predict}')"
      ],
      "execution_count": 60,
      "outputs": [
        {
          "output_type": "stream",
          "text": [
            "predicted trg = ['\\n', 'a', '=', 'input', '(', '\"', 'E', 'n', 't', 'e', 'r', ' ', 't', 'h', 'e', ' ', 'u', 'p', 'i', 'n', ' ', 'l', 'e', ' ', 'n', 'u', 'm', 'b', 'e', 'r', ':', ' ', '\"', ')', '\\n', 'n1', '=', 'int', '(', '\"', '%', 's', '\"', '%', 'a', ',', 'a', ')', '\\n', 'n2', '=', 'int', '(', '\"', '%', 's', '%', 's', '\"', '%', '(', 'a', ',', 'a', ')', ')', '\\n', 'if', '(', 'a', '%', 'b', '==', '0', ')', 'and', '(', 'a', '%', 'b', '==', '0', ')', 'and', 'b', '%', 's', '%', 'b', '==', '0', ')', ':', '\\n', 'print', '(', '\"', '%', 's', ',', '\"', '%', 's', ',', 'a', ',', 'a', ',', 'b', ')', '\\n', 'elif', '(', 'n1', '+', 'n2', '=', 'raw_input', '(', ')', ')', '\\n', 'elif', '(', \"'\", '==', '0', ')', ':', '\\n', 'print', '\"', ',', '\"', '.', 'join', '(', 'values', ')', '', '<eos>']\n"
          ],
          "name": "stdout"
        }
      ]
    },
    {
      "cell_type": "code",
      "metadata": {
        "colab": {
          "base_uri": "https://localhost:8080/",
          "height": 1000
        },
        "id": "K_WPOuLpkox2",
        "outputId": "e200bf21-4306-4d1c-ccdd-d2b583310120"
      },
      "source": [
        "display_attention(src, predict, attention)"
      ],
      "execution_count": 61,
      "outputs": [
        {
          "output_type": "display_data",
          "data": {
            "image/png": "[encoded data removed]",
            "text/plain": [
              "<Figure size 1080x1800 with 8 Axes>"
            ]
          },
          "metadata": {
            "tags": [],
            "needs_background": "light"
          }
        }
      ]
    }
  ]
}