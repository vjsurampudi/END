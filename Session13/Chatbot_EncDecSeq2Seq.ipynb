{
  "nbformat": 4,
  "nbformat_minor": 0,
  "metadata": {
    "colab": {
      "name": "Chatbot_EncDecSeq2Seq.ipynb",
      "provenance": [],
      "collapsed_sections": [],
      "toc_visible": true,
      "mount_file_id": "1tizsXltqFcTzGptcCFoQKRlVbyQm62NW",
      "authorship_tag": "ABX9TyPjTqHnuxSG9MDGjSfTt1aA",
      "include_colab_link": true
    },
    "kernelspec": {
      "name": "python3",
      "display_name": "Python 3"
    },
    "accelerator": "GPU"
  },
  "cells": [
    {
      "cell_type": "markdown",
      "metadata": {
        "id": "view-in-github",
        "colab_type": "text"
      },
      "source": [
        "<a href=\"https://colab.research.google.com/github/vjsurampudi/END/blob/main/Session13/Chatbot_EncDecSeq2Seq.ipynb\" target=\"_parent\"><img src=\"https://colab.research.google.com/assets/colab-badge.svg\" alt=\"Open In Colab\"/></a>"
      ]
    },
    {
      "cell_type": "code",
      "metadata": {
        "id": "fNQqlETnTHv7"
      },
      "source": [
        "from __future__ import absolute_import\r\n",
        "from __future__ import division\r\n",
        "from __future__ import print_function\r\n",
        "from __future__ import unicode_literals\r\n",
        "\r\n",
        "import torch\r\n",
        "from torch.jit import script, trace\r\n",
        "import torch.nn as nn\r\n",
        "from torch import optim\r\n",
        "from torchtext.data import Field, BucketIterator, TabularDataset\r\n",
        "\r\n",
        "import torch.nn.functional as F\r\n",
        "import csv\r\n",
        "import random\r\n",
        "import re\r\n",
        "import os\r\n",
        "import unicodedata\r\n",
        "import codecs\r\n",
        "from io import open\r\n",
        "import itertools\r\n",
        "import math"
      ],
      "execution_count": 6,
      "outputs": []
    },
    {
      "cell_type": "code",
      "metadata": {
        "colab": {
          "base_uri": "https://localhost:8080/"
        },
        "id": "8gDrt8ePWp2f",
        "outputId": "0baf8dc5-bfe0-4533-c940-4b86fe5868ab"
      },
      "source": [
        "from google.colab import drive\r\n",
        "drive.mount('/content/drive')"
      ],
      "execution_count": 7,
      "outputs": [
        {
          "output_type": "stream",
          "text": [
            "Drive already mounted at /content/drive; to attempt to forcibly remount, call drive.mount(\"/content/drive\", force_remount=True).\n"
          ],
          "name": "stdout"
        }
      ]
    },
    {
      "cell_type": "code",
      "metadata": {
        "colab": {
          "base_uri": "https://localhost:8080/"
        },
        "id": "rZsZ1otLTavU",
        "outputId": "b5df68af-fd7c-471a-cbe3-a2a006b07229"
      },
      "source": [
        "USE_CUDA = torch.cuda.is_available()\r\n",
        "device = torch.device(\"cuda\" if USE_CUDA else \"cpu\")\r\n",
        "device"
      ],
      "execution_count": 8,
      "outputs": [
        {
          "output_type": "execute_result",
          "data": {
            "text/plain": [
              "device(type='cuda')"
            ]
          },
          "metadata": {
            "tags": []
          },
          "execution_count": 8
        }
      ]
    },
    {
      "cell_type": "code",
      "metadata": {
        "colab": {
          "base_uri": "https://localhost:8080/"
        },
        "id": "bo1t4GegXzj-",
        "outputId": "ff14cdde-dcaa-43d7-c22e-36a6e0232bc9"
      },
      "source": [
        "os.listdir()"
      ],
      "execution_count": 9,
      "outputs": [
        {
          "output_type": "execute_result",
          "data": {
            "text/plain": [
              "['.config',\n",
              " 'drive',\n",
              " 'cornell movie-dialogs corpus',\n",
              " '.ipynb_checkpoints',\n",
              " 'sample_data']"
            ]
          },
          "metadata": {
            "tags": []
          },
          "execution_count": 9
        }
      ]
    },
    {
      "cell_type": "markdown",
      "metadata": {
        "id": "AyKuh8vnTgK_"
      },
      "source": [
        "## Load & Preprocess Data\r\n",
        "The next step is to reformat our data file and load the data into structures that we can work with.\r\n",
        "\r\n",
        "The Cornell Movie-Dialogs Corpus is a rich dataset of movie character dialog:\r\n",
        "\r\n",
        "220,579 conversational exchanges between 10,292 pairs of movie characters\r\n",
        "9,035 characters from 617 movies\r\n",
        "304,713 total utterances\r\n",
        "This dataset is large and diverse, and there is a great variation of language formality, time periods, sentiment, etc. Our hope is that this diversity makes our model robust to many forms of inputs and queries.\r\n",
        "\r\n",
        "First, we’ll take a look at some lines of our datafile to see the original format."
      ]
    },
    {
      "cell_type": "code",
      "metadata": {
        "colab": {
          "base_uri": "https://localhost:8080/"
        },
        "id": "hul--EDnUA65",
        "outputId": "7fd73d7e-2f36-4e21-a398-e9aa6aa2498d"
      },
      "source": [
        "corpus_name = \"cornell movie-dialogs corpus\"\r\n",
        "##corpus = os.path.join(\"drive\",\"MyDrive\", corpus_name)\r\n",
        "corpus = os.path.join(\"\", corpus_name)\r\n",
        "\r\n",
        "\r\n",
        "def printLines(file, n=10):\r\n",
        "    with open(file, 'rb') as datafile:\r\n",
        "        lines = datafile.readlines()\r\n",
        "    for line in lines[:n]:\r\n",
        "        print(line)\r\n",
        "\r\n",
        "#printLines(os.path.join(data, \"movie_lines.txt\"))\r\n",
        "printLines(os.path.join(corpus, \"movie_lines.txt\"))"
      ],
      "execution_count": 10,
      "outputs": [
        {
          "output_type": "stream",
          "text": [
            "b'L1045 +++$+++ u0 +++$+++ m0 +++$+++ BIANCA +++$+++ They do not!\\n'\n",
            "b'L1044 +++$+++ u2 +++$+++ m0 +++$+++ CAMERON +++$+++ They do to!\\n'\n",
            "b'L985 +++$+++ u0 +++$+++ m0 +++$+++ BIANCA +++$+++ I hope so.\\n'\n",
            "b'L984 +++$+++ u2 +++$+++ m0 +++$+++ CAMERON +++$+++ She okay?\\n'\n",
            "b\"L925 +++$+++ u0 +++$+++ m0 +++$+++ BIANCA +++$+++ Let's go.\\n\"\n",
            "b'L924 +++$+++ u2 +++$+++ m0 +++$+++ CAMERON +++$+++ Wow\\n'\n",
            "b\"L872 +++$+++ u0 +++$+++ m0 +++$+++ BIANCA +++$+++ Okay -- you're gonna need to learn how to lie.\\n\"\n",
            "b'L871 +++$+++ u2 +++$+++ m0 +++$+++ CAMERON +++$+++ No\\n'\n",
            "b'L870 +++$+++ u0 +++$+++ m0 +++$+++ BIANCA +++$+++ I\\'m kidding.  You know how sometimes you just become this \"persona\"?  And you don\\'t know how to quit?\\n'\n",
            "b'L869 +++$+++ u0 +++$+++ m0 +++$+++ BIANCA +++$+++ Like my fear of wearing pastels?\\n'\n"
          ],
          "name": "stdout"
        }
      ]
    },
    {
      "cell_type": "markdown",
      "metadata": {
        "id": "g-hmd3AweL9P"
      },
      "source": [
        "## Create formatted data file\r\n",
        "For convenience, we’ll create a nicely formatted data file in which each line contains a tab-separated query sentence and a response sentence pair.\r\n",
        "\r\n",
        "The following functions facilitate the parsing of the raw movie_lines.txt data file.\r\n",
        "\r\n",
        "loadLines splits each line of the file into a dictionary of fields (lineID, characterID, movieID, character, text)\r\n",
        "loadConversations groups fields of lines from loadLines into conversations based on movie_conversations.txt\r\n",
        "extractSentencePairs extracts pairs of sentences from conversations"
      ]
    },
    {
      "cell_type": "code",
      "metadata": {
        "id": "1grmDqZReO8Z"
      },
      "source": [
        "# Splits each line of the file into a dictionary of fields\r\n",
        "def loadLines(fileName, fields):\r\n",
        "    lines = {}\r\n",
        "    with open(fileName, 'r', encoding='iso-8859-1') as f:\r\n",
        "        for line in f:\r\n",
        "            values = line.split(\" +++$+++ \")\r\n",
        "            # Extract fields\r\n",
        "            lineObj = {}\r\n",
        "            for i, field in enumerate(fields):\r\n",
        "                lineObj[field] = values[i]\r\n",
        "            lines[lineObj['lineID']] = lineObj\r\n",
        "    return lines\r\n",
        "# Groups fields of lines from `loadLines` into conversations based on *movie_conversations.txt*\r\n",
        "def loadConversations(fileName, lines, fields):\r\n",
        "    conversations = []\r\n",
        "    with open(fileName, 'r', encoding='iso-8859-1') as f:\r\n",
        "        for line in f:\r\n",
        "            values = line.split(\" +++$+++ \")\r\n",
        "            # Extract fields\r\n",
        "            convObj = {}\r\n",
        "            for i, field in enumerate(fields):\r\n",
        "                convObj[field] = values[i]\r\n",
        "            # Convert string to list (convObj[\"utteranceIDs\"] == \"['L598485', 'L598486', ...]\")\r\n",
        "            utterance_id_pattern = re.compile('L[0-9]+')\r\n",
        "            lineIds = utterance_id_pattern.findall(convObj[\"utteranceIDs\"])\r\n",
        "            # Reassemble lines\r\n",
        "            convObj[\"lines\"] = []\r\n",
        "            for lineId in lineIds:\r\n",
        "                convObj[\"lines\"].append(lines[lineId])\r\n",
        "            conversations.append(convObj)\r\n",
        "    return conversations\r\n",
        "\r\n",
        "\r\n",
        "# Extracts pairs of sentences from conversations\r\n",
        "def extractSentencePairs(conversations):\r\n",
        "    qa_pairs = []\r\n",
        "    for conversation in conversations:\r\n",
        "        # Iterate over all the lines of the conversation\r\n",
        "        for i in range(len(conversation[\"lines\"]) - 1):  # We ignore the last line (no answer for it)\r\n",
        "            inputLine = conversation[\"lines\"][i][\"text\"].strip()\r\n",
        "            targetLine = conversation[\"lines\"][i+1][\"text\"].strip()\r\n",
        "            # Filter wrong samples (if one of the lists is empty)\r\n",
        "            if inputLine and targetLine:\r\n",
        "                qa_pairs.append([inputLine, targetLine])\r\n",
        "    return qa_pairs"
      ],
      "execution_count": 11,
      "outputs": []
    },
    {
      "cell_type": "markdown",
      "metadata": {
        "id": "9SRc-qaseaOG"
      },
      "source": [
        "Now we’ll call these functions and create the file. We’ll call it formatted_movie_lines.txt."
      ]
    },
    {
      "cell_type": "code",
      "metadata": {
        "colab": {
          "base_uri": "https://localhost:8080/"
        },
        "id": "wYD_KZ1veb6p",
        "outputId": "6354d696-e6c9-424f-d276-ea72604d0ee5"
      },
      "source": [
        "# Define path to new file\r\n",
        "datafile = os.path.join(corpus, \"formatted_movie_lines.txt\")\r\n",
        "print(corpus)\r\n",
        "print(os.listdir())\r\n",
        "delimiter = '\\t'\r\n",
        "# Unescape the delimiter\r\n",
        "delimiter = str(codecs.decode(delimiter, \"unicode_escape\"))\r\n",
        "\r\n",
        "# Initialize lines dict, conversations list, and field ids\r\n",
        "lines = {}\r\n",
        "conversations = []\r\n",
        "MOVIE_LINES_FIELDS = [\"lineID\", \"characterID\", \"movieID\", \"character\", \"text\"]\r\n",
        "MOVIE_CONVERSATIONS_FIELDS = [\"character1ID\", \"character2ID\", \"movieID\", \"utteranceIDs\"]\r\n",
        "\r\n",
        "# Load lines and process conversations\r\n",
        "print(\"\\nProcessing corpus...\")\r\n",
        "lines = loadLines(os.path.join(corpus, \"movie_lines.txt\"), MOVIE_LINES_FIELDS)\r\n",
        "print(\"\\nLoading conversations...\")\r\n",
        "conversations = loadConversations(os.path.join(corpus, \"movie_conversations.txt\"),\r\n",
        "                                  lines, MOVIE_CONVERSATIONS_FIELDS)\r\n",
        "\r\n",
        "# Write new csv file\r\n",
        "print(\"\\nWriting newly formatted file...\")\r\n",
        "with open(datafile, 'w', encoding='utf-8') as outputfile:\r\n",
        "    writer = csv.writer(outputfile, delimiter=delimiter, lineterminator='\\n')\r\n",
        "    for pair in extractSentencePairs(conversations):\r\n",
        "        writer.writerow(pair)\r\n",
        "\r\n",
        "# Print a sample of lines\r\n",
        "print(\"\\nSample lines from file:\")\r\n",
        "printLines(datafile)"
      ],
      "execution_count": 12,
      "outputs": [
        {
          "output_type": "stream",
          "text": [
            "cornell movie-dialogs corpus\n",
            "['.config', 'drive', 'cornell movie-dialogs corpus', '.ipynb_checkpoints', 'sample_data']\n",
            "\n",
            "Processing corpus...\n",
            "\n",
            "Loading conversations...\n",
            "\n",
            "Writing newly formatted file...\n",
            "\n",
            "Sample lines from file:\n",
            "b\"Can we make this quick?  Roxanne Korrine and Andrew Barrett are having an incredibly horrendous public break- up on the quad.  Again.\\tWell, I thought we'd start with pronunciation, if that's okay with you.\\n\"\n",
            "b\"Well, I thought we'd start with pronunciation, if that's okay with you.\\tNot the hacking and gagging and spitting part.  Please.\\n\"\n",
            "b\"Not the hacking and gagging and spitting part.  Please.\\tOkay... then how 'bout we try out some French cuisine.  Saturday?  Night?\\n\"\n",
            "b\"You're asking me out.  That's so cute. What's your name again?\\tForget it.\\n\"\n",
            "b\"No, no, it's my fault -- we didn't have a proper introduction ---\\tCameron.\\n\"\n",
            "b\"Cameron.\\tThe thing is, Cameron -- I'm at the mercy of a particularly hideous breed of loser.  My sister.  I can't date until she does.\\n\"\n",
            "b\"The thing is, Cameron -- I'm at the mercy of a particularly hideous breed of loser.  My sister.  I can't date until she does.\\tSeems like she could get a date easy enough...\\n\"\n",
            "b'Why?\\tUnsolved mystery.  She used to be really popular when she started high school, then it was just like she got sick of it or something.\\n'\n",
            "b\"Unsolved mystery.  She used to be really popular when she started high school, then it was just like she got sick of it or something.\\tThat's a shame.\\n\"\n",
            "b'Gosh, if only we could find Kat a boyfriend...\\tLet me see what I can do.\\n'\n"
          ],
          "name": "stdout"
        }
      ]
    },
    {
      "cell_type": "markdown",
      "metadata": {
        "id": "4s34SPr2fPz8"
      },
      "source": [
        "## Load and trim data\r\n",
        "Our next order of business is to create a vocabulary and load query/response sentence pairs into memory.\r\n",
        "\r\n",
        "Note that we are dealing with sequences of words, which do not have an implicit mapping to a discrete numerical space. Thus, we must create one by mapping each unique word that we encounter in our dataset to an index value.\r\n",
        "\r\n",
        "For this we define a Voc class, which keeps a mapping from words to indexes, a reverse mapping of indexes to words, a count of each word and a total word count. The class provides methods for adding a word to the vocabulary (addWord), adding all words in a sentence (addSentence) and trimming infrequently seen words (trim). More on trimming later."
      ]
    },
    {
      "cell_type": "code",
      "metadata": {
        "id": "yjMHtysYeXmf"
      },
      "source": [
        "# Default word tokens\r\n",
        "PAD_token = 0  # Used for padding short sentences\r\n",
        "SOS_token = 1  # Start-of-sentence token\r\n",
        "EOS_token = 2  # End-of-sentence token\r\n",
        "\r\n",
        "class Voc:\r\n",
        "    def __init__(self, name):\r\n",
        "        self.name = name\r\n",
        "        self.trimmed = False\r\n",
        "        self.word2index = {}\r\n",
        "        self.word2count = {}\r\n",
        "        self.index2word = {PAD_token: \"PAD\", SOS_token: \"SOS\", EOS_token: \"EOS\"}\r\n",
        "        self.num_words = 3  # Count SOS, EOS, PAD\r\n",
        "\r\n",
        "    def addSentence(self, sentence):\r\n",
        "        for word in sentence.split(' '):\r\n",
        "            self.addWord(word)\r\n",
        "\r\n",
        "    def addWord(self, word):\r\n",
        "        if word not in self.word2index:\r\n",
        "            self.word2index[word] = self.num_words\r\n",
        "            self.word2count[word] = 1\r\n",
        "            self.index2word[self.num_words] = word\r\n",
        "            self.num_words += 1\r\n",
        "        else:\r\n",
        "            self.word2count[word] += 1\r\n",
        "\r\n",
        "    # Remove words below a certain count threshold\r\n",
        "    def trim(self, min_count):\r\n",
        "        if self.trimmed:\r\n",
        "            return\r\n",
        "        self.trimmed = True\r\n",
        "\r\n",
        "        keep_words = []\r\n",
        "\r\n",
        "        for k, v in self.word2count.items():\r\n",
        "            if v >= min_count:\r\n",
        "                keep_words.append(k)\r\n",
        "\r\n",
        "        print('keep_words {} / {} = {:.4f}'.format(\r\n",
        "            len(keep_words), len(self.word2index), len(keep_words) / len(self.word2index)\r\n",
        "        ))\r\n",
        "\r\n",
        "        # Reinitialize dictionaries\r\n",
        "        self.word2index = {}\r\n",
        "        self.word2count = {}\r\n",
        "        self.index2word = {PAD_token: \"PAD\", SOS_token: \"SOS\", EOS_token: \"EOS\"}\r\n",
        "        self.num_words = 3 # Count default tokens\r\n",
        "\r\n",
        "        for word in keep_words:\r\n",
        "            self.addWord(word)\r\n"
      ],
      "execution_count": 13,
      "outputs": []
    },
    {
      "cell_type": "markdown",
      "metadata": {
        "id": "FLnq9Y-VfmlR"
      },
      "source": [
        "Now we can assemble our vocabulary and query/response sentence pairs. Before we are ready to use this data, we must perform some preprocessing.\r\n",
        "\r\n",
        "First, we must convert the Unicode strings to ASCII using unicodeToAscii. Next, we should convert all letters to lowercase and trim all non-letter characters except for basic punctuation (normalizeString). Finally, to aid in training convergence, we will filter out sentences with length greater than the MAX_LENGTH threshold (filterPairs)."
      ]
    },
    {
      "cell_type": "code",
      "metadata": {
        "colab": {
          "base_uri": "https://localhost:8080/"
        },
        "id": "MHx4MZiXfoKp",
        "outputId": "f3146b6a-3a7b-4b36-a2c3-3e58c15c362d"
      },
      "source": [
        "MAX_LENGTH = 10  # Maximum sentence length to consider\r\n",
        "\r\n",
        "# Turn a Unicode string to plain ASCII, thanks to\r\n",
        "# https://stackoverflow.com/a/518232/2809427\r\n",
        "def unicodeToAscii(s):\r\n",
        "    return ''.join(\r\n",
        "        c for c in unicodedata.normalize('NFD', s)\r\n",
        "        if unicodedata.category(c) != 'Mn'\r\n",
        "    )\r\n",
        "\r\n",
        "# Lowercase, trim, and remove non-letter characters\r\n",
        "def normalizeString(s):\r\n",
        "    s = unicodeToAscii(s.lower().strip())\r\n",
        "    s = re.sub(r\"([.!?])\", r\" \\1\", s)\r\n",
        "    s = re.sub(r\"[^a-zA-Z.!?]+\", r\" \", s)\r\n",
        "    s = re.sub(r\"\\s+\", r\" \", s).strip()\r\n",
        "    return s\r\n",
        "\r\n",
        "# Read query/response pairs and return a voc object\r\n",
        "def readVocs(datafile, corpus_name):\r\n",
        "    print(\"Reading lines...\")\r\n",
        "    # Read the file and split into lines\r\n",
        "    lines = open(datafile, encoding='utf-8').\\\r\n",
        "        read().strip().split('\\n')\r\n",
        "    # Split every line into pairs and normalize\r\n",
        "    pairs = [[normalizeString(s) for s in l.split('\\t')] for l in lines]\r\n",
        "    voc = Voc(corpus_name)\r\n",
        "    return voc, pairs\r\n",
        "\r\n",
        "# Returns True iff both sentences in a pair 'p' are under the MAX_LENGTH threshold\r\n",
        "def filterPair(p):\r\n",
        "    # Input sequences need to preserve the last word for EOS token\r\n",
        "    return len(p[0].split(' ')) < MAX_LENGTH and len(p[1].split(' ')) < MAX_LENGTH\r\n",
        "\r\n",
        "# Filter pairs using filterPair condition\r\n",
        "def filterPairs(pairs):\r\n",
        "    return [pair for pair in pairs if filterPair(pair)]\r\n",
        "\r\n",
        "# Using the functions defined above, return a populated voc object and pairs list\r\n",
        "def loadPrepareData(corpus, corpus_name, datafile, save_dir):\r\n",
        "    print(\"Start preparing training data ...\")\r\n",
        "    voc, pairs = readVocs(datafile, corpus_name)\r\n",
        "    print(\"Read {!s} sentence pairs\".format(len(pairs)))\r\n",
        "    pairs = filterPairs(pairs)\r\n",
        "    print(\"Trimmed to {!s} sentence pairs\".format(len(pairs)))\r\n",
        "    print(\"Counting words...\")\r\n",
        "    for pair in pairs:\r\n",
        "        voc.addSentence(pair[0])\r\n",
        "        voc.addSentence(pair[1])\r\n",
        "    print(\"Counted words:\", voc.num_words)\r\n",
        "    return voc, pairs\r\n",
        "\r\n",
        "\r\n",
        "# Load/Assemble voc and pairs\r\n",
        "save_dir = os.path.join(corpus, \"save\")\r\n",
        "print(save_dir)\r\n",
        "voc, pairs = loadPrepareData(corpus, corpus_name, datafile, save_dir)\r\n",
        "# Print some pairs to validate\r\n",
        "print(\"\\npairs:\")\r\n",
        "for pair in pairs[:10]:\r\n",
        "    print(pair)"
      ],
      "execution_count": 14,
      "outputs": [
        {
          "output_type": "stream",
          "text": [
            "cornell movie-dialogs corpus/save\n",
            "Start preparing training data ...\n",
            "Reading lines...\n",
            "Read 221282 sentence pairs\n",
            "Trimmed to 64271 sentence pairs\n",
            "Counting words...\n",
            "Counted words: 18008\n",
            "\n",
            "pairs:\n",
            "['there .', 'where ?']\n",
            "['you have my word . as a gentleman', 'you re sweet .']\n",
            "['hi .', 'looks like things worked out tonight huh ?']\n",
            "['you know chastity ?', 'i believe we share an art instructor']\n",
            "['have fun tonight ?', 'tons']\n",
            "['well no . . .', 'then that s all you had to say .']\n",
            "['then that s all you had to say .', 'but']\n",
            "['but', 'you always been this selfish ?']\n",
            "['do you listen to this crap ?', 'what crap ?']\n",
            "['what good stuff ?', 'the real you .']\n"
          ],
          "name": "stdout"
        }
      ]
    },
    {
      "cell_type": "markdown",
      "metadata": {
        "id": "ucXOGzD3gbAa"
      },
      "source": [
        "Another tactic that is beneficial to achieving faster convergence during training is trimming rarely used words out of our vocabulary. Decreasing the feature space will also soften the difficulty of the function that the model must learn to approximate. We will do this as a two-step process:\r\n",
        "\r\n",
        "Trim words used under MIN_COUNT threshold using the voc.trim function.\r\n",
        "Filter out pairs with trimmed words."
      ]
    },
    {
      "cell_type": "code",
      "metadata": {
        "colab": {
          "base_uri": "https://localhost:8080/"
        },
        "id": "2N_Oho3lfiys",
        "outputId": "edc2f3d9-3a1b-48be-9e61-347ecbe1f825"
      },
      "source": [
        "MIN_COUNT = 3    # Minimum word count threshold for trimming\r\n",
        "\r\n",
        "def trimRareWords(voc, pairs, MIN_COUNT):\r\n",
        "    # Trim words used under the MIN_COUNT from the voc\r\n",
        "    voc.trim(MIN_COUNT)\r\n",
        "    # Filter out pairs with trimmed words\r\n",
        "    keep_pairs = []\r\n",
        "    for pair in pairs:\r\n",
        "        input_sentence = pair[0]\r\n",
        "        output_sentence = pair[1]\r\n",
        "        keep_input = True\r\n",
        "        keep_output = True\r\n",
        "        # Check input sentence\r\n",
        "        for word in input_sentence.split(' '):\r\n",
        "            if word not in voc.word2index:\r\n",
        "                keep_input = False\r\n",
        "                break\r\n",
        "        # Check output sentence\r\n",
        "        for word in output_sentence.split(' '):\r\n",
        "            if word not in voc.word2index:\r\n",
        "                keep_output = False\r\n",
        "                break\r\n",
        "\r\n",
        "        # Only keep pairs that do not contain trimmed word(s) in their input or output sentence\r\n",
        "        if keep_input and keep_output:\r\n",
        "            keep_pairs.append(pair)\r\n",
        "\r\n",
        "    print(\"Trimmed from {} pairs to {}, {:.4f} of total\".format(len(pairs), len(keep_pairs), len(keep_pairs) / len(pairs)))\r\n",
        "    return keep_pairs\r\n",
        "\r\n",
        "\r\n",
        "# Trim voc and pairs\r\n",
        "pairs = trimRareWords(voc, pairs, MIN_COUNT)"
      ],
      "execution_count": 15,
      "outputs": [
        {
          "output_type": "stream",
          "text": [
            "keep_words 7823 / 18005 = 0.4345\n",
            "Trimmed from 64271 pairs to 53165, 0.8272 of total\n"
          ],
          "name": "stdout"
        }
      ]
    },
    {
      "cell_type": "code",
      "metadata": {
        "colab": {
          "base_uri": "https://localhost:8080/"
        },
        "id": "2jL_fBrJpZzp",
        "outputId": "8cd2dc68-36db-4cc7-d9b8-397ed6609adf"
      },
      "source": [
        "pairs[0:5]"
      ],
      "execution_count": 16,
      "outputs": [
        {
          "output_type": "execute_result",
          "data": {
            "text/plain": [
              "[['there .', 'where ?'],\n",
              " ['you have my word . as a gentleman', 'you re sweet .'],\n",
              " ['hi .', 'looks like things worked out tonight huh ?'],\n",
              " ['have fun tonight ?', 'tons'],\n",
              " ['well no . . .', 'then that s all you had to say .']]"
            ]
          },
          "metadata": {
            "tags": []
          },
          "execution_count": 16
        }
      ]
    },
    {
      "cell_type": "code",
      "metadata": {
        "colab": {
          "base_uri": "https://localhost:8080/"
        },
        "id": "Z-nI03AHhHio",
        "outputId": "85e052c8-46fb-4caf-94a6-701e74aec7d4"
      },
      "source": [
        "c = pairs[39234]\r\n",
        "print(c)\r\n",
        "test_list = [i for i in c if i]\r\n",
        "print(test_list)"
      ],
      "execution_count": 17,
      "outputs": [
        {
          "output_type": "stream",
          "text": [
            "['you know when we found your guy and', '', '', 'killed him . that s right the real john g . over a', '', '', 'year ago . i helped you find him . he s', '', '', 'already dead .', '', '', '', '', '', '', '', 'why do you keep lying to me ?', '', '', '', '', '']\n",
            "['you know when we found your guy and', 'killed him . that s right the real john g . over a', 'year ago . i helped you find him . he s', 'already dead .', 'why do you keep lying to me ?']\n"
          ],
          "name": "stdout"
        }
      ]
    },
    {
      "cell_type": "code",
      "metadata": {
        "id": "iPlaC71vu6BR"
      },
      "source": [
        "clean_pairs = [[i for i in sublist if i] for sublist in pairs]"
      ],
      "execution_count": 18,
      "outputs": []
    },
    {
      "cell_type": "code",
      "metadata": {
        "colab": {
          "base_uri": "https://localhost:8080/"
        },
        "id": "MTO6MtxFvGJ4",
        "outputId": "d0dc35b0-e43f-4dfa-8c50-00a5edd46614"
      },
      "source": [
        "len(clean_pairs)"
      ],
      "execution_count": 19,
      "outputs": [
        {
          "output_type": "execute_result",
          "data": {
            "text/plain": [
              "53165"
            ]
          },
          "metadata": {
            "tags": []
          },
          "execution_count": 19
        }
      ]
    },
    {
      "cell_type": "code",
      "metadata": {
        "id": "Q64uWbM7ibRs"
      },
      "source": [
        "import pandas as pd\r\n",
        "df = pd.DataFrame(clean_pairs)"
      ],
      "execution_count": 20,
      "outputs": []
    },
    {
      "cell_type": "code",
      "metadata": {
        "colab": {
          "base_uri": "https://localhost:8080/"
        },
        "id": "NauMEv6dv_vD",
        "outputId": "a17c0a18-605e-49c8-9be5-937729f8b882"
      },
      "source": [
        "c = clean_pairs[50807]\r\n",
        "print(c)"
      ],
      "execution_count": 21,
      "outputs": [
        {
          "output_type": "stream",
          "text": [
            "['you think i care about their', 'cause ? or yours ? not at all .', 'see america is on top now . .', '. but so was rome once . all', 'civilizations crumble . one nation succeeding over another . what does it mean in the long run ? the only important thing is to live well . and . . . living', 'well takes money .', 'you re damaged goods lady .']\n"
          ],
          "name": "stdout"
        }
      ]
    },
    {
      "cell_type": "code",
      "metadata": {
        "id": "zFgmjlUgheqE"
      },
      "source": [
        "df_trim = df[~(df[6].notnull()|df[5].notnull()|df[4].notnull()|df[3].notnull()|df[2].notnull())]"
      ],
      "execution_count": 22,
      "outputs": []
    },
    {
      "cell_type": "code",
      "metadata": {
        "colab": {
          "base_uri": "https://localhost:8080/",
          "height": 415
        },
        "id": "nSmngYeRzmkG",
        "outputId": "fb536587-b5e6-4804-d1ae-184d5332984f"
      },
      "source": [
        "df_trim[df_trim[1].notnull()]"
      ],
      "execution_count": 23,
      "outputs": [
        {
          "output_type": "execute_result",
          "data": {
            "text/html": [
              "<div>\n",
              "<style scoped>\n",
              "    .dataframe tbody tr th:only-of-type {\n",
              "        vertical-align: middle;\n",
              "    }\n",
              "\n",
              "    .dataframe tbody tr th {\n",
              "        vertical-align: top;\n",
              "    }\n",
              "\n",
              "    .dataframe thead th {\n",
              "        text-align: right;\n",
              "    }\n",
              "</style>\n",
              "<table border=\"1\" class=\"dataframe\">\n",
              "  <thead>\n",
              "    <tr style=\"text-align: right;\">\n",
              "      <th></th>\n",
              "      <th>0</th>\n",
              "      <th>1</th>\n",
              "      <th>2</th>\n",
              "      <th>3</th>\n",
              "      <th>4</th>\n",
              "      <th>5</th>\n",
              "      <th>6</th>\n",
              "    </tr>\n",
              "  </thead>\n",
              "  <tbody>\n",
              "    <tr>\n",
              "      <th>0</th>\n",
              "      <td>there .</td>\n",
              "      <td>where ?</td>\n",
              "      <td>None</td>\n",
              "      <td>None</td>\n",
              "      <td>None</td>\n",
              "      <td>None</td>\n",
              "      <td>None</td>\n",
              "    </tr>\n",
              "    <tr>\n",
              "      <th>1</th>\n",
              "      <td>you have my word . as a gentleman</td>\n",
              "      <td>you re sweet .</td>\n",
              "      <td>None</td>\n",
              "      <td>None</td>\n",
              "      <td>None</td>\n",
              "      <td>None</td>\n",
              "      <td>None</td>\n",
              "    </tr>\n",
              "    <tr>\n",
              "      <th>2</th>\n",
              "      <td>hi .</td>\n",
              "      <td>looks like things worked out tonight huh ?</td>\n",
              "      <td>None</td>\n",
              "      <td>None</td>\n",
              "      <td>None</td>\n",
              "      <td>None</td>\n",
              "      <td>None</td>\n",
              "    </tr>\n",
              "    <tr>\n",
              "      <th>3</th>\n",
              "      <td>have fun tonight ?</td>\n",
              "      <td>tons</td>\n",
              "      <td>None</td>\n",
              "      <td>None</td>\n",
              "      <td>None</td>\n",
              "      <td>None</td>\n",
              "      <td>None</td>\n",
              "    </tr>\n",
              "    <tr>\n",
              "      <th>4</th>\n",
              "      <td>well no . . .</td>\n",
              "      <td>then that s all you had to say .</td>\n",
              "      <td>None</td>\n",
              "      <td>None</td>\n",
              "      <td>None</td>\n",
              "      <td>None</td>\n",
              "      <td>None</td>\n",
              "    </tr>\n",
              "    <tr>\n",
              "      <th>...</th>\n",
              "      <td>...</td>\n",
              "      <td>...</td>\n",
              "      <td>...</td>\n",
              "      <td>...</td>\n",
              "      <td>...</td>\n",
              "      <td>...</td>\n",
              "      <td>...</td>\n",
              "    </tr>\n",
              "    <tr>\n",
              "      <th>53160</th>\n",
              "      <td>three minutes to go !</td>\n",
              "      <td>yes .</td>\n",
              "      <td>None</td>\n",
              "      <td>None</td>\n",
              "      <td>None</td>\n",
              "      <td>None</td>\n",
              "      <td>None</td>\n",
              "    </tr>\n",
              "    <tr>\n",
              "      <th>53161</th>\n",
              "      <td>another fifteen seconds to go .</td>\n",
              "      <td>do something ! stall them !</td>\n",
              "      <td>None</td>\n",
              "      <td>None</td>\n",
              "      <td>None</td>\n",
              "      <td>None</td>\n",
              "      <td>None</td>\n",
              "    </tr>\n",
              "    <tr>\n",
              "      <th>53162</th>\n",
              "      <td>yes sir name please ?</td>\n",
              "      <td>food !</td>\n",
              "      <td>None</td>\n",
              "      <td>None</td>\n",
              "      <td>None</td>\n",
              "      <td>None</td>\n",
              "      <td>None</td>\n",
              "    </tr>\n",
              "    <tr>\n",
              "      <th>53163</th>\n",
              "      <td>food !</td>\n",
              "      <td>do you have a reservation ?</td>\n",
              "      <td>None</td>\n",
              "      <td>None</td>\n",
              "      <td>None</td>\n",
              "      <td>None</td>\n",
              "      <td>None</td>\n",
              "    </tr>\n",
              "    <tr>\n",
              "      <th>53164</th>\n",
              "      <td>do you have a reservation ?</td>\n",
              "      <td>food ! !</td>\n",
              "      <td>None</td>\n",
              "      <td>None</td>\n",
              "      <td>None</td>\n",
              "      <td>None</td>\n",
              "      <td>None</td>\n",
              "    </tr>\n",
              "  </tbody>\n",
              "</table>\n",
              "<p>53116 rows × 7 columns</p>\n",
              "</div>"
            ],
            "text/plain": [
              "                                       0  ...     6\n",
              "0                                there .  ...  None\n",
              "1      you have my word . as a gentleman  ...  None\n",
              "2                                   hi .  ...  None\n",
              "3                     have fun tonight ?  ...  None\n",
              "4                          well no . . .  ...  None\n",
              "...                                  ...  ...   ...\n",
              "53160              three minutes to go !  ...  None\n",
              "53161    another fifteen seconds to go .  ...  None\n",
              "53162              yes sir name please ?  ...  None\n",
              "53163                             food !  ...  None\n",
              "53164        do you have a reservation ?  ...  None\n",
              "\n",
              "[53116 rows x 7 columns]"
            ]
          },
          "metadata": {
            "tags": []
          },
          "execution_count": 23
        }
      ]
    },
    {
      "cell_type": "code",
      "metadata": {
        "id": "5-agIu0q0BSG"
      },
      "source": [
        "df_trim = df_trim[[0,1]]"
      ],
      "execution_count": 24,
      "outputs": []
    },
    {
      "cell_type": "code",
      "metadata": {
        "colab": {
          "base_uri": "https://localhost:8080/",
          "height": 415
        },
        "id": "ThMdtHmn0Iyb",
        "outputId": "34a8c712-dc1c-4e38-b1d7-1d2d645482d8"
      },
      "source": [
        "df_trim"
      ],
      "execution_count": 25,
      "outputs": [
        {
          "output_type": "execute_result",
          "data": {
            "text/html": [
              "<div>\n",
              "<style scoped>\n",
              "    .dataframe tbody tr th:only-of-type {\n",
              "        vertical-align: middle;\n",
              "    }\n",
              "\n",
              "    .dataframe tbody tr th {\n",
              "        vertical-align: top;\n",
              "    }\n",
              "\n",
              "    .dataframe thead th {\n",
              "        text-align: right;\n",
              "    }\n",
              "</style>\n",
              "<table border=\"1\" class=\"dataframe\">\n",
              "  <thead>\n",
              "    <tr style=\"text-align: right;\">\n",
              "      <th></th>\n",
              "      <th>0</th>\n",
              "      <th>1</th>\n",
              "    </tr>\n",
              "  </thead>\n",
              "  <tbody>\n",
              "    <tr>\n",
              "      <th>0</th>\n",
              "      <td>there .</td>\n",
              "      <td>where ?</td>\n",
              "    </tr>\n",
              "    <tr>\n",
              "      <th>1</th>\n",
              "      <td>you have my word . as a gentleman</td>\n",
              "      <td>you re sweet .</td>\n",
              "    </tr>\n",
              "    <tr>\n",
              "      <th>2</th>\n",
              "      <td>hi .</td>\n",
              "      <td>looks like things worked out tonight huh ?</td>\n",
              "    </tr>\n",
              "    <tr>\n",
              "      <th>3</th>\n",
              "      <td>have fun tonight ?</td>\n",
              "      <td>tons</td>\n",
              "    </tr>\n",
              "    <tr>\n",
              "      <th>4</th>\n",
              "      <td>well no . . .</td>\n",
              "      <td>then that s all you had to say .</td>\n",
              "    </tr>\n",
              "    <tr>\n",
              "      <th>...</th>\n",
              "      <td>...</td>\n",
              "      <td>...</td>\n",
              "    </tr>\n",
              "    <tr>\n",
              "      <th>53160</th>\n",
              "      <td>three minutes to go !</td>\n",
              "      <td>yes .</td>\n",
              "    </tr>\n",
              "    <tr>\n",
              "      <th>53161</th>\n",
              "      <td>another fifteen seconds to go .</td>\n",
              "      <td>do something ! stall them !</td>\n",
              "    </tr>\n",
              "    <tr>\n",
              "      <th>53162</th>\n",
              "      <td>yes sir name please ?</td>\n",
              "      <td>food !</td>\n",
              "    </tr>\n",
              "    <tr>\n",
              "      <th>53163</th>\n",
              "      <td>food !</td>\n",
              "      <td>do you have a reservation ?</td>\n",
              "    </tr>\n",
              "    <tr>\n",
              "      <th>53164</th>\n",
              "      <td>do you have a reservation ?</td>\n",
              "      <td>food ! !</td>\n",
              "    </tr>\n",
              "  </tbody>\n",
              "</table>\n",
              "<p>53117 rows × 2 columns</p>\n",
              "</div>"
            ],
            "text/plain": [
              "                                       0                                           1\n",
              "0                                there .                                     where ?\n",
              "1      you have my word . as a gentleman                              you re sweet .\n",
              "2                                   hi .  looks like things worked out tonight huh ?\n",
              "3                     have fun tonight ?                                        tons\n",
              "4                          well no . . .            then that s all you had to say .\n",
              "...                                  ...                                         ...\n",
              "53160              three minutes to go !                                       yes .\n",
              "53161    another fifteen seconds to go .                 do something ! stall them !\n",
              "53162              yes sir name please ?                                      food !\n",
              "53163                             food !                 do you have a reservation ?\n",
              "53164        do you have a reservation ?                                    food ! !\n",
              "\n",
              "[53117 rows x 2 columns]"
            ]
          },
          "metadata": {
            "tags": []
          },
          "execution_count": 25
        }
      ]
    },
    {
      "cell_type": "code",
      "metadata": {
        "id": "Guj6ygf61KfY"
      },
      "source": [
        "df_trim.columns = ['Questions','Answers']"
      ],
      "execution_count": 26,
      "outputs": []
    },
    {
      "cell_type": "code",
      "metadata": {
        "colab": {
          "base_uri": "https://localhost:8080/",
          "height": 415
        },
        "id": "U8rKEoRL1Z80",
        "outputId": "a1d21801-3d35-4415-c24a-3c609cff07a7"
      },
      "source": [
        "df_trim"
      ],
      "execution_count": 27,
      "outputs": [
        {
          "output_type": "execute_result",
          "data": {
            "text/html": [
              "<div>\n",
              "<style scoped>\n",
              "    .dataframe tbody tr th:only-of-type {\n",
              "        vertical-align: middle;\n",
              "    }\n",
              "\n",
              "    .dataframe tbody tr th {\n",
              "        vertical-align: top;\n",
              "    }\n",
              "\n",
              "    .dataframe thead th {\n",
              "        text-align: right;\n",
              "    }\n",
              "</style>\n",
              "<table border=\"1\" class=\"dataframe\">\n",
              "  <thead>\n",
              "    <tr style=\"text-align: right;\">\n",
              "      <th></th>\n",
              "      <th>Questions</th>\n",
              "      <th>Answers</th>\n",
              "    </tr>\n",
              "  </thead>\n",
              "  <tbody>\n",
              "    <tr>\n",
              "      <th>0</th>\n",
              "      <td>there .</td>\n",
              "      <td>where ?</td>\n",
              "    </tr>\n",
              "    <tr>\n",
              "      <th>1</th>\n",
              "      <td>you have my word . as a gentleman</td>\n",
              "      <td>you re sweet .</td>\n",
              "    </tr>\n",
              "    <tr>\n",
              "      <th>2</th>\n",
              "      <td>hi .</td>\n",
              "      <td>looks like things worked out tonight huh ?</td>\n",
              "    </tr>\n",
              "    <tr>\n",
              "      <th>3</th>\n",
              "      <td>have fun tonight ?</td>\n",
              "      <td>tons</td>\n",
              "    </tr>\n",
              "    <tr>\n",
              "      <th>4</th>\n",
              "      <td>well no . . .</td>\n",
              "      <td>then that s all you had to say .</td>\n",
              "    </tr>\n",
              "    <tr>\n",
              "      <th>...</th>\n",
              "      <td>...</td>\n",
              "      <td>...</td>\n",
              "    </tr>\n",
              "    <tr>\n",
              "      <th>53160</th>\n",
              "      <td>three minutes to go !</td>\n",
              "      <td>yes .</td>\n",
              "    </tr>\n",
              "    <tr>\n",
              "      <th>53161</th>\n",
              "      <td>another fifteen seconds to go .</td>\n",
              "      <td>do something ! stall them !</td>\n",
              "    </tr>\n",
              "    <tr>\n",
              "      <th>53162</th>\n",
              "      <td>yes sir name please ?</td>\n",
              "      <td>food !</td>\n",
              "    </tr>\n",
              "    <tr>\n",
              "      <th>53163</th>\n",
              "      <td>food !</td>\n",
              "      <td>do you have a reservation ?</td>\n",
              "    </tr>\n",
              "    <tr>\n",
              "      <th>53164</th>\n",
              "      <td>do you have a reservation ?</td>\n",
              "      <td>food ! !</td>\n",
              "    </tr>\n",
              "  </tbody>\n",
              "</table>\n",
              "<p>53117 rows × 2 columns</p>\n",
              "</div>"
            ],
            "text/plain": [
              "                               Questions                                     Answers\n",
              "0                                there .                                     where ?\n",
              "1      you have my word . as a gentleman                              you re sweet .\n",
              "2                                   hi .  looks like things worked out tonight huh ?\n",
              "3                     have fun tonight ?                                        tons\n",
              "4                          well no . . .            then that s all you had to say .\n",
              "...                                  ...                                         ...\n",
              "53160              three minutes to go !                                       yes .\n",
              "53161    another fifteen seconds to go .                 do something ! stall them !\n",
              "53162              yes sir name please ?                                      food !\n",
              "53163                             food !                 do you have a reservation ?\n",
              "53164        do you have a reservation ?                                    food ! !\n",
              "\n",
              "[53117 rows x 2 columns]"
            ]
          },
          "metadata": {
            "tags": []
          },
          "execution_count": 27
        }
      ]
    },
    {
      "cell_type": "code",
      "metadata": {
        "id": "McoN8HTF3IT5"
      },
      "source": [
        "from sklearn.model_selection import train_test_split\r\n",
        "TrainX, testX, TrainY, testY = train_test_split(df_trim['Questions'], df_trim['Answers'], test_size=0.10, random_state=42)\r\n",
        "trainX, validX, trainY, validY = train_test_split(TrainX, TrainY, test_size=0.05, random_state=42)"
      ],
      "execution_count": 28,
      "outputs": []
    },
    {
      "cell_type": "code",
      "metadata": {
        "colab": {
          "base_uri": "https://localhost:8080/"
        },
        "id": "IOMMf_R0AA-s",
        "outputId": "e1a128f5-3b3d-40cd-c54b-34a3a1397114"
      },
      "source": [
        "len(validX), len(testX), len(trainX), len(validY), len(testY), len(trainY)"
      ],
      "execution_count": 29,
      "outputs": [
        {
          "output_type": "execute_result",
          "data": {
            "text/plain": [
              "(2391, 5312, 45414, 2391, 5312, 45414)"
            ]
          },
          "metadata": {
            "tags": []
          },
          "execution_count": 29
        }
      ]
    },
    {
      "cell_type": "code",
      "metadata": {
        "colab": {
          "base_uri": "https://localhost:8080/"
        },
        "id": "O_nQeXWxASSY",
        "outputId": "7b3a34e8-6881-4fa4-b84f-350b59255f3c"
      },
      "source": [
        "type(testX)"
      ],
      "execution_count": 30,
      "outputs": [
        {
          "output_type": "execute_result",
          "data": {
            "text/plain": [
              "pandas.core.series.Series"
            ]
          },
          "metadata": {
            "tags": []
          },
          "execution_count": 30
        }
      ]
    },
    {
      "cell_type": "code",
      "metadata": {
        "id": "HJrqLH0XAFwz"
      },
      "source": [
        "Train = [[trainX.tolist()[i], trainY.tolist()[i]] for i in range(len(trainX))]\r\n",
        "train_df = pd.DataFrame(Train, columns = ['QC','Answers'])\r\n",
        "train_df.to_csv('Train.csv', index =  False)\r\n",
        "\r\n",
        "Valid = [[validX.tolist()[i], validY.tolist()[i]] for i in range(len(validX))]\r\n",
        "val_df = pd.DataFrame(Valid, columns = ['QC','Answers'])\r\n",
        "val_df.to_csv('Validation.csv', index = False)\r\n",
        "\r\n",
        "Test = [[testX.tolist()[i], testY.tolist()[i]] for i in range(len(testX))]\r\n",
        "tes_df = pd.DataFrame(Test, columns = ['QC','Answers'])\r\n",
        "tes_df.to_csv('Test.csv', index = False)"
      ],
      "execution_count": 31,
      "outputs": []
    },
    {
      "cell_type": "code",
      "metadata": {
        "id": "T83hy-f1DJjq"
      },
      "source": [
        "import spacy"
      ],
      "execution_count": 32,
      "outputs": []
    },
    {
      "cell_type": "code",
      "metadata": {
        "id": "sBYfRExyB180"
      },
      "source": [
        "spacy_en = spacy.load('en')\r\n",
        "def tokenize_en(text):\r\n",
        "    \"\"\"\r\n",
        "    Tokenizes English text from a string into a list of strings\r\n",
        "    \"\"\"\r\n",
        "    return [tok.text for tok in spacy_en.tokenizer(text)]"
      ],
      "execution_count": 33,
      "outputs": []
    },
    {
      "cell_type": "code",
      "metadata": {
        "id": "VLIdFYFgCqjY"
      },
      "source": [
        "SRC = Field(tokenize=tokenize_en, \r\n",
        "            init_token='<sos>', \r\n",
        "            eos_token='<eos>', \r\n",
        "            lower=True,\r\n",
        "            batch_first = True)\r\n",
        "\r\n",
        "TRG = Field(tokenize = tokenize_en, \r\n",
        "            init_token='<sos>', \r\n",
        "            eos_token='<eos>', \r\n",
        "            lower=True,\r\n",
        "            batch_first = True)"
      ],
      "execution_count": 34,
      "outputs": []
    },
    {
      "cell_type": "code",
      "metadata": {
        "id": "lx_rUHasCuM5"
      },
      "source": [
        "train_data, valid_data, test_data = TabularDataset.splits(path='.',\r\n",
        "                                             train = 'Train.csv',\r\n",
        "                                             validation = 'Validation.csv',\r\n",
        "                                             test = 'Test.csv',\r\n",
        "                                             skip_header = True,\r\n",
        "                                             format = 'csv',\r\n",
        "                                             fields =[('src',SRC), ('trg', TRG)])"
      ],
      "execution_count": 35,
      "outputs": []
    },
    {
      "cell_type": "code",
      "metadata": {
        "colab": {
          "base_uri": "https://localhost:8080/"
        },
        "id": "nExdrf85DgW5",
        "outputId": "826e40bf-d353-4987-d27f-27244fc66c2b"
      },
      "source": [
        "vars(valid_data.examples[200])"
      ],
      "execution_count": 36,
      "outputs": [
        {
          "output_type": "execute_result",
          "data": {
            "text/plain": [
              "{'src': ['of', 'course', '.'], 'trg': ['thank', 'you', '.']}"
            ]
          },
          "metadata": {
            "tags": []
          },
          "execution_count": 36
        }
      ]
    },
    {
      "cell_type": "code",
      "metadata": {
        "id": "nxFavgeZDxUd"
      },
      "source": [
        "SRC.build_vocab(train_data, min_freq = 2)\r\n",
        "TRG.build_vocab(train_data, min_freq = 2)"
      ],
      "execution_count": 37,
      "outputs": []
    },
    {
      "cell_type": "code",
      "metadata": {
        "colab": {
          "base_uri": "https://localhost:8080/"
        },
        "id": "sbE0v5AdDz3H",
        "outputId": "eb0a04c9-5ca9-4186-fe8a-70a66d4c75fe"
      },
      "source": [
        "device = torch.device('cuda' if torch.cuda.is_available() else 'cpu')\r\n",
        "device"
      ],
      "execution_count": 38,
      "outputs": [
        {
          "output_type": "execute_result",
          "data": {
            "text/plain": [
              "device(type='cuda')"
            ]
          },
          "metadata": {
            "tags": []
          },
          "execution_count": 38
        }
      ]
    },
    {
      "cell_type": "code",
      "metadata": {
        "id": "BG_snUHAD1v7"
      },
      "source": [
        "BATCH_SIZE = 128\r\n",
        "\r\n",
        "train_iterator, valid_iterator, test_iterator = BucketIterator.splits(\r\n",
        "    (train_data, valid_data, test_data), \r\n",
        "     batch_size = BATCH_SIZE,\r\n",
        "     sort = False,\r\n",
        "     device = device)"
      ],
      "execution_count": 39,
      "outputs": []
    },
    {
      "cell_type": "code",
      "metadata": {
        "id": "VPQBJwScEDKt"
      },
      "source": [
        "class Encoder(nn.Module):\r\n",
        "    def __init__(self, \r\n",
        "                 input_dim, \r\n",
        "                 hid_dim, \r\n",
        "                 n_layers, \r\n",
        "                 n_heads, \r\n",
        "                 pf_dim,\r\n",
        "                 dropout, \r\n",
        "                 device,\r\n",
        "                 max_length = 100):\r\n",
        "        super().__init__()\r\n",
        "\r\n",
        "        self.device = device\r\n",
        "        \r\n",
        "        self.tok_embedding = nn.Embedding(input_dim, hid_dim)\r\n",
        "        self.pos_embedding = nn.Embedding(max_length, hid_dim)\r\n",
        "        \r\n",
        "        self.layers = nn.ModuleList([EncoderLayer(hid_dim, \r\n",
        "                                                  n_heads, \r\n",
        "                                                  pf_dim,\r\n",
        "                                                  dropout, \r\n",
        "                                                  device) \r\n",
        "                                     for _ in range(n_layers)])\r\n",
        "        \r\n",
        "        self.dropout = nn.Dropout(dropout)\r\n",
        "        \r\n",
        "        self.scale = torch.sqrt(torch.FloatTensor([hid_dim])).to(device)\r\n",
        "        \r\n",
        "    def forward(self, src, src_mask):\r\n",
        "        \r\n",
        "        #src = [batch size, src len]\r\n",
        "        #src_mask = [batch size, 1, 1, src len]\r\n",
        "        \r\n",
        "        batch_size = src.shape[0]\r\n",
        "        src_len = src.shape[1]\r\n",
        "        \r\n",
        "        pos = torch.arange(0, src_len).unsqueeze(0).repeat(batch_size, 1).to(self.device)\r\n",
        "        \r\n",
        "        #pos = [batch size, src len]\r\n",
        "        \r\n",
        "        src = self.dropout((self.tok_embedding(src) * self.scale) + self.pos_embedding(pos))\r\n",
        "        \r\n",
        "        #src = [batch size, src len, hid dim]\r\n",
        "        \r\n",
        "        for layer in self.layers:\r\n",
        "            src = layer(src, src_mask)\r\n",
        "            \r\n",
        "        #src = [batch size, src len, hid dim]\r\n",
        "            \r\n",
        "        return src"
      ],
      "execution_count": 40,
      "outputs": []
    },
    {
      "cell_type": "code",
      "metadata": {
        "id": "tF5S8FYAEsPX"
      },
      "source": [
        "class EncoderLayer(nn.Module):\r\n",
        "    def __init__(self, \r\n",
        "                 hid_dim, \r\n",
        "                 n_heads, \r\n",
        "                 pf_dim,  \r\n",
        "                 dropout, \r\n",
        "                 device):\r\n",
        "        super().__init__()\r\n",
        "        \r\n",
        "        self.self_attn_layer_norm = nn.LayerNorm(hid_dim)\r\n",
        "        self.ff_layer_norm = nn.LayerNorm(hid_dim)\r\n",
        "        self.self_attention = MultiHeadAttentionLayer(hid_dim, n_heads, dropout, device)\r\n",
        "        self.positionwise_feedforward = PositionwiseFeedforwardLayer(hid_dim, \r\n",
        "                                                                     pf_dim, \r\n",
        "                                                                     dropout)\r\n",
        "        self.dropout = nn.Dropout(dropout)\r\n",
        "        \r\n",
        "    def forward(self, src, src_mask):\r\n",
        "        \r\n",
        "        #src = [batch size, src len, hid dim]\r\n",
        "        #src_mask = [batch size, 1, 1, src len] \r\n",
        "                \r\n",
        "        #self attention\r\n",
        "        _src, _ = self.self_attention(src, src, src, src_mask)\r\n",
        "        \r\n",
        "        #dropout, residual connection and layer norm\r\n",
        "        src = self.self_attn_layer_norm(src + self.dropout(_src))\r\n",
        "        \r\n",
        "        #src = [batch size, src len, hid dim]\r\n",
        "        \r\n",
        "        #positionwise feedforward\r\n",
        "        _src = self.positionwise_feedforward(src)\r\n",
        "        \r\n",
        "        #dropout, residual and layer norm\r\n",
        "        src = self.ff_layer_norm(src + self.dropout(_src))\r\n",
        "        \r\n",
        "        #src = [batch size, src len, hid dim]\r\n",
        "        \r\n",
        "        return src"
      ],
      "execution_count": 41,
      "outputs": []
    },
    {
      "cell_type": "code",
      "metadata": {
        "id": "R2KxbAF3Evvu"
      },
      "source": [
        "class MultiHeadAttentionLayer(nn.Module):\r\n",
        "    def __init__(self, hid_dim, n_heads, dropout, device):\r\n",
        "        super().__init__()\r\n",
        "        \r\n",
        "        assert hid_dim % n_heads == 0\r\n",
        "        \r\n",
        "        self.hid_dim = hid_dim\r\n",
        "        self.n_heads = n_heads\r\n",
        "        self.head_dim = hid_dim // n_heads\r\n",
        "        \r\n",
        "        self.fc_q = nn.Linear(hid_dim, hid_dim)\r\n",
        "        self.fc_k = nn.Linear(hid_dim, hid_dim)\r\n",
        "        self.fc_v = nn.Linear(hid_dim, hid_dim)\r\n",
        "        \r\n",
        "        self.fc_o = nn.Linear(hid_dim, hid_dim)\r\n",
        "        \r\n",
        "        self.dropout = nn.Dropout(dropout)\r\n",
        "        \r\n",
        "        self.scale = torch.sqrt(torch.FloatTensor([self.head_dim])).to(device)\r\n",
        "        \r\n",
        "    def forward(self, query, key, value, mask = None):\r\n",
        "        \r\n",
        "        batch_size = query.shape[0]\r\n",
        "        \r\n",
        "        #query = [batch size, query len, hid dim]\r\n",
        "        #key = [batch size, key len, hid dim]\r\n",
        "        #value = [batch size, value len, hid dim]\r\n",
        "                \r\n",
        "        Q = self.fc_q(query)\r\n",
        "        K = self.fc_k(key)\r\n",
        "        V = self.fc_v(value)\r\n",
        "        \r\n",
        "        #Q = [batch size, query len, hid dim]\r\n",
        "        #K = [batch size, key len, hid dim]\r\n",
        "        #V = [batch size, value len, hid dim]\r\n",
        "                \r\n",
        "        Q = Q.view(batch_size, -1, self.n_heads, self.head_dim).permute(0, 2, 1, 3)\r\n",
        "        K = K.view(batch_size, -1, self.n_heads, self.head_dim).permute(0, 2, 1, 3)\r\n",
        "        V = V.view(batch_size, -1, self.n_heads, self.head_dim).permute(0, 2, 1, 3)\r\n",
        "        \r\n",
        "        #Q = [batch size, n heads, query len, head dim]\r\n",
        "        #K = [batch size, n heads, key len, head dim]\r\n",
        "        #V = [batch size, n heads, value len, head dim]\r\n",
        "                \r\n",
        "        energy = torch.matmul(Q, K.permute(0, 1, 3, 2)) / self.scale\r\n",
        "        \r\n",
        "        #energy = [batch size, n heads, query len, key len]\r\n",
        "        \r\n",
        "        if mask is not None:\r\n",
        "            energy = energy.masked_fill(mask == 0, -1e10)\r\n",
        "        \r\n",
        "        attention = torch.softmax(energy, dim = -1)\r\n",
        "                \r\n",
        "        #attention = [batch size, n heads, query len, key len]\r\n",
        "                \r\n",
        "        x = torch.matmul(self.dropout(attention), V)\r\n",
        "        \r\n",
        "        #x = [batch size, n heads, query len, head dim]\r\n",
        "        \r\n",
        "        x = x.permute(0, 2, 1, 3).contiguous()\r\n",
        "        \r\n",
        "        #x = [batch size, query len, n heads, head dim]\r\n",
        "        \r\n",
        "        x = x.view(batch_size, -1, self.hid_dim)\r\n",
        "        \r\n",
        "        #x = [batch size, query len, hid dim]\r\n",
        "        \r\n",
        "        x = self.fc_o(x)\r\n",
        "        \r\n",
        "        #x = [batch size, query len, hid dim]\r\n",
        "        \r\n",
        "        return x, attention"
      ],
      "execution_count": 42,
      "outputs": []
    },
    {
      "cell_type": "code",
      "metadata": {
        "id": "27gUY3CNEzW0"
      },
      "source": [
        "class PositionwiseFeedforwardLayer(nn.Module):\r\n",
        "    def __init__(self, hid_dim, pf_dim, dropout):\r\n",
        "        super().__init__()\r\n",
        "        \r\n",
        "        self.fc_1 = nn.Linear(hid_dim, pf_dim)\r\n",
        "        self.fc_2 = nn.Linear(pf_dim, hid_dim)\r\n",
        "        \r\n",
        "        self.dropout = nn.Dropout(dropout)\r\n",
        "        \r\n",
        "    def forward(self, x):\r\n",
        "        \r\n",
        "        #x = [batch size, seq len, hid dim]\r\n",
        "        \r\n",
        "        x = self.dropout(torch.relu(self.fc_1(x)))\r\n",
        "        \r\n",
        "        #x = [batch size, seq len, pf dim]\r\n",
        "        \r\n",
        "        x = self.fc_2(x)\r\n",
        "        \r\n",
        "        #x = [batch size, seq len, hid dim]\r\n",
        "        \r\n",
        "        return x"
      ],
      "execution_count": 43,
      "outputs": []
    },
    {
      "cell_type": "code",
      "metadata": {
        "id": "te9piZHwE3lb"
      },
      "source": [
        "class Decoder(nn.Module):\r\n",
        "    def __init__(self, \r\n",
        "                 output_dim, \r\n",
        "                 hid_dim, \r\n",
        "                 n_layers, \r\n",
        "                 n_heads, \r\n",
        "                 pf_dim, \r\n",
        "                 dropout, \r\n",
        "                 device,\r\n",
        "                 max_length = 100):\r\n",
        "        super().__init__()\r\n",
        "        \r\n",
        "        self.device = device\r\n",
        "        \r\n",
        "        self.tok_embedding = nn.Embedding(output_dim, hid_dim)\r\n",
        "        self.pos_embedding = nn.Embedding(max_length, hid_dim)\r\n",
        "        \r\n",
        "        self.layers = nn.ModuleList([DecoderLayer(hid_dim, \r\n",
        "                                                  n_heads, \r\n",
        "                                                  pf_dim, \r\n",
        "                                                  dropout, \r\n",
        "                                                  device)\r\n",
        "                                     for _ in range(n_layers)])\r\n",
        "        \r\n",
        "        self.fc_out = nn.Linear(hid_dim, output_dim)\r\n",
        "        \r\n",
        "        self.dropout = nn.Dropout(dropout)\r\n",
        "        \r\n",
        "        self.scale = torch.sqrt(torch.FloatTensor([hid_dim])).to(device)\r\n",
        "        \r\n",
        "    def forward(self, trg, enc_src, trg_mask, src_mask):\r\n",
        "        \r\n",
        "        #trg = [batch size, trg len]\r\n",
        "        #enc_src = [batch size, src len, hid dim]\r\n",
        "        #trg_mask = [batch size, 1, trg len, trg len]\r\n",
        "        #src_mask = [batch size, 1, 1, src len]\r\n",
        "                \r\n",
        "        batch_size = trg.shape[0]\r\n",
        "        trg_len = trg.shape[1]\r\n",
        "        \r\n",
        "        pos = torch.arange(0, trg_len).unsqueeze(0).repeat(batch_size, 1).to(self.device)\r\n",
        "                            \r\n",
        "        #pos = [batch size, trg len]\r\n",
        "            \r\n",
        "        trg = self.dropout((self.tok_embedding(trg) * self.scale) + self.pos_embedding(pos))\r\n",
        "                \r\n",
        "        #trg = [batch size, trg len, hid dim]\r\n",
        "        \r\n",
        "        for layer in self.layers:\r\n",
        "            trg, attention = layer(trg, enc_src, trg_mask, src_mask)\r\n",
        "        \r\n",
        "        #trg = [batch size, trg len, hid dim]\r\n",
        "        #attention = [batch size, n heads, trg len, src len]\r\n",
        "        \r\n",
        "        output = self.fc_out(trg)\r\n",
        "        \r\n",
        "        #output = [batch size, trg len, output dim]\r\n",
        "            \r\n",
        "        return output, attention"
      ],
      "execution_count": 44,
      "outputs": []
    },
    {
      "cell_type": "code",
      "metadata": {
        "id": "uRKEDt_wE6Xk"
      },
      "source": [
        "class DecoderLayer(nn.Module):\r\n",
        "    def __init__(self, \r\n",
        "                 hid_dim, \r\n",
        "                 n_heads, \r\n",
        "                 pf_dim, \r\n",
        "                 dropout, \r\n",
        "                 device):\r\n",
        "        super().__init__()\r\n",
        "        \r\n",
        "        self.self_attn_layer_norm = nn.LayerNorm(hid_dim)\r\n",
        "        self.enc_attn_layer_norm = nn.LayerNorm(hid_dim)\r\n",
        "        self.ff_layer_norm = nn.LayerNorm(hid_dim)\r\n",
        "        self.self_attention = MultiHeadAttentionLayer(hid_dim, n_heads, dropout, device)\r\n",
        "        self.encoder_attention = MultiHeadAttentionLayer(hid_dim, n_heads, dropout, device)\r\n",
        "        self.positionwise_feedforward = PositionwiseFeedforwardLayer(hid_dim, \r\n",
        "                                                                     pf_dim, \r\n",
        "                                                                     dropout)\r\n",
        "        self.dropout = nn.Dropout(dropout)\r\n",
        "        \r\n",
        "    def forward(self, trg, enc_src, trg_mask, src_mask):\r\n",
        "        \r\n",
        "        #trg = [batch size, trg len, hid dim]\r\n",
        "        #enc_src = [batch size, src len, hid dim]\r\n",
        "        #trg_mask = [batch size, 1, trg len, trg len]\r\n",
        "        #src_mask = [batch size, 1, 1, src len]\r\n",
        "        \r\n",
        "        #self attention\r\n",
        "        _trg, _ = self.self_attention(trg, trg, trg, trg_mask)\r\n",
        "        \r\n",
        "        #dropout, residual connection and layer norm\r\n",
        "        trg = self.self_attn_layer_norm(trg + self.dropout(_trg))\r\n",
        "            \r\n",
        "        #trg = [batch size, trg len, hid dim]\r\n",
        "            \r\n",
        "        #encoder attention\r\n",
        "        _trg, attention = self.encoder_attention(trg, enc_src, enc_src, src_mask)\r\n",
        "        # query, key, value\r\n",
        "        \r\n",
        "        #dropout, residual connection and layer norm\r\n",
        "        trg = self.enc_attn_layer_norm(trg + self.dropout(_trg))\r\n",
        "                    \r\n",
        "        #trg = [batch size, trg len, hid dim]\r\n",
        "        \r\n",
        "        #positionwise feedforward\r\n",
        "        _trg = self.positionwise_feedforward(trg)\r\n",
        "        \r\n",
        "        #dropout, residual and layer norm\r\n",
        "        trg = self.ff_layer_norm(trg + self.dropout(_trg))\r\n",
        "        \r\n",
        "        #trg = [batch size, trg len, hid dim]\r\n",
        "        #attention = [batch size, n heads, trg len, src len]\r\n",
        "        \r\n",
        "        return trg, attention"
      ],
      "execution_count": 45,
      "outputs": []
    },
    {
      "cell_type": "code",
      "metadata": {
        "id": "XMjm00vbE83B"
      },
      "source": [
        "class Seq2Seq(nn.Module):\r\n",
        "    def __init__(self, \r\n",
        "                 encoder, \r\n",
        "                 decoder, \r\n",
        "                 src_pad_idx, \r\n",
        "                 trg_pad_idx, \r\n",
        "                 device):\r\n",
        "        super().__init__()\r\n",
        "        \r\n",
        "        self.encoder = encoder\r\n",
        "        self.decoder = decoder\r\n",
        "        self.src_pad_idx = src_pad_idx\r\n",
        "        self.trg_pad_idx = trg_pad_idx\r\n",
        "        self.device = device\r\n",
        "        \r\n",
        "    def make_src_mask(self, src):\r\n",
        "        \r\n",
        "        #src = [batch size, src len]\r\n",
        "        \r\n",
        "        src_mask = (src != self.src_pad_idx).unsqueeze(1).unsqueeze(2)\r\n",
        "\r\n",
        "        #src_mask = [batch size, 1, 1, src len]\r\n",
        "\r\n",
        "        return src_mask\r\n",
        "    \r\n",
        "    def make_trg_mask(self, trg):\r\n",
        "        \r\n",
        "        #trg = [batch size, trg len]\r\n",
        "        \r\n",
        "        trg_pad_mask = (trg != self.trg_pad_idx).unsqueeze(1).unsqueeze(2)\r\n",
        "\r\n",
        "        _mask = (trg != self.trg_pad_idx)\r\n",
        "        \r\n",
        "        #trg_pad_mask = [batch size, 1, 1, trg len]\r\n",
        "        \r\n",
        "        trg_len = trg.shape[1]\r\n",
        "        \r\n",
        "        trg_sub_mask = torch.tril(torch.ones((trg_len, trg_len), device = self.device)).bool()\r\n",
        "        \r\n",
        "        #trg_sub_mask = [trg len, trg len]\r\n",
        "            \r\n",
        "        trg_mask = trg_pad_mask & trg_sub_mask\r\n",
        "        \r\n",
        "        #trg_mask = [batch size, 1, trg len, trg len]\r\n",
        "        \r\n",
        "        return trg_mask, _mask\r\n",
        "\r\n",
        "    def forward(self, src, trg):\r\n",
        "        \r\n",
        "        #src = [batch size, src len]\r\n",
        "        #trg = [batch size, trg len]\r\n",
        "                \r\n",
        "        src_mask = self.make_src_mask(src)\r\n",
        "        trg_mask, maskL = self.make_trg_mask(trg)\r\n",
        "        \r\n",
        "        #src_mask = [batch size, 1, 1, src len]\r\n",
        "        #trg_mask = [batch size, 1, trg len, trg len]\r\n",
        "        \r\n",
        "        enc_src = self.encoder(src, src_mask)\r\n",
        "        \r\n",
        "        #enc_src = [batch size, src leng, hid dim]\r\n",
        "                \r\n",
        "        output, attention = self.decoder(trg, enc_src, trg_mask, src_mask)\r\n",
        "        \r\n",
        "        #output = [batch size, trg len, output dim]\r\n",
        "        #attention = [batch size, n heads, trg len, src len]\r\n",
        "        \r\n",
        "        #return output, attention\r\n",
        "        #return output, attention, maskL\r\n",
        "        return F.softmax(output, dim=2), attention, maskL"
      ],
      "execution_count": 46,
      "outputs": []
    },
    {
      "cell_type": "code",
      "metadata": {
        "id": "4zb6XQgPE_nF"
      },
      "source": [
        "INPUT_DIM = len(SRC.vocab)\r\n",
        "OUTPUT_DIM = len(TRG.vocab)\r\n",
        "HID_DIM = 256\r\n",
        "ENC_LAYERS = 3\r\n",
        "DEC_LAYERS = 3\r\n",
        "ENC_HEADS = 8\r\n",
        "DEC_HEADS = 8\r\n",
        "ENC_PF_DIM = 512\r\n",
        "DEC_PF_DIM = 512\r\n",
        "ENC_DROPOUT = 0.45\r\n",
        "DEC_DROPOUT = 0.45\r\n",
        "\r\n",
        "enc = Encoder(INPUT_DIM, \r\n",
        "              HID_DIM, \r\n",
        "              ENC_LAYERS, \r\n",
        "              ENC_HEADS, \r\n",
        "              ENC_PF_DIM, \r\n",
        "              ENC_DROPOUT, \r\n",
        "              device)\r\n",
        "\r\n",
        "dec = Decoder(OUTPUT_DIM, \r\n",
        "              HID_DIM, \r\n",
        "              DEC_LAYERS, \r\n",
        "              DEC_HEADS, \r\n",
        "              DEC_PF_DIM, \r\n",
        "              DEC_DROPOUT, \r\n",
        "              device)"
      ],
      "execution_count": 47,
      "outputs": []
    },
    {
      "cell_type": "code",
      "metadata": {
        "id": "nB1CaoGCFCAG"
      },
      "source": [
        "SRC_PAD_IDX = SRC.vocab.stoi[SRC.pad_token]\r\n",
        "TRG_PAD_IDX = TRG.vocab.stoi[TRG.pad_token]\r\n",
        "\r\n",
        "model = Seq2Seq(enc, dec, SRC_PAD_IDX, TRG_PAD_IDX, device).to(device)"
      ],
      "execution_count": 48,
      "outputs": []
    },
    {
      "cell_type": "code",
      "metadata": {
        "colab": {
          "base_uri": "https://localhost:8080/"
        },
        "id": "uZvnMWZVFFHU",
        "outputId": "e56c4ea0-9ac8-4ad9-b920-cd83005ffdaf"
      },
      "source": [
        "def count_parameters(model):\r\n",
        "    return sum(p.numel() for p in model.parameters() if p.requires_grad)\r\n",
        "\r\n",
        "print(f'The model has {count_parameters(model):,} trainable parameters')"
      ],
      "execution_count": 49,
      "outputs": [
        {
          "output_type": "stream",
          "text": [
            "The model has 8,006,674 trainable parameters\n"
          ],
          "name": "stdout"
        }
      ]
    },
    {
      "cell_type": "code",
      "metadata": {
        "id": "olKNPGEXFH0C"
      },
      "source": [
        "def initialize_weights(m):\r\n",
        "    if hasattr(m, 'weight') and m.weight.dim() > 1:\r\n",
        "        nn.init.xavier_uniform_(m.weight.data)"
      ],
      "execution_count": 50,
      "outputs": []
    },
    {
      "cell_type": "code",
      "metadata": {
        "id": "2RohZjdbFKYz"
      },
      "source": [
        "model.apply(initialize_weights);"
      ],
      "execution_count": 51,
      "outputs": []
    },
    {
      "cell_type": "code",
      "metadata": {
        "id": "raonDgrTFN4y"
      },
      "source": [
        "LEARNING_RATE = 0.0001\r\n",
        "\r\n",
        "optimizer = torch.optim.Adam(model.parameters(), lr = LEARNING_RATE)"
      ],
      "execution_count": 52,
      "outputs": []
    },
    {
      "cell_type": "code",
      "metadata": {
        "id": "oiSahne0FOld"
      },
      "source": [
        "#criterion = nn.CrossEntropyLoss(ignore_index = TRG_PAD_IDX)\r\n",
        "def criterion(output, target, mask):\r\n",
        "  nTotal = mask.sum()\r\n",
        "  crossEntropy = -torch.log(torch.gather(output,1, target.view(-1,1)).squeeze(1))\r\n",
        "  #crossEntropy = torch.gather(output,1, target.view(-1,1))\r\n",
        "  loss = crossEntropy.masked_select(mask).mean()\r\n",
        "  #loss = crossEntropy.masked_select(mask)\r\n",
        "  #loss[loss!=loss] = 0\r\n",
        "  #loss = loss.mean()\r\n",
        "  loss = loss.to(device)\r\n",
        "  #print(crossEntropy)\r\n",
        "  #return crossEntropy, loss, nTotal.item()\r\n",
        "  return loss, nTotal.item()"
      ],
      "execution_count": 53,
      "outputs": []
    },
    {
      "cell_type": "code",
      "metadata": {
        "colab": {
          "base_uri": "https://localhost:8080/"
        },
        "id": "Sk6HoVY3FT_Z",
        "outputId": "c31cf999-ca7a-4588-814b-38433c4ee027"
      },
      "source": [
        "## Experimenting\r\n",
        "\r\n",
        "batch = list(train_iterator)[1]\r\n",
        "model.train()\r\n",
        "src = batch.src\r\n",
        "trg = batch.trg\r\n",
        "output, _, mask = model(src, trg[:,:-1])\r\n",
        "\r\n",
        "print(output.shape, trg.shape, mask.shape)\r\n",
        "\r\n",
        "output_dim = output.shape[-1]\r\n",
        "#maskd = mask.shape[-1]\r\n",
        "output = output.contiguous().view(-1, output_dim)\r\n",
        "#print(trg.shape)\r\n",
        "trg = trg[:,1:].contiguous().view(-1)\r\n",
        "##mask = mask.squeeze(1)\r\n",
        "#mask = mask.float()\r\n",
        "#mask = mask.contiguous().view(-1)\r\n",
        "mask = mask.view(-1)\r\n",
        "#print(mask)\r\n",
        "print(output.shape, trg.shape, mask.shape)\r\n",
        "#CE, loss, _= criterion(output, trg, mask)\r\n",
        "print(trg)\r\n",
        "\r\n",
        "#crossEntropy = torch.gather(output,0, trg.view(-1,1))\r\n",
        "CE, _= criterion(output, trg, mask)\r\n",
        "print(len(CE[CE<0]))\r\n",
        "#print(loss.shape)"
      ],
      "execution_count": 54,
      "outputs": [
        {
          "output_type": "stream",
          "text": [
            "torch.Size([128, 10, 5138]) torch.Size([128, 11]) torch.Size([128, 10])\n",
            "torch.Size([1280, 5138]) torch.Size([1280]) torch.Size([1280])\n",
            "tensor([103,   7,  24,  ...,   1,   1,   1], device='cuda:0')\n",
            "0\n"
          ],
          "name": "stdout"
        }
      ]
    },
    {
      "cell_type": "code",
      "metadata": {
        "id": "EpfCH8hEFX7C"
      },
      "source": [
        "def train(model, iterator, optimizer, criterion, clip):\r\n",
        "    \r\n",
        "    model.train()\r\n",
        "    \r\n",
        "    epoch_loss = 0\r\n",
        "    \r\n",
        "    for i, batch in enumerate(iterator):\r\n",
        "        \r\n",
        "        src = batch.src\r\n",
        "        trg = batch.trg\r\n",
        "        \r\n",
        "        optimizer.zero_grad()\r\n",
        "        \r\n",
        "        output, _, mask = model(src, trg[:,:-1])\r\n",
        "                \r\n",
        "        #output = [batch size, trg len - 1, output dim]\r\n",
        "        #trg = [batch size, trg len]\r\n",
        "            \r\n",
        "        output_dim = output.shape[-1]\r\n",
        "            \r\n",
        "        output = output.contiguous().view(-1, output_dim)\r\n",
        "        trg = trg[:,1:].contiguous().view(-1)\r\n",
        "       \r\n",
        "        mask = mask.contiguous().view(-1)\r\n",
        "                \r\n",
        "        #output = [batch size * trg len - 1, output dim]\r\n",
        "        #trg = [batch size * trg len - 1]\r\n",
        "            \r\n",
        "        #loss = criterion(output, trg)\r\n",
        "        loss, _ = criterion(output, trg, mask)\r\n",
        "        \r\n",
        "        loss.backward()\r\n",
        "        \r\n",
        "        torch.nn.utils.clip_grad_norm_(model.parameters(), clip)\r\n",
        "        \r\n",
        "        optimizer.step()\r\n",
        "        \r\n",
        "        epoch_loss += loss.item()\r\n",
        "        \r\n",
        "    return epoch_loss / len(iterator)"
      ],
      "execution_count": 55,
      "outputs": []
    },
    {
      "cell_type": "code",
      "metadata": {
        "id": "hgNzTAOeFY9f"
      },
      "source": [
        "def evaluate(model, iterator, criterion):\r\n",
        "    \r\n",
        "    model.eval()\r\n",
        "    \r\n",
        "    epoch_loss = 0\r\n",
        "    \r\n",
        "    with torch.no_grad():\r\n",
        "    \r\n",
        "        for i, batch in enumerate(iterator):\r\n",
        "\r\n",
        "            src = batch.src\r\n",
        "            trg = batch.trg\r\n",
        "\r\n",
        "            output, _, mask = model(src, trg[:,:-1])\r\n",
        "            \r\n",
        "            #output = [batch size, trg len - 1, output dim]\r\n",
        "            #trg = [batch size, trg len]\r\n",
        "            \r\n",
        "            output_dim = output.shape[-1]\r\n",
        "            \r\n",
        "            output = output.contiguous().view(-1, output_dim)\r\n",
        "            trg = trg[:,1:].contiguous().view(-1)\r\n",
        "\r\n",
        "            mask = mask.contiguous().view(-1)\r\n",
        "            \r\n",
        "            #output = [batch size * trg len - 1, output dim]\r\n",
        "            #trg = [batch size * trg len - 1]\r\n",
        "            \r\n",
        "            #loss = criterion(output, trg)\r\n",
        "\r\n",
        "            loss, _  = criterion(output, trg, mask)\r\n",
        "\r\n",
        "            epoch_loss += loss.item()\r\n",
        "        \r\n",
        "    return epoch_loss / len(iterator)"
      ],
      "execution_count": 56,
      "outputs": []
    },
    {
      "cell_type": "code",
      "metadata": {
        "id": "SWvSedOKFbL8"
      },
      "source": [
        "def epoch_time(start_time, end_time):\r\n",
        "    elapsed_time = end_time - start_time\r\n",
        "    elapsed_mins = int(elapsed_time / 60)\r\n",
        "    elapsed_secs = int(elapsed_time - (elapsed_mins * 60))\r\n",
        "    return elapsed_mins, elapsed_secs"
      ],
      "execution_count": 57,
      "outputs": []
    },
    {
      "cell_type": "code",
      "metadata": {
        "colab": {
          "base_uri": "https://localhost:8080/"
        },
        "id": "N4B32j9bFdDp",
        "outputId": "ffe9816a-837f-45b1-9758-2bd5ff80b57e"
      },
      "source": [
        "import time\r\n",
        "N_EPOCHS = 100\r\n",
        "CLIP = 1\r\n",
        "\r\n",
        "best_valid_loss = float('inf')\r\n",
        "\r\n",
        "for epoch in range(N_EPOCHS):\r\n",
        "    \r\n",
        "    start_time = time.time()\r\n",
        "    \r\n",
        "    train_loss = train(model, train_iterator, optimizer, criterion, CLIP)\r\n",
        "    valid_loss = evaluate(model, valid_iterator, criterion)\r\n",
        "    \r\n",
        "    end_time = time.time()\r\n",
        "    \r\n",
        "    epoch_mins, epoch_secs = epoch_time(start_time, end_time)\r\n",
        "    \r\n",
        "    if valid_loss < best_valid_loss:\r\n",
        "        best_valid_loss = valid_loss\r\n",
        "        torch.save(model.state_dict(), 'tut6-model.pt')\r\n",
        "    \r\n",
        "    print(f'Epoch: {epoch+1:02} | Time: {epoch_mins}m {epoch_secs}s')\r\n",
        "    print(f'\\tTrain Loss: {train_loss:.3f} | Train PPL: {math.exp(train_loss):7.3f}')\r\n",
        "    print(f'\\t Val. Loss: {valid_loss:.3f} |  Val. PPL: {math.exp(valid_loss):7.3f}')"
      ],
      "execution_count": 58,
      "outputs": [
        {
          "output_type": "stream",
          "text": [
            "Epoch: 01 | Time: 0m 17s\n",
            "\tTrain Loss: 5.211 | Train PPL: 183.305\n",
            "\t Val. Loss: 3.948 |  Val. PPL:  51.843\n",
            "Epoch: 02 | Time: 0m 16s\n",
            "\tTrain Loss: 3.927 | Train PPL:  50.776\n",
            "\t Val. Loss: 3.703 |  Val. PPL:  40.577\n",
            "Epoch: 03 | Time: 0m 16s\n",
            "\tTrain Loss: 3.730 | Train PPL:  41.661\n",
            "\t Val. Loss: 3.583 |  Val. PPL:  35.995\n",
            "Epoch: 04 | Time: 0m 16s\n",
            "\tTrain Loss: 3.606 | Train PPL:  36.825\n",
            "\t Val. Loss: 3.513 |  Val. PPL:  33.538\n",
            "Epoch: 05 | Time: 0m 16s\n",
            "\tTrain Loss: 3.517 | Train PPL:  33.696\n",
            "\t Val. Loss: 3.415 |  Val. PPL:  30.403\n",
            "Epoch: 06 | Time: 0m 17s\n",
            "\tTrain Loss: 3.440 | Train PPL:  31.173\n",
            "\t Val. Loss: 3.364 |  Val. PPL:  28.900\n",
            "Epoch: 07 | Time: 0m 17s\n",
            "\tTrain Loss: 3.378 | Train PPL:  29.308\n",
            "\t Val. Loss: 3.302 |  Val. PPL:  27.161\n",
            "Epoch: 08 | Time: 0m 17s\n",
            "\tTrain Loss: 3.332 | Train PPL:  27.997\n",
            "\t Val. Loss: 3.269 |  Val. PPL:  26.282\n",
            "Epoch: 09 | Time: 0m 17s\n",
            "\tTrain Loss: 3.295 | Train PPL:  26.976\n",
            "\t Val. Loss: 3.245 |  Val. PPL:  25.659\n",
            "Epoch: 10 | Time: 0m 17s\n",
            "\tTrain Loss: 3.263 | Train PPL:  26.121\n",
            "\t Val. Loss: 3.211 |  Val. PPL:  24.804\n",
            "Epoch: 11 | Time: 0m 17s\n",
            "\tTrain Loss: 3.234 | Train PPL:  25.381\n",
            "\t Val. Loss: 3.202 |  Val. PPL:  24.578\n",
            "Epoch: 12 | Time: 0m 17s\n",
            "\tTrain Loss: 3.209 | Train PPL:  24.753\n",
            "\t Val. Loss: 3.179 |  Val. PPL:  24.017\n",
            "Epoch: 13 | Time: 0m 17s\n",
            "\tTrain Loss: 3.184 | Train PPL:  24.148\n",
            "\t Val. Loss: 3.169 |  Val. PPL:  23.795\n",
            "Epoch: 14 | Time: 0m 17s\n",
            "\tTrain Loss: 3.161 | Train PPL:  23.589\n",
            "\t Val. Loss: 3.163 |  Val. PPL:  23.635\n",
            "Epoch: 15 | Time: 0m 17s\n",
            "\tTrain Loss: 3.141 | Train PPL:  23.115\n",
            "\t Val. Loss: 3.146 |  Val. PPL:  23.232\n",
            "Epoch: 16 | Time: 0m 17s\n",
            "\tTrain Loss: 3.121 | Train PPL:  22.662\n",
            "\t Val. Loss: 3.131 |  Val. PPL:  22.903\n",
            "Epoch: 17 | Time: 0m 17s\n",
            "\tTrain Loss: 3.100 | Train PPL:  22.199\n",
            "\t Val. Loss: 3.124 |  Val. PPL:  22.728\n",
            "Epoch: 18 | Time: 0m 17s\n",
            "\tTrain Loss: 3.083 | Train PPL:  21.830\n",
            "\t Val. Loss: 3.111 |  Val. PPL:  22.446\n",
            "Epoch: 19 | Time: 0m 17s\n",
            "\tTrain Loss: 3.066 | Train PPL:  21.456\n",
            "\t Val. Loss: 3.111 |  Val. PPL:  22.445\n",
            "Epoch: 20 | Time: 0m 17s\n",
            "\tTrain Loss: 3.049 | Train PPL:  21.086\n",
            "\t Val. Loss: 3.105 |  Val. PPL:  22.320\n",
            "Epoch: 21 | Time: 0m 17s\n",
            "\tTrain Loss: 3.032 | Train PPL:  20.745\n",
            "\t Val. Loss: 3.101 |  Val. PPL:  22.231\n",
            "Epoch: 22 | Time: 0m 17s\n",
            "\tTrain Loss: 3.017 | Train PPL:  20.432\n",
            "\t Val. Loss: 3.087 |  Val. PPL:  21.911\n",
            "Epoch: 23 | Time: 0m 17s\n",
            "\tTrain Loss: 3.000 | Train PPL:  20.091\n",
            "\t Val. Loss: 3.082 |  Val. PPL:  21.804\n",
            "Epoch: 24 | Time: 0m 17s\n",
            "\tTrain Loss: 2.984 | Train PPL:  19.773\n",
            "\t Val. Loss: 3.076 |  Val. PPL:  21.663\n",
            "Epoch: 25 | Time: 0m 17s\n",
            "\tTrain Loss: 2.971 | Train PPL:  19.515\n",
            "\t Val. Loss: 3.075 |  Val. PPL:  21.649\n",
            "Epoch: 26 | Time: 0m 17s\n",
            "\tTrain Loss: 2.956 | Train PPL:  19.219\n",
            "\t Val. Loss: 3.065 |  Val. PPL:  21.438\n",
            "Epoch: 27 | Time: 0m 17s\n",
            "\tTrain Loss: 2.942 | Train PPL:  18.951\n",
            "\t Val. Loss: 3.057 |  Val. PPL:  21.274\n",
            "Epoch: 28 | Time: 0m 17s\n",
            "\tTrain Loss: 2.927 | Train PPL:  18.681\n",
            "\t Val. Loss: 3.056 |  Val. PPL:  21.247\n",
            "Epoch: 29 | Time: 0m 17s\n",
            "\tTrain Loss: 2.914 | Train PPL:  18.434\n",
            "\t Val. Loss: 3.053 |  Val. PPL:  21.181\n",
            "Epoch: 30 | Time: 0m 17s\n",
            "\tTrain Loss: 2.900 | Train PPL:  18.173\n",
            "\t Val. Loss: 3.040 |  Val. PPL:  20.905\n",
            "Epoch: 31 | Time: 0m 17s\n",
            "\tTrain Loss: 2.887 | Train PPL:  17.942\n",
            "\t Val. Loss: 3.041 |  Val. PPL:  20.918\n",
            "Epoch: 32 | Time: 0m 17s\n",
            "\tTrain Loss: 2.874 | Train PPL:  17.715\n",
            "\t Val. Loss: 3.036 |  Val. PPL:  20.824\n",
            "Epoch: 33 | Time: 0m 17s\n",
            "\tTrain Loss: 2.860 | Train PPL:  17.469\n",
            "\t Val. Loss: 3.028 |  Val. PPL:  20.652\n",
            "Epoch: 34 | Time: 0m 17s\n",
            "\tTrain Loss: 2.848 | Train PPL:  17.245\n",
            "\t Val. Loss: 3.025 |  Val. PPL:  20.585\n",
            "Epoch: 35 | Time: 0m 17s\n",
            "\tTrain Loss: 2.835 | Train PPL:  17.032\n",
            "\t Val. Loss: 3.023 |  Val. PPL:  20.548\n",
            "Epoch: 36 | Time: 0m 17s\n",
            "\tTrain Loss: 2.823 | Train PPL:  16.831\n",
            "\t Val. Loss: 3.026 |  Val. PPL:  20.616\n",
            "Epoch: 37 | Time: 0m 17s\n",
            "\tTrain Loss: 2.810 | Train PPL:  16.613\n",
            "\t Val. Loss: 3.017 |  Val. PPL:  20.421\n",
            "Epoch: 38 | Time: 0m 17s\n",
            "\tTrain Loss: 2.798 | Train PPL:  16.415\n",
            "\t Val. Loss: 3.024 |  Val. PPL:  20.573\n",
            "Epoch: 39 | Time: 0m 17s\n",
            "\tTrain Loss: 2.788 | Train PPL:  16.250\n",
            "\t Val. Loss: 3.018 |  Val. PPL:  20.446\n",
            "Epoch: 40 | Time: 0m 17s\n",
            "\tTrain Loss: 2.777 | Train PPL:  16.066\n",
            "\t Val. Loss: 3.015 |  Val. PPL:  20.396\n",
            "Epoch: 41 | Time: 0m 17s\n",
            "\tTrain Loss: 2.764 | Train PPL:  15.869\n",
            "\t Val. Loss: 3.006 |  Val. PPL:  20.199\n",
            "Epoch: 42 | Time: 0m 17s\n",
            "\tTrain Loss: 2.752 | Train PPL:  15.675\n",
            "\t Val. Loss: 3.005 |  Val. PPL:  20.191\n",
            "Epoch: 43 | Time: 0m 17s\n",
            "\tTrain Loss: 2.742 | Train PPL:  15.518\n",
            "\t Val. Loss: 3.002 |  Val. PPL:  20.131\n",
            "Epoch: 44 | Time: 0m 17s\n",
            "\tTrain Loss: 2.732 | Train PPL:  15.356\n",
            "\t Val. Loss: 3.003 |  Val. PPL:  20.154\n",
            "Epoch: 45 | Time: 0m 17s\n",
            "\tTrain Loss: 2.720 | Train PPL:  15.181\n",
            "\t Val. Loss: 3.009 |  Val. PPL:  20.265\n",
            "Epoch: 46 | Time: 0m 17s\n",
            "\tTrain Loss: 2.711 | Train PPL:  15.037\n",
            "\t Val. Loss: 3.002 |  Val. PPL:  20.119\n",
            "Epoch: 47 | Time: 0m 17s\n",
            "\tTrain Loss: 2.701 | Train PPL:  14.888\n",
            "\t Val. Loss: 2.999 |  Val. PPL:  20.060\n",
            "Epoch: 48 | Time: 0m 17s\n",
            "\tTrain Loss: 2.689 | Train PPL:  14.717\n",
            "\t Val. Loss: 3.002 |  Val. PPL:  20.120\n",
            "Epoch: 49 | Time: 0m 17s\n",
            "\tTrain Loss: 2.678 | Train PPL:  14.559\n",
            "\t Val. Loss: 2.995 |  Val. PPL:  19.987\n",
            "Epoch: 50 | Time: 0m 17s\n",
            "\tTrain Loss: 2.667 | Train PPL:  14.399\n",
            "\t Val. Loss: 3.005 |  Val. PPL:  20.196\n",
            "Epoch: 51 | Time: 0m 17s\n",
            "\tTrain Loss: 2.661 | Train PPL:  14.306\n",
            "\t Val. Loss: 3.000 |  Val. PPL:  20.092\n",
            "Epoch: 52 | Time: 0m 17s\n",
            "\tTrain Loss: 2.649 | Train PPL:  14.142\n",
            "\t Val. Loss: 2.996 |  Val. PPL:  19.996\n",
            "Epoch: 53 | Time: 0m 17s\n",
            "\tTrain Loss: 2.639 | Train PPL:  14.004\n",
            "\t Val. Loss: 3.001 |  Val. PPL:  20.102\n",
            "Epoch: 54 | Time: 0m 17s\n",
            "\tTrain Loss: 2.630 | Train PPL:  13.869\n",
            "\t Val. Loss: 3.005 |  Val. PPL:  20.179\n",
            "Epoch: 55 | Time: 0m 17s\n",
            "\tTrain Loss: 2.621 | Train PPL:  13.747\n",
            "\t Val. Loss: 2.999 |  Val. PPL:  20.065\n",
            "Epoch: 56 | Time: 0m 17s\n",
            "\tTrain Loss: 2.611 | Train PPL:  13.607\n",
            "\t Val. Loss: 2.996 |  Val. PPL:  20.000\n",
            "Epoch: 57 | Time: 0m 17s\n",
            "\tTrain Loss: 2.602 | Train PPL:  13.490\n",
            "\t Val. Loss: 3.008 |  Val. PPL:  20.240\n",
            "Epoch: 58 | Time: 0m 17s\n",
            "\tTrain Loss: 2.592 | Train PPL:  13.350\n",
            "\t Val. Loss: 3.003 |  Val. PPL:  20.153\n",
            "Epoch: 59 | Time: 0m 17s\n",
            "\tTrain Loss: 2.582 | Train PPL:  13.224\n",
            "\t Val. Loss: 3.009 |  Val. PPL:  20.269\n",
            "Epoch: 60 | Time: 0m 17s\n",
            "\tTrain Loss: 2.573 | Train PPL:  13.109\n",
            "\t Val. Loss: 3.008 |  Val. PPL:  20.254\n",
            "Epoch: 61 | Time: 0m 17s\n",
            "\tTrain Loss: 2.563 | Train PPL:  12.980\n",
            "\t Val. Loss: 3.011 |  Val. PPL:  20.304\n",
            "Epoch: 62 | Time: 0m 17s\n",
            "\tTrain Loss: 2.556 | Train PPL:  12.887\n",
            "\t Val. Loss: 3.009 |  Val. PPL:  20.272\n",
            "Epoch: 63 | Time: 0m 17s\n",
            "\tTrain Loss: 2.546 | Train PPL:  12.758\n",
            "\t Val. Loss: 3.006 |  Val. PPL:  20.213\n",
            "Epoch: 64 | Time: 0m 17s\n",
            "\tTrain Loss: 2.539 | Train PPL:  12.665\n",
            "\t Val. Loss: 3.012 |  Val. PPL:  20.335\n",
            "Epoch: 65 | Time: 0m 18s\n",
            "\tTrain Loss: 2.529 | Train PPL:  12.541\n",
            "\t Val. Loss: 3.021 |  Val. PPL:  20.507\n",
            "Epoch: 66 | Time: 0m 18s\n",
            "\tTrain Loss: 2.520 | Train PPL:  12.429\n",
            "\t Val. Loss: 3.016 |  Val. PPL:  20.399\n",
            "Epoch: 67 | Time: 0m 18s\n",
            "\tTrain Loss: 2.512 | Train PPL:  12.329\n",
            "\t Val. Loss: 3.019 |  Val. PPL:  20.461\n",
            "Epoch: 68 | Time: 0m 17s\n",
            "\tTrain Loss: 2.503 | Train PPL:  12.222\n",
            "\t Val. Loss: 3.017 |  Val. PPL:  20.435\n",
            "Epoch: 69 | Time: 0m 18s\n",
            "\tTrain Loss: 2.494 | Train PPL:  12.115\n",
            "\t Val. Loss: 3.020 |  Val. PPL:  20.482\n",
            "Epoch: 70 | Time: 0m 18s\n",
            "\tTrain Loss: 2.486 | Train PPL:  12.016\n",
            "\t Val. Loss: 3.022 |  Val. PPL:  20.537\n",
            "Epoch: 71 | Time: 0m 18s\n",
            "\tTrain Loss: 2.477 | Train PPL:  11.909\n",
            "\t Val. Loss: 3.017 |  Val. PPL:  20.439\n",
            "Epoch: 72 | Time: 0m 18s\n",
            "\tTrain Loss: 2.473 | Train PPL:  11.857\n",
            "\t Val. Loss: 3.026 |  Val. PPL:  20.606\n",
            "Epoch: 73 | Time: 0m 18s\n",
            "\tTrain Loss: 2.462 | Train PPL:  11.727\n",
            "\t Val. Loss: 3.032 |  Val. PPL:  20.729\n",
            "Epoch: 74 | Time: 0m 18s\n",
            "\tTrain Loss: 2.454 | Train PPL:  11.640\n",
            "\t Val. Loss: 3.030 |  Val. PPL:  20.695\n",
            "Epoch: 75 | Time: 0m 18s\n",
            "\tTrain Loss: 2.449 | Train PPL:  11.580\n",
            "\t Val. Loss: 3.035 |  Val. PPL:  20.801\n",
            "Epoch: 76 | Time: 0m 17s\n",
            "\tTrain Loss: 2.439 | Train PPL:  11.464\n",
            "\t Val. Loss: 3.029 |  Val. PPL:  20.687\n",
            "Epoch: 77 | Time: 0m 17s\n",
            "\tTrain Loss: 2.434 | Train PPL:  11.403\n",
            "\t Val. Loss: 3.037 |  Val. PPL:  20.844\n",
            "Epoch: 78 | Time: 0m 17s\n",
            "\tTrain Loss: 2.424 | Train PPL:  11.292\n",
            "\t Val. Loss: 3.041 |  Val. PPL:  20.927\n",
            "Epoch: 79 | Time: 0m 17s\n",
            "\tTrain Loss: 2.419 | Train PPL:  11.229\n",
            "\t Val. Loss: 3.038 |  Val. PPL:  20.873\n",
            "Epoch: 80 | Time: 0m 17s\n",
            "\tTrain Loss: 2.410 | Train PPL:  11.131\n",
            "\t Val. Loss: 3.044 |  Val. PPL:  20.985\n",
            "Epoch: 81 | Time: 0m 17s\n",
            "\tTrain Loss: 2.402 | Train PPL:  11.046\n",
            "\t Val. Loss: 3.042 |  Val. PPL:  20.954\n",
            "Epoch: 82 | Time: 0m 17s\n",
            "\tTrain Loss: 2.395 | Train PPL:  10.970\n",
            "\t Val. Loss: 3.047 |  Val. PPL:  21.048\n",
            "Epoch: 83 | Time: 0m 17s\n",
            "\tTrain Loss: 2.390 | Train PPL:  10.909\n",
            "\t Val. Loss: 3.052 |  Val. PPL:  21.147\n",
            "Epoch: 84 | Time: 0m 17s\n",
            "\tTrain Loss: 2.383 | Train PPL:  10.835\n",
            "\t Val. Loss: 3.056 |  Val. PPL:  21.244\n",
            "Epoch: 85 | Time: 0m 17s\n",
            "\tTrain Loss: 2.378 | Train PPL:  10.780\n",
            "\t Val. Loss: 3.050 |  Val. PPL:  21.126\n",
            "Epoch: 86 | Time: 0m 17s\n",
            "\tTrain Loss: 2.368 | Train PPL:  10.679\n",
            "\t Val. Loss: 3.062 |  Val. PPL:  21.367\n",
            "Epoch: 87 | Time: 0m 17s\n",
            "\tTrain Loss: 2.363 | Train PPL:  10.627\n",
            "\t Val. Loss: 3.066 |  Val. PPL:  21.458\n",
            "Epoch: 88 | Time: 0m 17s\n",
            "\tTrain Loss: 2.355 | Train PPL:  10.539\n",
            "\t Val. Loss: 3.061 |  Val. PPL:  21.359\n",
            "Epoch: 89 | Time: 0m 17s\n",
            "\tTrain Loss: 2.349 | Train PPL:  10.480\n",
            "\t Val. Loss: 3.071 |  Val. PPL:  21.561\n",
            "Epoch: 90 | Time: 0m 17s\n",
            "\tTrain Loss: 2.344 | Train PPL:  10.423\n",
            "\t Val. Loss: 3.078 |  Val. PPL:  21.717\n",
            "Epoch: 91 | Time: 0m 17s\n",
            "\tTrain Loss: 2.338 | Train PPL:  10.362\n",
            "\t Val. Loss: 3.079 |  Val. PPL:  21.727\n",
            "Epoch: 92 | Time: 0m 17s\n",
            "\tTrain Loss: 2.332 | Train PPL:  10.302\n",
            "\t Val. Loss: 3.084 |  Val. PPL:  21.849\n",
            "Epoch: 93 | Time: 0m 17s\n",
            "\tTrain Loss: 2.325 | Train PPL:  10.224\n",
            "\t Val. Loss: 3.079 |  Val. PPL:  21.726\n",
            "Epoch: 94 | Time: 0m 17s\n",
            "\tTrain Loss: 2.319 | Train PPL:  10.162\n",
            "\t Val. Loss: 3.087 |  Val. PPL:  21.921\n",
            "Epoch: 95 | Time: 0m 17s\n",
            "\tTrain Loss: 2.314 | Train PPL:  10.119\n",
            "\t Val. Loss: 3.092 |  Val. PPL:  22.021\n",
            "Epoch: 96 | Time: 0m 17s\n",
            "\tTrain Loss: 2.307 | Train PPL:  10.041\n",
            "\t Val. Loss: 3.095 |  Val. PPL:  22.088\n",
            "Epoch: 97 | Time: 0m 17s\n",
            "\tTrain Loss: 2.302 | Train PPL:   9.992\n",
            "\t Val. Loss: 3.087 |  Val. PPL:  21.921\n",
            "Epoch: 98 | Time: 0m 17s\n",
            "\tTrain Loss: 2.297 | Train PPL:   9.945\n",
            "\t Val. Loss: 3.097 |  Val. PPL:  22.142\n",
            "Epoch: 99 | Time: 0m 17s\n",
            "\tTrain Loss: 2.288 | Train PPL:   9.858\n",
            "\t Val. Loss: 3.102 |  Val. PPL:  22.241\n",
            "Epoch: 100 | Time: 0m 17s\n",
            "\tTrain Loss: 2.285 | Train PPL:   9.821\n",
            "\t Val. Loss: 3.101 |  Val. PPL:  22.214\n"
          ],
          "name": "stdout"
        }
      ]
    }
  ]
}